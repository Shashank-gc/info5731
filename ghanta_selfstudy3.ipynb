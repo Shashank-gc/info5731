{
 "cells": [
  {
   "cell_type": "code",
   "execution_count": 1,
   "metadata": {},
   "outputs": [],
   "source": [
    "import sys, re"
   ]
  },
  {
   "cell_type": "code",
   "execution_count": 2,
   "metadata": {},
   "outputs": [],
   "source": [
    "regex = sys.argv[1]"
   ]
  },
  {
   "cell_type": "code",
   "execution_count": 32,
   "metadata": {},
   "outputs": [
    {
     "name": "stderr",
     "output_type": "stream",
     "text": [
      "read 6 sequences, analysis complete\n"
     ]
    }
   ],
   "source": [
    "sys.stderr.write(\"read 6 sequences, analysis complete\\n\")"
   ]
  },
  {
   "cell_type": "code",
   "execution_count": 11,
   "metadata": {},
   "outputs": [],
   "source": [
    "for line in sys.stdin:\n",
    "    if re.search(regrex,line):\n",
    "        sys.stdout.write(line)"
   ]
  },
  {
   "cell_type": "code",
   "execution_count": 12,
   "metadata": {},
   "outputs": [
    {
     "name": "stdout",
     "output_type": "stream",
     "text": [
      "0\n"
     ]
    }
   ],
   "source": [
    "import sys\n",
    "count = 0\n",
    "for line in sys.stdin:\n",
    "    count += 1\n",
    "print(count)"
   ]
  },
  {
   "cell_type": "code",
   "execution_count": 46,
   "metadata": {},
   "outputs": [
    {
     "ename": "SyntaxError",
     "evalue": "invalid syntax (<ipython-input-46-f85e3cf59cf4>, line 1)",
     "output_type": "error",
     "traceback": [
      "\u001b[1;36m  File \u001b[1;32m\"<ipython-input-46-f85e3cf59cf4>\"\u001b[1;36m, line \u001b[1;32m1\u001b[0m\n\u001b[1;33m    type myfile.txt | python egrep.py \"[0-9]\" | python line_count.py\u001b[0m\n\u001b[1;37m              ^\u001b[0m\n\u001b[1;31mSyntaxError\u001b[0m\u001b[1;31m:\u001b[0m invalid syntax\n"
     ]
    }
   ],
   "source": [
    "type myfile.txt | python egrep.py \"[0-9]\" | python line_count.py"
   ]
  },
  {
   "cell_type": "code",
   "execution_count": 54,
   "metadata": {},
   "outputs": [
    {
     "name": "stdout",
     "output_type": "stream",
     "text": [
      "usage: most_common_words.py num_words\n"
     ]
    },
    {
     "ename": "SystemExit",
     "evalue": "1",
     "output_type": "error",
     "traceback": [
      "An exception has occurred, use %tb to see the full traceback.\n",
      "\u001b[1;31mSystemExit\u001b[0m\u001b[1;31m:\u001b[0m 1\n"
     ]
    },
    {
     "name": "stderr",
     "output_type": "stream",
     "text": [
      "C:\\Users\\shash\\Anaconda3\\lib\\site-packages\\IPython\\core\\interactiveshell.py:3275: UserWarning: To exit: use 'exit', 'quit', or Ctrl-D.\n",
      "  warn(\"To exit: use 'exit', 'quit', or Ctrl-D.\", stacklevel=1)\n"
     ]
    }
   ],
   "source": [
    "# most_common_words.py\n",
    "import sys\n",
    "from collections import Counter\n",
    "# pass in number of words as first argument\n",
    "try:\n",
    "    num_words = int(sys.argv[1])\n",
    "except:\n",
    "    print(\"usage: most_common_words.py num_words\")\n",
    "    sys.exit(1) # non-zero exit code indicates error\n",
    "\n",
    "counter = Counter(word.lower() # lowercase words\n",
    "    for line in sys.stdin #\n",
    "    for word in line.strip().split() # split on spaces\n",
    "    if word) # skip empty 'words'\n",
    "for word, count in counter.most_common(num_words):\n",
    "    sys.stdout.write(str(count))\n",
    "    sys.stdout.write(\"\\t\")\n",
    "    sys.stdout.write(word)\n",
    "    sys.stdout.write(\"\\n\")"
   ]
  },
  {
   "cell_type": "code",
   "execution_count": 55,
   "metadata": {},
   "outputs": [],
   "source": [
    "file_for_reading = open('myfile.txt', 'r')"
   ]
  },
  {
   "cell_type": "code",
   "execution_count": 56,
   "metadata": {},
   "outputs": [],
   "source": [
    "file_for_writing = open('myfile.txt', 'w')"
   ]
  },
  {
   "cell_type": "code",
   "execution_count": 57,
   "metadata": {},
   "outputs": [],
   "source": [
    "file_for_appending = open('appending_file.txt', 'a')"
   ]
  },
  {
   "cell_type": "code",
   "execution_count": 58,
   "metadata": {},
   "outputs": [],
   "source": [
    "file_for_writing.close()"
   ]
  },
  {
   "cell_type": "code",
   "execution_count": 61,
   "metadata": {},
   "outputs": [
    {
     "ename": "NameError",
     "evalue": "name 'myfile' is not defined",
     "output_type": "error",
     "traceback": [
      "\u001b[1;31m---------------------------------------------------------------------------\u001b[0m",
      "\u001b[1;31mNameError\u001b[0m                                 Traceback (most recent call last)",
      "\u001b[1;32m<ipython-input-61-13d7fcc680b2>\u001b[0m in \u001b[0;36m<module>\u001b[1;34m\u001b[0m\n\u001b[1;32m----> 1\u001b[1;33m \u001b[1;32mwith\u001b[0m \u001b[0mopen\u001b[0m\u001b[1;33m(\u001b[0m\u001b[0mmyfile\u001b[0m\u001b[1;33m.\u001b[0m\u001b[0mtxt\u001b[0m\u001b[1;33m,\u001b[0m\u001b[1;34m'r'\u001b[0m\u001b[1;33m)\u001b[0m \u001b[1;32mas\u001b[0m \u001b[0mf\u001b[0m\u001b[1;33m:\u001b[0m\u001b[1;33m\u001b[0m\u001b[1;33m\u001b[0m\u001b[0m\n\u001b[0m\u001b[0;32m      2\u001b[0m     \u001b[0mdata\u001b[0m \u001b[1;33m=\u001b[0m \u001b[0mfunction_that_gets_data_from\u001b[0m\u001b[1;33m(\u001b[0m\u001b[0mf\u001b[0m\u001b[1;33m)\u001b[0m\u001b[1;33m\u001b[0m\u001b[1;33m\u001b[0m\u001b[0m\n\u001b[0;32m      3\u001b[0m \u001b[0mprocess\u001b[0m\u001b[1;33m(\u001b[0m\u001b[0mdata\u001b[0m\u001b[1;33m)\u001b[0m\u001b[1;33m\u001b[0m\u001b[1;33m\u001b[0m\u001b[0m\n",
      "\u001b[1;31mNameError\u001b[0m: name 'myfile' is not defined"
     ]
    }
   ],
   "source": [
    "with open(myfile.txt,'r') as f:\n",
    "    data = function_that_gets_data_from(f)\n",
    "process(data)"
   ]
  },
  {
   "cell_type": "code",
   "execution_count": 62,
   "metadata": {},
   "outputs": [],
   "source": [
    "starts_with_hash = 0\n",
    "\n",
    "with open('myfile.txt','r') as f:\n",
    "    for line in f: # look at each line in the file\n",
    "        if re.match(\"^#\",line): # use a regex to see if it starts with '#'\n",
    "            starts_with_hash += 1 # if it does, add 1 to the count"
   ]
  },
  {
   "cell_type": "code",
   "execution_count": 63,
   "metadata": {},
   "outputs": [
    {
     "name": "stdout",
     "output_type": "stream",
     "text": [
      "0\n"
     ]
    }
   ],
   "source": [
    "print(starts_with_hash)"
   ]
  },
  {
   "cell_type": "code",
   "execution_count": 70,
   "metadata": {},
   "outputs": [
    {
     "name": "stdout",
     "output_type": "stream",
     "text": [
      "gmail.com\n",
      "yahoo.com\n",
      "yahoo.co.in\n",
      "hotmail.com\n"
     ]
    }
   ],
   "source": [
    "def get_domain(email_address):\n",
    "    print(email_address.lower().split(\"@\")[-1])\n",
    "with open('email_addresses.txt', 'r') as f:\n",
    "    domain_counts = Counter(get_domain(line.strip())\n",
    "                            for line in f\n",
    "                            if \"@\" in line)"
   ]
  },
  {
   "cell_type": "code",
   "execution_count": 80,
   "metadata": {},
   "outputs": [
    {
     "ename": "Error",
     "evalue": "iterator should return strings, not bytes (did you open the file in text mode?)",
     "output_type": "error",
     "traceback": [
      "\u001b[1;31m---------------------------------------------------------------------------\u001b[0m",
      "\u001b[1;31mError\u001b[0m                                     Traceback (most recent call last)",
      "\u001b[1;32m<ipython-input-80-e39afb221801>\u001b[0m in \u001b[0;36m<module>\u001b[1;34m\u001b[0m\n\u001b[0;32m      3\u001b[0m \u001b[1;32mwith\u001b[0m \u001b[0mopen\u001b[0m\u001b[1;33m(\u001b[0m\u001b[1;34m'tab_delimited_stock_prices.txt'\u001b[0m\u001b[1;33m,\u001b[0m \u001b[1;34m'rb'\u001b[0m\u001b[1;33m)\u001b[0m \u001b[1;32mas\u001b[0m \u001b[0mf\u001b[0m\u001b[1;33m:\u001b[0m\u001b[1;33m\u001b[0m\u001b[1;33m\u001b[0m\u001b[0m\n\u001b[0;32m      4\u001b[0m     \u001b[0mreader\u001b[0m \u001b[1;33m=\u001b[0m \u001b[0mcsv\u001b[0m\u001b[1;33m.\u001b[0m\u001b[0mreader\u001b[0m\u001b[1;33m(\u001b[0m\u001b[0mf\u001b[0m\u001b[1;33m,\u001b[0m \u001b[0mdelimiter\u001b[0m\u001b[1;33m=\u001b[0m\u001b[1;34m'\\t'\u001b[0m\u001b[1;33m)\u001b[0m\u001b[1;33m\u001b[0m\u001b[1;33m\u001b[0m\u001b[0m\n\u001b[1;32m----> 5\u001b[1;33m     \u001b[1;32mfor\u001b[0m \u001b[0mrow\u001b[0m \u001b[1;32min\u001b[0m \u001b[0mreader\u001b[0m\u001b[1;33m:\u001b[0m\u001b[1;33m\u001b[0m\u001b[1;33m\u001b[0m\u001b[0m\n\u001b[0m\u001b[0;32m      6\u001b[0m         \u001b[0mdate\u001b[0m \u001b[1;33m=\u001b[0m \u001b[0mrow\u001b[0m\u001b[1;33m[\u001b[0m\u001b[1;36m0\u001b[0m\u001b[1;33m]\u001b[0m\u001b[1;33m\u001b[0m\u001b[1;33m\u001b[0m\u001b[0m\n\u001b[0;32m      7\u001b[0m         \u001b[0msymbol\u001b[0m \u001b[1;33m=\u001b[0m \u001b[0mrow\u001b[0m\u001b[1;33m[\u001b[0m\u001b[1;36m1\u001b[0m\u001b[1;33m]\u001b[0m\u001b[1;33m\u001b[0m\u001b[1;33m\u001b[0m\u001b[0m\n",
      "\u001b[1;31mError\u001b[0m: iterator should return strings, not bytes (did you open the file in text mode?)"
     ]
    }
   ],
   "source": [
    "import csv\n",
    "\n",
    "with open('tab_delimited_stock_prices.txt', 'rb') as f:\n",
    "    reader = csv.reader(f, delimiter='\\t')\n",
    "    for row in reader:\n",
    "        date = row[0]\n",
    "        symbol = row[1]\n",
    "        closing_price = float(row[2])\n",
    "process(date, symbol, closing_price)"
   ]
  },
  {
   "cell_type": "code",
   "execution_count": 81,
   "metadata": {},
   "outputs": [
    {
     "ename": "Error",
     "evalue": "iterator should return strings, not bytes (did you open the file in text mode?)",
     "output_type": "error",
     "traceback": [
      "\u001b[1;31m---------------------------------------------------------------------------\u001b[0m",
      "\u001b[1;31mError\u001b[0m                                     Traceback (most recent call last)",
      "\u001b[1;32m<ipython-input-81-34edae8f4c3e>\u001b[0m in \u001b[0;36m<module>\u001b[1;34m\u001b[0m\n\u001b[0;32m      1\u001b[0m \u001b[1;32mwith\u001b[0m \u001b[0mopen\u001b[0m\u001b[1;33m(\u001b[0m\u001b[1;34m'colon_delimited_stock_prices.txt'\u001b[0m\u001b[1;33m,\u001b[0m \u001b[1;34m'rb'\u001b[0m\u001b[1;33m)\u001b[0m \u001b[1;32mas\u001b[0m \u001b[0mf\u001b[0m\u001b[1;33m:\u001b[0m\u001b[1;33m\u001b[0m\u001b[1;33m\u001b[0m\u001b[0m\n\u001b[0;32m      2\u001b[0m     \u001b[0mreader\u001b[0m \u001b[1;33m=\u001b[0m \u001b[0mcsv\u001b[0m\u001b[1;33m.\u001b[0m\u001b[0mreader\u001b[0m\u001b[1;33m(\u001b[0m\u001b[0mf\u001b[0m\u001b[1;33m,\u001b[0m \u001b[0mdelimiter\u001b[0m\u001b[1;33m=\u001b[0m\u001b[1;34m':'\u001b[0m\u001b[1;33m)\u001b[0m\u001b[1;33m\u001b[0m\u001b[1;33m\u001b[0m\u001b[0m\n\u001b[1;32m----> 3\u001b[1;33m     \u001b[1;32mfor\u001b[0m \u001b[0mrow\u001b[0m \u001b[1;32min\u001b[0m \u001b[0mreader\u001b[0m\u001b[1;33m:\u001b[0m\u001b[1;33m\u001b[0m\u001b[1;33m\u001b[0m\u001b[0m\n\u001b[0m\u001b[0;32m      4\u001b[0m         \u001b[0mdate\u001b[0m \u001b[1;33m=\u001b[0m \u001b[0mrow\u001b[0m\u001b[1;33m[\u001b[0m\u001b[1;34m\"date\"\u001b[0m\u001b[1;33m]\u001b[0m\u001b[1;33m\u001b[0m\u001b[1;33m\u001b[0m\u001b[0m\n\u001b[0;32m      5\u001b[0m         \u001b[0msymbol\u001b[0m \u001b[1;33m=\u001b[0m \u001b[0mrow\u001b[0m\u001b[1;33m[\u001b[0m\u001b[1;34m\"symbol\"\u001b[0m\u001b[1;33m]\u001b[0m\u001b[1;33m\u001b[0m\u001b[1;33m\u001b[0m\u001b[0m\n",
      "\u001b[1;31mError\u001b[0m: iterator should return strings, not bytes (did you open the file in text mode?)"
     ]
    }
   ],
   "source": [
    "with open('colon_delimited_stock_prices.txt', 'rb') as f:\n",
    "    reader = csv.reader(f, delimiter=':')\n",
    "    for row in reader:\n",
    "        date = row[\"date\"]\n",
    "        symbol = row[\"symbol\"]\n",
    "        closing_price = float(row[\"closing_price\"])\n",
    "        process(date, symbol, closing_price)"
   ]
  },
  {
   "cell_type": "code",
   "execution_count": 86,
   "metadata": {},
   "outputs": [
    {
     "name": "stdout",
     "output_type": "stream",
     "text": [
      "<_csv.writer object at 0x00000230F2328CA8>\n",
      "AAPL 90.91\n"
     ]
    },
    {
     "ename": "TypeError",
     "evalue": "a bytes-like object is required, not 'str'",
     "output_type": "error",
     "traceback": [
      "\u001b[1;31m---------------------------------------------------------------------------\u001b[0m",
      "\u001b[1;31mTypeError\u001b[0m                                 Traceback (most recent call last)",
      "\u001b[1;32m<ipython-input-86-9efbce133665>\u001b[0m in \u001b[0;36m<module>\u001b[1;34m\u001b[0m\n\u001b[0;32m      6\u001b[0m     \u001b[1;32mfor\u001b[0m \u001b[0mstock\u001b[0m\u001b[1;33m,\u001b[0m \u001b[0mprice\u001b[0m \u001b[1;32min\u001b[0m \u001b[0mtoday_prices\u001b[0m\u001b[1;33m.\u001b[0m\u001b[0mitems\u001b[0m\u001b[1;33m(\u001b[0m\u001b[1;33m)\u001b[0m\u001b[1;33m:\u001b[0m\u001b[1;33m\u001b[0m\u001b[1;33m\u001b[0m\u001b[0m\n\u001b[0;32m      7\u001b[0m         \u001b[0mprint\u001b[0m\u001b[1;33m(\u001b[0m\u001b[0mstock\u001b[0m\u001b[1;33m,\u001b[0m \u001b[0mprice\u001b[0m\u001b[1;33m)\u001b[0m\u001b[1;33m\u001b[0m\u001b[1;33m\u001b[0m\u001b[0m\n\u001b[1;32m----> 8\u001b[1;33m         \u001b[0mwriter\u001b[0m\u001b[1;33m.\u001b[0m\u001b[0mwriterow\u001b[0m\u001b[1;33m(\u001b[0m\u001b[1;33m[\u001b[0m\u001b[0mstock\u001b[0m\u001b[1;33m,\u001b[0m \u001b[0mprice\u001b[0m\u001b[1;33m]\u001b[0m\u001b[1;33m)\u001b[0m\u001b[1;33m\u001b[0m\u001b[1;33m\u001b[0m\u001b[0m\n\u001b[0m",
      "\u001b[1;31mTypeError\u001b[0m: a bytes-like object is required, not 'str'"
     ]
    }
   ],
   "source": [
    "today_prices = { 'AAPL' : 90.91, 'MSFT' : 41.68, 'FB' : 64.5 }\n",
    "\n",
    "with open('comma_delimited_stock_prices.txt','wb') as f:\n",
    "    writer = csv.writer(f, delimiter=',')\n",
    "    print(writer)\n",
    "    for stock, price in today_prices.items():\n",
    "        print(stock, price)\n",
    "        writer.writerow([stock, price])"
   ]
  },
  {
   "cell_type": "code",
   "execution_count": 88,
   "metadata": {},
   "outputs": [],
   "source": [
    "from bs4 import BeautifulSoup\n",
    "import requests\n",
    "html = requests.get(\"http://www.google.com\").text\n",
    "soup = BeautifulSoup(html, 'html5lib')\n",
    "first_paragraph = soup.find('p') # or just soup.p\n",
    "first_paragraph\n",
    "all_paragraphs = soup.find_all('p') # or just soup('p')\n",
    "paragraphs_with_ids = [p for p in soup('p') if p.get('id')]"
   ]
  },
  {
   "cell_type": "code",
   "execution_count": 98,
   "metadata": {},
   "outputs": [
    {
     "name": "stdout",
     "output_type": "stream",
     "text": [
      "<!DOCTYPE html>\n",
      "<html lang=\"en\"><head>\n",
      "    <!-- Google Tag Manager -->\n",
      "    <script>\n",
      "    (function(w,d,s,l,i){w[l]=w[l]||[];w[l].push({'gtm.start': new Date().getTime(),event:'gtm.js'});var f=d.getElementsByTagName(s)[0], j=d.createElement(s),dl=l!='dataLayer'?'&l='+l:'';j.async=true;j.src= 'https://www.googletagmanager.com/gtm.js?id='+i+dl;f.parentNode.insertBefore(j,f); })(window,document,'script','dataLayer','GTM-5P4V6Z');\n",
      "    </script>\n",
      "    <!-- End Google Tag Manager -->\n",
      "\n",
      "    <!-- Start Visual Website Optimizer Asynchronous Code -->\n",
      "    <script type=\"text/javascript\">\n",
      "    var _vwo_code=(function(){\n",
      "    var account_id=27087,\n",
      "    settings_tolerance=2000,\n",
      "    library_tolerance=1500,\n",
      "    use_existing_jquery=false,\n",
      "    // DO NOT EDIT BELOW THIS LINE\n",
      "    f=false,d=document;return{use_existing_jquery:function(){return use_existing_jquery;},library_tolerance:function(){return library_tolerance;},finish:function(){if(!f){f=true;var a=d.getElementById('_vis_opt_path_hides');if(a)a.parentNode.removeChild(a);}},finished:function(){return f;},load:function(a){var b=d.createElement('script');b.src=a;b.type='text/javascript';b.innerText;b.onerror=function(){_vwo_code.finish();};d.getElementsByTagName('head')[0].appendChild(b);},init:function(){settings_timer=setTimeout('_vwo_code.finish()',settings_tolerance);this.load('//dev.visualwebsiteoptimizer.com/j.php?a='+account_id+'&u='+encodeURIComponent(d.URL)+'&r='+Math.random());var a=d.createElement('style'),b='body{opacity:0 !important;filter:alpha(opacity=0) !important;background:none !important;}',h=d.getElementsByTagName('head')[0];a.setAttribute('id','_vis_opt_path_hides');a.setAttribute('type','text/css');if(a.styleSheet)a.styleSheet.cssText=b;else a.appendChild(d.createTextNode(b));h.appendChild(a);return settings_timer;}};}());_vwo_settings_timer=_vwo_code.init();\n",
      "    </script>\n",
      "<!-- End Visual Website Optimizer Asynchronous Code -->\n",
      "\n",
      "    <meta charset=\"utf-8\"/>\n",
      "    <meta content=\"IE=edge\" http-equiv=\"X-UA-Compatible\"/>\n",
      "    <meta content=\"width=device-width, initial-scale=1\" name=\"viewport\"/>\n",
      "    <!-- The above 3 meta tags *must* come first in the head; any other head content must come *after* these tags -->\n",
      "    <link href=\"//www.oreilly.com/favicon.ico\" rel=\"icon\" type=\"image/png\"/>\n",
      "    \n",
      "      \n",
      "        <meta content=\"https://covers.oreilly.com/images/0636920050728/bkt.gif\" property=\"og:image\"/>\n",
      "<meta content=\"book\" property=\"og:type\"/>\n",
      "<meta content=\"http://shop.oreilly.com/product/0636920050728.do\" property=\"og:url\"/>\n",
      "<meta content=\"Deploying to OpenShift\" property=\"og:title\"/>\n",
      "<meta content=\"summary\" name=\"twitter:card\"/>\n",
      "<meta content=\"http://shop.oreilly.com/product/0636920050728.do\" name=\"twitter:url\"/>\n",
      "<meta content=\"Get an in-depth tour of OpenShift, the container-based software deployment and management platform from Red Hat that provides a secure multi-tenant environment for the enterprise. This practical guid...\" name=\"twitter:description\"/>\n",
      "<meta content=\"https://akamaicovers.oreilly.com/images/0636920050728/cat.gif\" name=\"twitter:image\"/>\n",
      "<meta content=\"OReillyMedia\" name=\"twitter:site\"/>\n",
      "<meta content=\"Deploying to OpenShift\" name=\"twitter:title\"/>\n",
      "<meta content=\"Deploying to OpenShift\" name=\"book_title\"/>\n",
      "<meta content=\"A Guide for Busy Developers\" name=\"subtitle\"/>\n",
      "<meta content=\"Graham Dumpleton\" name=\"author\"/>\n",
      "<meta content=\"O'Reilly Media\" name=\"publisher\"/>\n",
      "<meta content=\"https://akamaicovers.oreilly.com/images/0636920050728/cat.gif\" name=\"graphic_large\"/>\n",
      "<meta content=\"https://akamaicovers.oreilly.com/images/0636920050728/bkt.gif\" name=\"graphic_medium\"/>\n",
      "<meta content=\"https://akamaicovers.oreilly.com/images/0636920050728/sm.gif\" name=\"graphic\"/>\n",
      "<meta content=\"Deploying to OpenShift, 0636920050728\" name=\"target\"/>\n",
      "<meta content=\"Deploying to OpenShift, Graham Dumpleton, 0636920050728, oreilly, O'Reilly, o'reilly\" name=\"keywords\"/>\n",
      "<meta content=\"Get an in-depth tour of OpenShift, the container-based software deployment and management platform from Red Hat that provides a secure multi-tenant environment for the enterprise. This practical guid...\" name=\"description\"/>\n",
      "<meta content=\"May. 02, 2018\" name=\"date\"/>\n",
      "<meta content=\"2018-05-02\" name=\"search_date\"/>\n",
      "<meta content=\"9781491957165\" name=\"ean\"/>\n",
      "<meta content=\"0636920050728\" name=\"search_isbn\"/>\n",
      "<meta content=\"Books\" name=\"Category\"/>\n",
      "<meta content=\"Format~Format~Format~Publisher\" name=\"SubCategory\"/>\n",
      "<meta content=\"Ebook~Safari Books Online~Print~O'Reilly Media\" name=\"SubCategory_Value\"/>\n",
      "<meta content=\"Ebook~Safari Books Online~Print~\" name=\"Format\"/>\n",
      "<meta content=\"100\" name=\"status\"/>\n",
      "<meta content=\"oreilly,\" name=\"book.tags\"/>\n",
      "<meta content=\"book\" name=\"object.type\"/>\n",
      "<meta content=\"Deploying to OpenShift\" name=\"book.title\"/>\n",
      "<meta content=\"Graham Dumpleton\" name=\"book.author\"/>\n",
      "<meta content=\"9781491957165\" name=\"book.isbn\"/>\n",
      "<meta content=\"http://shop.oreilly.com/product/0636920050728.do\" name=\"book.link\"/>\n",
      "<meta content=\"https://covers.oreilly.com/images/0636920050728/bkt.gif\" name=\"book.image\"/>\n",
      "<meta content=\"2018\" name=\"book.year\"/>\n",
      "<meta content=\"English\" name=\"language_name\"/>\n",
      "<meta content=\"English\" name=\"native_language_name\"/>\n",
      "<meta content=\"1st Edition\" name=\"edition_full\"/>\n",
      "<meta content=\"1st Edition\" name=\"bookeditionsorder\"/>\n",
      "<meta content=\"0636920050728\" name=\"bookeditionsreference\"/>\n",
      "\n",
      "      \n",
      "    \n",
      "    \n",
      "\t<title>Deploying to OpenShift - O'Reilly Media</title>\n",
      "\t<link href=\"http://shop.oreilly.com/product/0636920050728.do\" rel=\"canonical\"/>\n",
      "\n",
      "\n",
      "    <link href=\"#\" rel=\"shortcut icon\" type=\"image/png\"/>\n",
      "    <link href=\"https://cdn.oreillystatic.com/assets/css/2017_font_face.css\" rel=\"stylesheet\" type=\"text/css\"/>\n",
      "    <link href=\"https://cdn.oreillystatic.com/assets/css/norm-layout-171020.css\" rel=\"stylesheet\" type=\"text/css\"/>\n",
      "    <link href=\"https://cdn.oreillystatic.com/assets/css/norm-conferences-170317.css\" rel=\"stylesheet\" type=\"text/css\"/>\n",
      "    <link href=\"https://cdn.oreillystatic.com/assets/css/norm-shop-170705.css\" rel=\"stylesheet\" type=\"text/css\"/>\n",
      "    <script src=\"https://cdn.oreillystatic.com/ajax/libs/jquery/1.7.2/jquery.min.js\" type=\"text/javascript\"></script>\n",
      "    \n",
      "  </head>\n",
      "  <body>\n",
      "    <!-- Google Tag Manager (noscript) -->\n",
      "    <noscript><iframe height=\"0\" src=\"https://www.googletagmanager.com/ns.html?id=GTM-5P4V6Z\" style=\"display:none;visibility:hidden\" width=\"0\"></iframe></noscript>\n",
      "    <!-- End Google Tag Manager (noscript) -->\n",
      "    <header role=\"banner\">\n",
      "    <div aria-label=\"site sections\" class=\"branding-bar pa-bg\" role=\"navigation\">\n",
      "      <a class=\"logo\" href=\"https://www.oreilly.com\" title=\"home page\"><img alt=\"O'Reilly home\" onerror=\"this.src='//cdn.oreillystatic.com/images/sitewide-headers/oreilly-logo-reversed-130x23.png'; this.onerror=null;\" src=\"//cdn.oreillystatic.com/images/sitewide-headers/oreilly-logo-norm.svg\"/></a>\n",
      "      <ul class=\"top-nav\" role=\"menu\">\n",
      "        <li role=\"menuitem\"><a href=\"https://www.oreilly.com/ideas\">Ideas</a></li>\n",
      "        <li role=\"menuitem\"><a href=\"https://www.safaribooksonline.com/?utm_medium=content&amp;utm_source=oreilly.com&amp;utm_campaign=lgen&amp;utm_content=20170601+nav\">Learning Platform</a></li>\n",
      "        <li role=\"menuitem\"><a href=\"https://www.oreilly.com/conferences/\">Conferences</a></li>\n",
      "        <li role=\"menuitem\"><a href=\"https://shop.oreilly.com/\">Shop</a></li>\n",
      "      </ul>\n",
      "      <div class=\"right\">\n",
      "        <div class=\"search-nav\">\n",
      "          <form action=\"https://ssearch.oreilly.com\" class=\"search-form\" method=\"GET\" role=\"search\">\n",
      "            <label for=\"qd\"><span class=\"screen-reader-text\">Search terms</span></label>\n",
      "            <input class=\"transparent\" id=\"qd\" name=\"q\" placeholder=\"Search...\" type=\"text\" value=\"\"/>\n",
      "            <a class=\"search-cta\">\n",
      "              <span class=\"icon-search icon--white\">\n",
      "                <svg height=\"24px\" id=\"search\" viewBox=\"0 0 20 20\" width=\"19px\">\n",
      "                  <title>Search</title>\n",
      "                  <path d=\"M17.545 15.467l-3.78-3.78a6.15 6.15 0 0 0 .9-3.21c0-3.416-2.962-6.376-6.38-6.376S2.1 4.87 2.1 8.288c0 3.416 2.96 6.377 6.377 6.377 1.137 0 2.2-.31 3.115-.844l3.8 3.8c.37.372.974.372 1.345 0l.943-.942c.37-.37.236-.84-.135-1.21zm-13.54-7.18c0-2.366 1.916-4.283 4.28-4.283S12.76 6.11 12.76 8.478c0 2.365-1.918 4.283-4.283 4.283s-4.473-2.108-4.473-4.473z\"></path>\n",
      "                </svg>\n",
      "              </span>\n",
      "            </a>\n",
      "            <input class=\"hide\" type=\"submit\" value=\"Submit\"/>\n",
      "          </form>\n",
      "        </div>\n",
      "\n",
      "        <div id=\"user\">\n",
      "          <a class=\"t-c--d\" href=\"https://members.oreilly.com\" id=\"log-out\">Your Account</a>\n",
      "        </div>\n",
      "      </div> <!-- div.right -->\n",
      "\n",
      "    </div><!-- div.branding_bar -->\n",
      "\n",
      "    <div id=\"mobile-menu\">\n",
      "\n",
      "      <input id=\"menu-toggle\" name=\"menu-toggle\" type=\"checkbox\" value=\"unchecked\"/>\n",
      "      <label for=\"menu-toggle\">\n",
      "         <svg height=\"34px\" id=\"menu\" viewBox=\"-449 428 20 20\" width=\"34px\">\n",
      "            <title>Open menu</title>\n",
      "            <path d=\"M-431 433.5c0 .3-.2.5-.5.5h-15c-.3 0-.5-.2-.5-.5v-1c0-.3.2-.5.5-.5h15c.3 0 .5.2.5.5v1zM-431 438.5c0 .3-.2.5-.5.5h-15c-.3 0-.5-.2-.5-.5v-1c0-.3.2-.5.5-.5h15c.3 0 .5.2.5.5v1zM-431 443.5c0 .3-.2.5-.5.5h-15c-.3 0-.5-.2-.5-.5v-1c0-.3.2-.5.5-.5h15c.3 0 .5.2.5.5v1z\"></path>\n",
      "          </svg>\n",
      "          <svg height=\"34px\" id=\"close\" viewBox=\"-489 391 20 20\" width=\"34px\">\n",
      "            <title>Close menu</title>\n",
      "            <path d=\"M-477.6 401l4.6-4.6c.2-.2.2-.5 0-.7l-.7-.7c-.2-.2-.5-.2-.7 0l-4.6 4.6-4.6-4.6c-.2-.2-.5-.2-.7 0l-.7.7c-.2.2-.2.5 0 .7l4.6 4.6-4.6 4.6c-.2.2-.2.5 0 .7l.7.7c.2.2.5.2.7 0l4.6-4.6 4.6 4.6c.2.2.5.2.7 0l.7-.7c.2-.2.2-.5 0-.7l-4.6-4.6z\"></path>\n",
      "          </svg>\n",
      "      </label>\n",
      "\n",
      "      <div aria-label=\"site sections\" class=\"mobile-nav\" role=\"navigation\">\n",
      "        <ul class=\"mobile-top-nav\">\n",
      "          <li><a href=\"https://www.oreilly.com/ideas\">Ideas</a></li>\n",
      "          <li><a href=\"https://www.safaribooksonline.com/?utm_medium=content&amp;utm_source=oreilly.com&amp;utm_campaign=lgen&amp;utm_content=20170601+nav\">Learning Platform</a></li>\n",
      "          <li><a href=\"https://www.oreilly.com/conferences/\">Conferences</a></li>\n",
      "          <li><a href=\"https://shop.oreilly.com/\">Shop</a></li>\n",
      "        </ul>\n",
      "\n",
      "        <div class=\"search-nav\">\n",
      "          <form action=\"https://ssearch.oreilly.com\" class=\"search-form--m\" method=\"GET\" role=\"search\">\n",
      "            <label for=\"qm\"><span class=\"screen-reader-text\">Search terms</span></label>\n",
      "            <input class=\"transparent\" id=\"qm\" name=\"q\" placeholder=\"Search...\" type=\"text\" value=\"\"/>\n",
      "            <a class=\"search-cta--m\">\n",
      "              <span class=\"icon-search icon--black\">\n",
      "                <svg height=\"24px\" id=\"search\" viewBox=\"0 0 20 20\" width=\"19px\">\n",
      "                  <title>Search</title>\n",
      "                  <path d=\"M17.545 15.467l-3.78-3.78a6.15 6.15 0 0 0 .9-3.21c0-3.416-2.962-6.376-6.38-6.376S2.1 4.87 2.1 8.288c0 3.416 2.96 6.377 6.377 6.377 1.137 0 2.2-.31 3.115-.844l3.8 3.8c.37.372.974.372 1.345 0l.943-.942c.37-.37.236-.84-.135-1.21zm-13.54-7.18c0-2.366 1.916-4.283 4.28-4.283S12.76 6.11 12.76 8.478c0 2.365-1.918 4.283-4.283 4.283s-4.473-2.108-4.473-4.473z\"></path>\n",
      "                </svg>\n",
      "              </span>\n",
      "            </a>\n",
      "            <input class=\"hide\" type=\"submit\" value=\"Submit\"/>\n",
      "          </form>\n",
      "        </div>\n",
      "      </div>\n",
      "    </div>\n",
      "\n",
      "    </header>\n",
      "    <main id=\"maincontent\" role=\"main\">\n",
      "      <div class=\"title-row\">\n",
      "      <a href=\"/\" style=\"display:inline-block;\"><h2 class=\"title\">Books &amp; Videos</h2></a>\n",
      "      <form action=\"https://ssearch.oreilly.com/\" id=\"search-form\" method=\"get\" name=\"searchform\">\n",
      "\t\t\t\t\t<div class=\"search\">\n",
      "\t\t\t\t\t<fieldset>\n",
      "\t\t\t\t\t\t<span id=\"search-input\">\n",
      "\t\t\t\t\t\t\t<div class=\"searchInput\">\n",
      "\t\t\t\t\t\t\t\t<span id=\"search-field\"><input autocomplete=\"off\" class=\"yui-ac-input\" id=\"q\" maxlength=\"64\" name=\"q\" onfocus=\"this.value=checkIfDefault(this.value);\" placeholder=\"\" type=\"text\"/></span>\n",
      "\t\t\t\t\t\t\t</div>\n",
      "\t\t\t\t\t\t\t<input id=\"search-button\" type=\"submit\" value=\"Search\"/>\n",
      "\t\t\t\t\t\t</span>\n",
      "\t\t\t\t\t\t<div class=\"yui-ac-container\" id=\"autocomplete\"><div class=\"yui-ac-content\" style=\"display: none;\"><div class=\"yui-ac-hd\" style=\"display: none;\"></div><div class=\"yui-ac-bd\"><ul><li style=\"display: none;\"></li><li style=\"display: none;\"></li><li style=\"display: none;\"></li><li style=\"display: none;\"></li><li style=\"display: none;\"></li><li style=\"display: none;\"></li><li style=\"display: none;\"></li><li style=\"display: none;\"></li><li style=\"display: none;\"></li><li style=\"display: none;\"></li></ul></div><div class=\"yui-ac-ft\" style=\"display: none;\"></div></div></div>\n",
      "\t\t\t\t\t</fieldset>\n",
      "\t\t\t\t\t</div>\n",
      "\t\t\t</form>\n",
      "    </div>\n",
      "      <div id=\"banner\"></div>\n",
      "\n",
      "      \n",
      "\t<section id=\"product-image-detail-links\">\n",
      "\t\t<a href=\"https://covers.oreillystatic.com/images/0636920050728/lrg.jpg\" target=\"_blank\"><img id=\"product-image\" src=\"https://covers.oreillystatic.com/images/0636920050728/cat.gif\"/></a>\n",
      "\t\t\t<section id=\"product-detail\">\n",
      "\t\t\t\t<h1 id=\"product-title\">Deploying to OpenShift</h1>\n",
      "\n",
      "\t\t\n",
      "\t\t<h3>A Guide for Busy Developers</h3>\n",
      "\t\t\n",
      "\n",
      "\t\t\n",
      "\t\t\t<p class=\"authors\">By\n",
      "\t\t\t\n",
      "\t\t\t\t\n",
      "\t\t\t\t<a href=\"http://www.oreilly.com/pub/au/7362\" style=\"text-decoration: underline;\">\n",
      "\t\t\t\t\tGraham Dumpleton</a>\n",
      "\t\t\t\t\n",
      "\t\t\t\n",
      "\t\t\t</p>\n",
      "\t\t\n",
      "\t\t<section id=\"publisher-release-length\">\n",
      "\t\t\n",
      "\t\t\t<p><strong>Publisher:</strong> <a href=\"https://www.safaribooksonline.com/library/publisher/oreilly-media-inc/?utm_medium=referral&amp;utm_campaign=publisher&amp;utm_source=oreilly&amp;utm_content=catalog&amp;utm_content=catalog\">O'Reilly Media</a></p>\n",
      "\t\t\n",
      "\t\t\n",
      "\t\t\t<p><strong>Release Date:</strong> May 2018</p>\n",
      "\t\t\n",
      "\n",
      "\t\t\n",
      "\n",
      "\t\t\n",
      "\t\t\t\t<p><strong>Pages:</strong> 162</p>\n",
      "\t\t\n",
      "\t\t</section>\n",
      "\n",
      "\t\t<section id=\"product-links\">\n",
      "\t\t\t\n",
      "\t\t\t\t<a href=\"https://www.safaribooksonline.com/library/view/deploying-to-openshift/9781491957158/?utm_medium=referral&amp;utm_campaign=publisher&amp;utm_source=oreilly&amp;utm_content=buybox\" id=\"safari-link\">\n",
      "\t\t\t\t\t<h4>\n",
      "\t\t\t\t\t\t\n",
      "\t\t\t\t\t\t\tRead\n",
      "\t\t\t\t\t\t\n",
      "\t\t\t\t\t\ton Safari with a 10-day trial\n",
      "\t\t\t\t\t</h4>\n",
      "\t\t\t\t\t<span class=\"btn\" id=\"trial-btn\">Start your free trial<span class=\"test\"> now</span></span>\n",
      "\t\t\t\t</a>\n",
      "\t\t\t\n",
      "\n",
      "\t\t\t\n",
      "\t\t\t\t<a class=\"btn\" href=\"https://www.amazon.com/_/dp/1491957166?tag=oreilly20-20\" id=\"buy-on-amazon\">Buy on Amazon</a>\n",
      "\t\t\t\n",
      "\n",
      "\t\t\t<div id=\"more-info\">\n",
      "\t\t\t\t<p class=\"customer-service-link\">\n",
      "\t\t\t\t\t\n",
      "\t\t\t\t\t\tWhere’s the cart? Now you can get everything on <a href=\"https://www.safaribooksonline.com/?utm_medium=content&amp;utm_source=oreilly.com&amp;utm_campaign=lgen&amp;utm_content=20170628+catalog+sidebar\">Safari</a>. To purchase books, visit Amazon or your favorite retailer.\n",
      "\t\t\t\t\t\n",
      "\t\t\t\t\tQuestions? <a href=\"http://shop.oreilly.com/category/customer-service/faq.do\" id=\"customer-service\">See our FAQ</a> or contact customer service:</p>\n",
      "\t\t\t\t<p class=\"phone-numbers\">1-800-889-8969 / 707-827-7019<br/><a href=\"mailto:support@oreilly.com\">support@oreilly.com</a></p>\n",
      "\t\t\t\t\n",
      "\t\t\t\t\n",
      "\t\t\t\t<p><a href=\"http://www.oreilly.com/catalog/errata.csp?isbn=0636920050728\" id=\"errata-link\">View/Submit Errata</a></p>\n",
      "\t\t\t\t\n",
      "\n",
      "\t\t\t</div>\n",
      "\t\t</section>\n",
      "\n",
      "\t\t<section id=\"product-description\">\n",
      "\t\t<p>Get an in-depth tour of OpenShift, the container-based software deployment and management platform from Red Hat that provides a secure multi-tenant environment for the enterprise. This practical guide describes in detail how OpenShift, building on Kubernetes, enables you to automate the way you create, ship, and run applications in a containerized environment.\n",
      "</p><p>\n",
      "Author Graham Dumpleton provides the knowledge you need to make the best use of the OpenShift container platform to deploy not only your cloud-native applications, but also more traditional stateful applications. Developers and administrators will learn how to run, access, and manage containers in OpenShift, including how to orchestrate them at scale.\n",
      "</p><ul>\n",
      "<li>Build application container images from source and deploy them\n",
      "</li><li>Implement and extend application image builders\n",
      "</li><li>Use incremental and chained builds to accelerate build times\n",
      "</li><li>Automate builds by using a webhook to link OpenShift to a Git repository\n",
      "</li><li>Add configuration and secrets to the container as project resources\n",
      "</li><li>Make an application visible outside the OpenShift cluster\n",
      "</li><li>Manage persistent storage inside an OpenShift container\n",
      "</li><li>Monitor application health and manage the application lifecycle\n",
      "</li></ul>\n",
      "<p>This book is a perfect follow-up to <i>OpenShift for Developers: A Guide for Impatient Beginners</i> (O’Reilly).\n",
      "\t\t</p></section>\n",
      "\t\t</section><!-- product-detail-->\n",
      "\t</section>\n",
      "\n",
      "\t\n",
      "\n",
      "\n",
      "\n",
      "\n",
      "    </main>\n",
      "    <footer role=\"contentinfo\">\n",
      "\n",
      "    <div class=\"footer-top\">\n",
      "      <div class=\"footer-inner\">\n",
      "\n",
      "        <div aria-label=\"company info\" class=\"about-us\" role=\"navigation\">\n",
      "          <h3 class=\"title\">About Us</h3>\n",
      "          <ul role=\"menu\">\n",
      "            <li role=\"menuitem\"><a href=\"https://www.oreilly.com/about/\">Our Company</a></li>\n",
      "            <li role=\"menuitem\"><a href=\"https://www.oreilly.com/work-with-us.html\">Teach/Speak/Write</a></li>\n",
      "            <li role=\"menuitem\"><a href=\"https://www.oreilly.com/careers/\"> Careers </a></li>\n",
      "            <li role=\"menuitem\"><a href=\"https://shop.oreilly.com/category/customer-service.do\">Customer Service</a></li>\n",
      "            <li role=\"menuitem\"><a href=\"https://www.oreilly.com/about/contact.html\">Contact Us</a></li>\n",
      "          </ul>\n",
      "        </div>\n",
      "\n",
      "        <div aria-label=\"social media links\" class=\"social\" role=\"navigation\">\n",
      "          <ul role=\"menu\">\n",
      "            <li role=\"menuitem\">\n",
      "              <a class=\"icon-link\" href=\"https://twitter.com/oreillymedia\">\n",
      "                <span class=\"icon icon-twitter t-fill icon--white\">\n",
      "                  <svg height=\"20\" id=\"twitter\" viewBox=\"0 0 24.61 20\" width=\"24.61\" xmlns=\"https://www.w3.org/2000/svg\"><title>Twitter</title><path d=\"M22.09,5c0,.22,0,.44,0,.65A14.27,14.27,0,0,1,7.74,20,14.28,14.28,0,0,1,0,17.73a10.54,10.54,0,0,0,1.2.07,10.13,10.13,0,0,0,6.27-2.16,5.06,5.06,0,0,1-4.72-3.5A5.16,5.16,0,0,0,5,12,5.06,5.06,0,0,1,1,7.1V7a5,5,0,0,0,2.29.63A5,5,0,0,1,1.71.92,14.33,14.33,0,0,0,12.12,6.2,5.1,5.1,0,0,1,12,5a5,5,0,0,1,5-5h0a5,5,0,0,1,3.69,1.59A10.17,10.17,0,0,0,23.93.37a5.07,5.07,0,0,1-2.22,2.79,10.1,10.1,0,0,0,2.9-.79A10.2,10.2,0,0,1,22.09,5Z\"></path></svg>\n",
      "                </span>\n",
      "              </a>\n",
      "            </li><li role=\"menuitem\">\n",
      "              <a class=\"icon-link\" href=\"https://www.facebook.com/OReilly/\">\n",
      "                <span class=\"icon icon-facebook t-fill icon--white\">\n",
      "                  <svg height=\"20\" id=\"facebook\" viewBox=\"0 0 11.11 20\" width=\"11.11\" xmlns=\"https://www.w3.org/2000/svg\"><title>Facebook</title><path d=\"M11.11,3.48H7.94c-.38,0-.79.49-.79,1.15V6.92h4l-.6,3.27H7.14V20H3.4V10.19H0V6.92H3.4V5A4.71,4.71,0,0,1,7.94,0h3.17V3.48Z\"></path></svg>\n",
      "                </span>\n",
      "              </a>\n",
      "            </li><li role=\"menuitem\">\n",
      "              <a class=\"icon-link\" href=\"https://www.linkedin.com/company/o%27reilly-media\">\n",
      "                <span class=\"icon icon-linkedin t-fill icon--white\">\n",
      "                  <svg height=\"20\" id=\"linkedin\" viewBox=\"0 0 20 20\" width=\"20\" xmlns=\"https://www.w3.org/2000/svg\"><title>LinkedIn</title><path d=\"M4.46,2.29A2.07,2.07,0,0,1,2.29,4.46,2.07,2.07,0,0,1,.13,2.29,2.26,2.26,0,0,1,2.29,0,2.26,2.26,0,0,1,4.46,2.29ZM0,20V5.61H4.46V20ZM6.5,6.11h3.95L10.7,8h.13A4.79,4.79,0,0,1,15,5.86c2.8,0,5,1.91,5,5.86V20H15.54V12.36c0-1.78-.64-3.06-2.17-3.06a2.18,2.18,0,0,0-2,1.78,2.48,2.48,0,0,0-.13,1V20H6.75V10.45S6.62,7.26,6.5,6.11Z\"></path></svg>\n",
      "                </span>\n",
      "              </a>\n",
      "            </li><li role=\"menuitem\">\n",
      "              <a class=\"icon-link\" href=\"https://www.youtube.com/user/OreillyMedia\">\n",
      "                <span class=\"icon icon-youtube-large t-fill icon--white\">\n",
      "                  <svg height=\"20\" id=\"youtube-large\" viewBox=\"0 0 47.87 20\" width=\"47.87\" xmlns=\"https://www.w3.org/2000/svg\"><title>YouTube</title><path d=\"M16.06,13.89c-.4.54-.69.86-1.06.86s-.34-.09-.4-.37V6.51H12.8v7.66a3.92,3.92,0,0,0,.2,1.4,1.09,1.09,0,0,0,1.14.71c.63,0,1.2-.4,1.91-1.17v1.06h1.83V6.51H16.06v7.37ZM8.91,6.46a2.27,2.27,0,0,0-2,.94,3.88,3.88,0,0,0-.57,2.31v3.43a3.51,3.51,0,0,0,.54,2.2,2.56,2.56,0,0,0,2,1,2.66,2.66,0,0,0,2.06-1,3.51,3.51,0,0,0,.54-2.2V9.66a3.88,3.88,0,0,0-.57-2.31,2.57,2.57,0,0,0-2-.89Zm0,8.31c-.57,0-.86-.49-.77-1.43V9.49c-.09-1,.2-1.4.77-1.4s.86.46.77,1.4v3.83C9.74,14.29,9.46,14.77,8.91,14.77ZM4.69,3.29l-1.31,5L2,3.29H0c.4,1.2,2.4,7.66,2.4,7.66v5.29H4.31V10.94l2.4-7.66ZM36.57,8.06a1.41,1.41,0,0,0-.91.43v5.8a1.24,1.24,0,0,0,.91.43c.49,0,.71-.37.71-1.34V9.31c0-1-.2-1.26-.71-1.26ZM43.71,9.2c0-.89-.23-1.14-.8-1.14s-.83.23-.83,1.14v1.06h1.63Zm3.91-4.89a6.35,6.35,0,0,0-1.11-2.83A4.14,4.14,0,0,0,43.66.29c-4-.29-10-.29-10-.29s-6,0-10,.29a4,4,0,0,0-2.86,1.2,6,6,0,0,0-1.11,2.83,43.12,43.12,0,0,0-.29,4.6v2.14a42.42,42.42,0,0,0,.29,4.6,6.35,6.35,0,0,0,1.11,2.83,4.9,4.9,0,0,0,3.14,1.2c2.23.23,9.66.31,9.66.31s6,0,10-.31a4,4,0,0,0,2.86-1.2,6,6,0,0,0,1.11-2.83,43.12,43.12,0,0,0,.29-4.6V8.91A30.34,30.34,0,0,0,47.63,4.31Zm-22,11.86H23.71v-11h-2V3.34h6V5.17H25.66v11Zm6.89,0H30.69V15.11a2.64,2.64,0,0,1-1.91,1.17,1.21,1.21,0,0,1-1.14-.71,3.92,3.92,0,0,1-.2-1.4V6.6h1.83v7.74c0,.29.14.37.4.37s.66-.31,1.06-.86V6.6h1.83v9.57h0Zm6.6-2.86a7.6,7.6,0,0,1-.17,1.91,1.44,1.44,0,0,1-1.43,1.09,2.53,2.53,0,0,1-1.83-1.09v1H34V3.37h1.71V7.54a2.43,2.43,0,0,1,1.83-1.09,1.45,1.45,0,0,1,1.4,1.11,6.87,6.87,0,0,1,.23,1.91v3.83h0Zm3.83,1.4c.43,0,.66-.23.8-.69,0-.09,0-.51,0-1.2h1.83v.29c0,.54-.06.94-.06,1.11a2.16,2.16,0,0,1-.4,1,2.39,2.39,0,0,1-2.09,1,2.49,2.49,0,0,1-2.09-1,3.49,3.49,0,0,1-.6-2.2V9.8a3.88,3.88,0,0,1,.57-2.31,2.46,2.46,0,0,1,2.06-1,2.37,2.37,0,0,1,2,1,3.65,3.65,0,0,1,.57,2.23v2H42.11V13.4c0,.91.23,1.31.83,1.31Z\"></path></svg>\n",
      "                </span>\n",
      "              </a>\n",
      "            </li><li role=\"menuitem\">\n",
      "              <a class=\"icon-link\" href=\"https://www.oreilly.com/emails/newsletters/\">\n",
      "                <span class=\"icon icon-google t-fill icon--white\">\n",
      "                  <svg height=\"20\" id=\"email\" viewBox=\"0 0 25 20\" width=\"25\" xmlns=\"https://www.w3.org/2000/svg\"><title>Newsletters</title><path d=\"M22.5,0H2.5A2.5,2.5,0,0,0,0,2.5v15A2.51,2.51,0,0,0,2.5,20h20A2.51,2.51,0,0,0,25,17.5V2.5A2.51,2.51,0,0,0,22.5,0Zm0,5-10,6.25L2.5,5V2.5l10,6.25,10-6.25Z\"></path></svg>\n",
      "                </span>\n",
      "              </a>\n",
      "            </li>\n",
      "          </ul>\n",
      "        </div>\n",
      "      </div>\n",
      "    </div>\n",
      "\n",
      "    <div class=\"footer-bottom\">\n",
      "      <div class=\"legal\">\n",
      "        <a class=\"logo pa-bg\" href=\"https://www.oreilly.com\" title=\"O'Reilly home page\"><img alt=\"O'Reilly home\" onerror=\"this.src='//cdn.oreillystatic.com/images/sitewide-headers/oreilly-logo-reversed-130x23.png'; this.onerror=null;\" src=\"//cdn.oreillystatic.com/images/sitewide-headers/oreilly-logo-norm.svg\"/></a>\n",
      "        <p class=\"copyright\">© 2017 O’Reilly Media, Inc. All trademarks and registered trademarks appearing on oreilly.com are the property of their respective owners.</p>\n",
      "        <br/>\n",
      "\n",
      "        <p class=\"t-c pa-text\"><a href=\"https://www.oreilly.com/terms/\">Terms of Service</a> <span class=\"bullet\">•</span> <a href=\"https://www.oreilly.com/privacy.html\">Privacy Policy</a> <span class=\"bullet\">•</span> <a href=\"https://www.oreilly.com/about/editorial_independence.html\">Editorial Independence</a></p>\n",
      "      </div>\n",
      "\n",
      "      <figure class=\"animal\">\n",
      "        <img alt=\"Tarsier\" class=\"tarsier\" src=\"//cdn.oreillystatic.com/images/sitewide-headers/tarsier-footer.png\"/>\n",
      "      </figure>\n",
      "    </div>\n",
      "\n",
      "  </footer>\n",
      "    <!-- search bar - desktop behavior -->\n",
      "    \n",
      "      <script src=\"//cdn.oreillystatic.com/assets/js/norm-search-bar-170221.js\" type=\"text/javascript\"></script>\n",
      "\n",
      "      <script language=\"JavaScript\" type=\"text/javascript\"><!--\n",
      "      var s_account=\"ororeilly,orglobal\"\n",
      "      //--></script>\n",
      "      <!-- SiteCatalyst code version: H.20.2. Copyright 1997-2009 Omniture, Inc. More info available at http://www.omniture.com -->\n",
      "      <script language=\"JavaScript\" src=\"https://cdn.oreillystatic.com/assets/js/s_code.js\" type=\"text/javascript\"></script>\n",
      "      <script language=\"JavaScript\" type=\"text/javascript\"><!--\n",
      "      \n",
      "\ts.pageName=\"oreilly:store:deploying to openshift\"\n",
      "    s.channel=\"oreilly\"\n",
      "    s.events=\"prodView,event18,event2\"\n",
      "    s.products=\";0636920050728.IP;;;\"\n",
      "    s.prop1=\"oreilly:store\"\n",
      "    s.prop2=\"oreilly:store:product detail\"\n",
      "    s.prop3=\"oreilly:store:product detail:product detail\"\n",
      "    s.prop4=\"product detail\"\n",
      "    s.prop5=\"deploying to openshift\"\n",
      "    s.prop6=\"0636920050728\"\n",
      "    s.prop18=\"o&#39;reilly media\"\n",
      "\n",
      "      /************* DO NOT ALTER ANYTHING BELOW THIS LINE ! **************/\n",
      "      var s_code=s.t();if(s_code)document.write(s_code)//--></script>\n",
      "      <!-- End SiteCatalyst code version: H.20.2. -->\n",
      "      <!-- analytics.pl: 2017/4/28 7:28:08 -->\n",
      "    \n",
      "    \n",
      "\n",
      "\n",
      "\n",
      "<script type=\"text/javascript\">\n",
      "  function checkIfDefault(keyword) {\n",
      "    var defaultSearchTerm = \"Search\";\n",
      "    if(keyword==defaultSearchTerm) {\n",
      "      return '';\n",
      "    }\n",
      "    else {\n",
      "      return keyword;\n",
      "    }\n",
      "  }\n",
      "</script>\n",
      "<script src=\"//ajax.googleapis.com/ajax/libs/yui/2.6.0/build/utilities/utilities.js\" type=\"text/javascript\"></script>\n",
      "<script src=\"//ajax.googleapis.com/ajax/libs/yui/2.6.0/build/datasource/datasource-min.js\" type=\"text/javascript\"></script>\n",
      "<script src=\"//ajax.googleapis.com/ajax/libs/yui/2.6.0/build/autocomplete/autocomplete-min.js\" type=\"text/javascript\"></script>\n",
      "<script src=\"//content.atomz.com/sp10049ed9/publish/autocomplete_data.js?sp_js_cache_ver=14\" type=\"text/javascript\"></script>\n",
      "\n",
      "</body></html>\n"
     ]
    }
   ],
   "source": [
    "url = \"http://shop.oreilly.com/product/0636920050728.do\"\n",
    "soup = BeautifulSoup(requests.get(url).text, 'html5lib')\n",
    "print(soup)"
   ]
  },
  {
   "cell_type": "code",
   "execution_count": 99,
   "metadata": {},
   "outputs": [
    {
     "data": {
      "text/plain": [
       "[]"
      ]
     },
     "execution_count": 99,
     "metadata": {},
     "output_type": "execute_result"
    }
   ],
   "source": [
    "soup = BeautifulSoup(requests.get(url).text, 'html5lib')\n",
    "tds = soup('td', 'thumbtext')\n",
    "tds"
   ]
  },
  {
   "cell_type": "code",
   "execution_count": 104,
   "metadata": {},
   "outputs": [
    {
     "name": "stdout",
     "output_type": "stream",
     "text": [
      "0\n"
     ]
    }
   ],
   "source": [
    "def is_video(td):\n",
    "    \"\"\"it's a video if it has exactly one pricelabel, and if\n",
    "    the stripped text inside that pricelabel starts with 'Video'\"\"\"\n",
    "    pricelabels = td('span', 'pricelabel')\n",
    "    return (len(pricelabels) == 1 and\n",
    "        pricelabels[0].text.strip().startswith(\"Video\"))\n",
    "    title = td.find(\"div\", \"thumbheader\").a.text\n",
    "    print(title)\n",
    "print(len([td for td in tds if not is_video(td)]))\n"
   ]
  },
  {
   "cell_type": "code",
   "execution_count": 105,
   "metadata": {},
   "outputs": [
    {
     "name": "stdout",
     "output_type": "stream",
     "text": [
      "souping page 1 , 0  found so far\n",
      "souping page 2 , 0  found so far\n",
      "souping page 3 , 0  found so far\n",
      "souping page 4 , 0  found so far\n",
      "souping page 5 , 0  found so far\n",
      "souping page 6 , 0  found so far\n",
      "souping page 7 , 0  found so far\n",
      "souping page 8 , 0  found so far\n",
      "souping page 9 , 0  found so far\n",
      "souping page 10 , 0  found so far\n",
      "souping page 11 , 0  found so far\n"
     ]
    }
   ],
   "source": [
    "from bs4 import BeautifulSoup\n",
    "import requests\n",
    "from time import sleep\n",
    "base_url = \"http://shop.oreilly.com/category/browse-subjects/\" + \\\n",
    "            \"data.do?sortby=publicationDate&page=\"\n",
    "books = []\n",
    "NUM_PAGES = 11\n",
    "for page_num in range(1, NUM_PAGES + 1):\n",
    "    print(\"souping page\", page_num, \",\", len(books), \" found so far\")\n",
    "    url = base_url + str(page_num)\n",
    "    soup = BeautifulSoup(requests.get(url).text, 'html5lib')\n",
    "    \n",
    "    for td in soup('td', 'thumbtext'):\n",
    "        if not is_video(td):\n",
    "            books.append(book_info(td))\n",
    "# now be a good citizen and respect the robots.txt!\n",
    "sleep(30)"
   ]
  },
  {
   "cell_type": "code",
   "execution_count": 109,
   "metadata": {},
   "outputs": [
    {
     "data": {
      "image/png": "[encoded data removed]",
      "text/plain": [
       "<Figure size 432x288 with 1 Axes>"
      ]
     },
     "metadata": {
      "needs_background": "light"
     },
     "output_type": "display_data"
    }
   ],
   "source": [
    "def get_year(book):\n",
    "    \"\"\"book[\"date\"] looks like 'November 2014' so we need to\n",
    "    split on the space and then take the second piece\"\"\"\n",
    "    return int(book[\"date\"].split()[1])\n",
    "\n",
    "# 2014 is the last complete year of data (when I ran this)\n",
    "year_counts = Counter(get_year(book) for book in books\n",
    "                    if get_year(book) <= 2014)\n",
    "\n",
    "import matplotlib.pyplot as plt\n",
    "years = sorted(year_counts)\n",
    "book_counts = [year_counts[year] for year in years]\n",
    "plt.plot(years, book_counts)\n",
    "plt.ylabel(\"# of data books\")\n",
    "plt.title(\"Data is Big!\")\n",
    "plt.show()"
   ]
  },
  {
   "cell_type": "code",
   "execution_count": 110,
   "metadata": {},
   "outputs": [
    {
     "name": "stdout",
     "output_type": "stream",
     "text": [
      "{'title': 'Data Science Book', 'author': 'Joel Grus', 'publicationYear': 2014, 'topics': ['data', 'science', 'data science']}\n"
     ]
    }
   ],
   "source": [
    "import json\n",
    "serialized = \"\"\"{ \"title\" : \"Data Science Book\",\n",
    "                \"author\" : \"Joel Grus\",\n",
    "                \"publicationYear\" : 2014,\n",
    "                \"topics\" : [ \"data\", \"science\", \"data science\"] }\"\"\"\n",
    "\n",
    "# parse the JSON to create a Python dict\n",
    "deserialized = json.loads(serialized)\n",
    "if \"data science\" in deserialized[\"topics\"]:\n",
    "    print(deserialized)"
   ]
  },
  {
   "cell_type": "code",
   "execution_count": 111,
   "metadata": {},
   "outputs": [],
   "source": [
    "import requests, json\n",
    "endpoint = \"https://api.github.com/users/joelgrus/repos\"\n",
    "\n",
    "repos = json.loads(requests.get(endpoint).text)"
   ]
  },
  {
   "cell_type": "code",
   "execution_count": 112,
   "metadata": {},
   "outputs": [
    {
     "name": "stdout",
     "output_type": "stream",
     "text": [
      "Requirement already satisfied: python-dateutil in c:\\users\\shash\\anaconda3\\lib\\site-packages (2.7.5)\n",
      "Requirement already satisfied: six>=1.5 in c:\\users\\shash\\anaconda3\\lib\\site-packages (from python-dateutil) (1.12.0)\n"
     ]
    }
   ],
   "source": [
    "!pip install python-dateutil"
   ]
  },
  {
   "cell_type": "code",
   "execution_count": 117,
   "metadata": {},
   "outputs": [
    {
     "name": "stdout",
     "output_type": "stream",
     "text": [
      "[datetime.datetime(2017, 12, 2, 20, 13, 49, tzinfo=tzutc()), datetime.datetime(2018, 11, 30, 22, 41, 16, tzinfo=tzutc()), datetime.datetime(2018, 2, 23, 15, 51, 4, tzinfo=tzutc()), datetime.datetime(2017, 12, 19, 0, 12, 40, tzinfo=tzutc()), datetime.datetime(2018, 1, 31, 23, 51, 16, tzinfo=tzutc()), datetime.datetime(2018, 12, 19, 19, 44, 45, tzinfo=tzutc()), datetime.datetime(2018, 9, 5, 2, 43, 52, tzinfo=tzutc()), datetime.datetime(2019, 2, 1, 20, 25, 46, tzinfo=tzutc()), datetime.datetime(2013, 7, 5, 2, 2, 28, tzinfo=tzutc()), datetime.datetime(2017, 5, 10, 17, 22, 45, tzinfo=tzutc()), datetime.datetime(2013, 11, 15, 5, 33, 22, tzinfo=tzutc()), datetime.datetime(2012, 9, 18, 4, 20, 23, tzinfo=tzutc()), datetime.datetime(2016, 7, 19, 17, 34, 31, tzinfo=tzutc()), datetime.datetime(2015, 11, 11, 14, 15, 36, tzinfo=tzutc()), datetime.datetime(2016, 5, 31, 14, 33, 6, tzinfo=tzutc()), datetime.datetime(2018, 9, 22, 15, 23, 50, tzinfo=tzutc()), datetime.datetime(2015, 6, 30, 0, 33, 3, tzinfo=tzutc()), datetime.datetime(2013, 8, 21, 13, 26, 5, tzinfo=tzutc()), datetime.datetime(2013, 8, 18, 5, 3, 41, tzinfo=tzutc()), datetime.datetime(2015, 7, 30, 1, 54, 55, tzinfo=tzutc()), datetime.datetime(2018, 9, 22, 17, 30, 59, tzinfo=tzutc()), datetime.datetime(2014, 11, 9, 2, 31, 24, tzinfo=tzutc()), datetime.datetime(2013, 11, 10, 6, 52, 56, tzinfo=tzutc()), datetime.datetime(2015, 4, 8, 1, 1, 47, tzinfo=tzutc()), datetime.datetime(2016, 1, 8, 3, 33, 58, tzinfo=tzutc()), datetime.datetime(2016, 1, 21, 6, 46, 49, tzinfo=tzutc()), datetime.datetime(2013, 7, 1, 3, 36, 23, tzinfo=tzutc()), datetime.datetime(2013, 2, 22, 0, 12, 38, tzinfo=tzutc()), datetime.datetime(2016, 5, 21, 23, 57, 23, tzinfo=tzutc()), datetime.datetime(2015, 7, 2, 21, 47, 55, tzinfo=tzutc())] Counter({11: 5, 7: 5, 9: 4, 12: 3, 2: 3, 1: 3, 5: 3, 8: 2, 6: 1, 4: 1}) Counter({4: 7, 2: 7, 1: 5, 5: 4, 6: 3, 3: 3, 0: 1})\n"
     ]
    }
   ],
   "source": [
    "from dateutil.parser import parse\n",
    "\n",
    "dates = [parse(repo[\"created_at\"]) for repo in repos]\n",
    "month_counts = Counter(date.month for date in dates)\n",
    "weekday_counts = Counter(date.weekday() for date in dates)\n",
    "print(dates, month_counts, weekday_counts)"
   ]
  },
  {
   "cell_type": "code",
   "execution_count": 116,
   "metadata": {},
   "outputs": [
    {
     "name": "stdout",
     "output_type": "stream",
     "text": [
      "[{'id': 168755903, 'node_id': 'MDEwOlJlcG9zaXRvcnkxNjg3NTU5MDM=', 'name': 'awesome-podcasts', 'full_name': 'joelgrus/awesome-podcasts', 'private': False, 'owner': {'login': 'joelgrus', 'id': 1308313, 'node_id': 'MDQ6VXNlcjEzMDgzMTM=', 'avatar_url': 'https://avatars1.githubusercontent.com/u/1308313?v=4', 'gravatar_id': '', 'url': 'https://api.github.com/users/joelgrus', 'html_url': 'https://github.com/joelgrus', 'followers_url': 'https://api.github.com/users/joelgrus/followers', 'following_url': 'https://api.github.com/users/joelgrus/following{/other_user}', 'gists_url': 'https://api.github.com/users/joelgrus/gists{/gist_id}', 'starred_url': 'https://api.github.com/users/joelgrus/starred{/owner}{/repo}', 'subscriptions_url': 'https://api.github.com/users/joelgrus/subscriptions', 'organizations_url': 'https://api.github.com/users/joelgrus/orgs', 'repos_url': 'https://api.github.com/users/joelgrus/repos', 'events_url': 'https://api.github.com/users/joelgrus/events{/privacy}', 'received_events_url': 'https://api.github.com/users/joelgrus/received_events', 'type': 'User', 'site_admin': False}, 'html_url': 'https://github.com/joelgrus/awesome-podcasts', 'description': 'Collection of awesome podcasts', 'fork': True, 'url': 'https://api.github.com/repos/joelgrus/awesome-podcasts', 'forks_url': 'https://api.github.com/repos/joelgrus/awesome-podcasts/forks', 'keys_url': 'https://api.github.com/repos/joelgrus/awesome-podcasts/keys{/key_id}', 'collaborators_url': 'https://api.github.com/repos/joelgrus/awesome-podcasts/collaborators{/collaborator}', 'teams_url': 'https://api.github.com/repos/joelgrus/awesome-podcasts/teams', 'hooks_url': 'https://api.github.com/repos/joelgrus/awesome-podcasts/hooks', 'issue_events_url': 'https://api.github.com/repos/joelgrus/awesome-podcasts/issues/events{/number}', 'events_url': 'https://api.github.com/repos/joelgrus/awesome-podcasts/events', 'assignees_url': 'https://api.github.com/repos/joelgrus/awesome-podcasts/assignees{/user}', 'branches_url': 'https://api.github.com/repos/joelgrus/awesome-podcasts/branches{/branch}', 'tags_url': 'https://api.github.com/repos/joelgrus/awesome-podcasts/tags', 'blobs_url': 'https://api.github.com/repos/joelgrus/awesome-podcasts/git/blobs{/sha}', 'git_tags_url': 'https://api.github.com/repos/joelgrus/awesome-podcasts/git/tags{/sha}', 'git_refs_url': 'https://api.github.com/repos/joelgrus/awesome-podcasts/git/refs{/sha}', 'trees_url': 'https://api.github.com/repos/joelgrus/awesome-podcasts/git/trees{/sha}', 'statuses_url': 'https://api.github.com/repos/joelgrus/awesome-podcasts/statuses/{sha}', 'languages_url': 'https://api.github.com/repos/joelgrus/awesome-podcasts/languages', 'stargazers_url': 'https://api.github.com/repos/joelgrus/awesome-podcasts/stargazers', 'contributors_url': 'https://api.github.com/repos/joelgrus/awesome-podcasts/contributors', 'subscribers_url': 'https://api.github.com/repos/joelgrus/awesome-podcasts/subscribers', 'subscription_url': 'https://api.github.com/repos/joelgrus/awesome-podcasts/subscription', 'commits_url': 'https://api.github.com/repos/joelgrus/awesome-podcasts/commits{/sha}', 'git_commits_url': 'https://api.github.com/repos/joelgrus/awesome-podcasts/git/commits{/sha}', 'comments_url': 'https://api.github.com/repos/joelgrus/awesome-podcasts/comments{/number}', 'issue_comment_url': 'https://api.github.com/repos/joelgrus/awesome-podcasts/issues/comments{/number}', 'contents_url': 'https://api.github.com/repos/joelgrus/awesome-podcasts/contents/{+path}', 'compare_url': 'https://api.github.com/repos/joelgrus/awesome-podcasts/compare/{base}...{head}', 'merges_url': 'https://api.github.com/repos/joelgrus/awesome-podcasts/merges', 'archive_url': 'https://api.github.com/repos/joelgrus/awesome-podcasts/{archive_format}{/ref}', 'downloads_url': 'https://api.github.com/repos/joelgrus/awesome-podcasts/downloads', 'issues_url': 'https://api.github.com/repos/joelgrus/awesome-podcasts/issues{/number}', 'pulls_url': 'https://api.github.com/repos/joelgrus/awesome-podcasts/pulls{/number}', 'milestones_url': 'https://api.github.com/repos/joelgrus/awesome-podcasts/milestones{/number}', 'notifications_url': 'https://api.github.com/repos/joelgrus/awesome-podcasts/notifications{?since,all,participating}', 'labels_url': 'https://api.github.com/repos/joelgrus/awesome-podcasts/labels{/name}', 'releases_url': 'https://api.github.com/repos/joelgrus/awesome-podcasts/releases{/id}', 'deployments_url': 'https://api.github.com/repos/joelgrus/awesome-podcasts/deployments', 'created_at': '2019-02-01T20:25:46Z', 'updated_at': '2019-02-01T20:25:47Z', 'pushed_at': '2019-02-01T20:29:18Z', 'git_url': 'git://github.com/joelgrus/awesome-podcasts.git', 'ssh_url': 'git@github.com:joelgrus/awesome-podcasts.git', 'clone_url': 'https://github.com/joelgrus/awesome-podcasts.git', 'svn_url': 'https://github.com/joelgrus/awesome-podcasts', 'homepage': '', 'size': 399, 'stargazers_count': 0, 'watchers_count': 0, 'language': None, 'has_issues': False, 'has_projects': True, 'has_downloads': True, 'has_wiki': True, 'has_pages': False, 'forks_count': 0, 'mirror_url': None, 'archived': False, 'open_issues_count': 0, 'license': None, 'forks': 0, 'open_issues': 0, 'watchers': 0, 'default_branch': 'master'}, {'id': 162483325, 'node_id': 'MDEwOlJlcG9zaXRvcnkxNjI0ODMzMjU=', 'name': 'allennlp-demo', 'full_name': 'joelgrus/allennlp-demo', 'private': False, 'owner': {'login': 'joelgrus', 'id': 1308313, 'node_id': 'MDQ6VXNlcjEzMDgzMTM=', 'avatar_url': 'https://avatars1.githubusercontent.com/u/1308313?v=4', 'gravatar_id': '', 'url': 'https://api.github.com/users/joelgrus', 'html_url': 'https://github.com/joelgrus', 'followers_url': 'https://api.github.com/users/joelgrus/followers', 'following_url': 'https://api.github.com/users/joelgrus/following{/other_user}', 'gists_url': 'https://api.github.com/users/joelgrus/gists{/gist_id}', 'starred_url': 'https://api.github.com/users/joelgrus/starred{/owner}{/repo}', 'subscriptions_url': 'https://api.github.com/users/joelgrus/subscriptions', 'organizations_url': 'https://api.github.com/users/joelgrus/orgs', 'repos_url': 'https://api.github.com/users/joelgrus/repos', 'events_url': 'https://api.github.com/users/joelgrus/events{/privacy}', 'received_events_url': 'https://api.github.com/users/joelgrus/received_events', 'type': 'User', 'site_admin': False}, 'html_url': 'https://github.com/joelgrus/allennlp-demo', 'description': 'code for demo.allennlp.org', 'fork': True, 'url': 'https://api.github.com/repos/joelgrus/allennlp-demo', 'forks_url': 'https://api.github.com/repos/joelgrus/allennlp-demo/forks', 'keys_url': 'https://api.github.com/repos/joelgrus/allennlp-demo/keys{/key_id}', 'collaborators_url': 'https://api.github.com/repos/joelgrus/allennlp-demo/collaborators{/collaborator}', 'teams_url': 'https://api.github.com/repos/joelgrus/allennlp-demo/teams', 'hooks_url': 'https://api.github.com/repos/joelgrus/allennlp-demo/hooks', 'issue_events_url': 'https://api.github.com/repos/joelgrus/allennlp-demo/issues/events{/number}', 'events_url': 'https://api.github.com/repos/joelgrus/allennlp-demo/events', 'assignees_url': 'https://api.github.com/repos/joelgrus/allennlp-demo/assignees{/user}', 'branches_url': 'https://api.github.com/repos/joelgrus/allennlp-demo/branches{/branch}', 'tags_url': 'https://api.github.com/repos/joelgrus/allennlp-demo/tags', 'blobs_url': 'https://api.github.com/repos/joelgrus/allennlp-demo/git/blobs{/sha}', 'git_tags_url': 'https://api.github.com/repos/joelgrus/allennlp-demo/git/tags{/sha}', 'git_refs_url': 'https://api.github.com/repos/joelgrus/allennlp-demo/git/refs{/sha}', 'trees_url': 'https://api.github.com/repos/joelgrus/allennlp-demo/git/trees{/sha}', 'statuses_url': 'https://api.github.com/repos/joelgrus/allennlp-demo/statuses/{sha}', 'languages_url': 'https://api.github.com/repos/joelgrus/allennlp-demo/languages', 'stargazers_url': 'https://api.github.com/repos/joelgrus/allennlp-demo/stargazers', 'contributors_url': 'https://api.github.com/repos/joelgrus/allennlp-demo/contributors', 'subscribers_url': 'https://api.github.com/repos/joelgrus/allennlp-demo/subscribers', 'subscription_url': 'https://api.github.com/repos/joelgrus/allennlp-demo/subscription', 'commits_url': 'https://api.github.com/repos/joelgrus/allennlp-demo/commits{/sha}', 'git_commits_url': 'https://api.github.com/repos/joelgrus/allennlp-demo/git/commits{/sha}', 'comments_url': 'https://api.github.com/repos/joelgrus/allennlp-demo/comments{/number}', 'issue_comment_url': 'https://api.github.com/repos/joelgrus/allennlp-demo/issues/comments{/number}', 'contents_url': 'https://api.github.com/repos/joelgrus/allennlp-demo/contents/{+path}', 'compare_url': 'https://api.github.com/repos/joelgrus/allennlp-demo/compare/{base}...{head}', 'merges_url': 'https://api.github.com/repos/joelgrus/allennlp-demo/merges', 'archive_url': 'https://api.github.com/repos/joelgrus/allennlp-demo/{archive_format}{/ref}', 'downloads_url': 'https://api.github.com/repos/joelgrus/allennlp-demo/downloads', 'issues_url': 'https://api.github.com/repos/joelgrus/allennlp-demo/issues{/number}', 'pulls_url': 'https://api.github.com/repos/joelgrus/allennlp-demo/pulls{/number}', 'milestones_url': 'https://api.github.com/repos/joelgrus/allennlp-demo/milestones{/number}', 'notifications_url': 'https://api.github.com/repos/joelgrus/allennlp-demo/notifications{?since,all,participating}', 'labels_url': 'https://api.github.com/repos/joelgrus/allennlp-demo/labels{/name}', 'releases_url': 'https://api.github.com/repos/joelgrus/allennlp-demo/releases{/id}', 'deployments_url': 'https://api.github.com/repos/joelgrus/allennlp-demo/deployments', 'created_at': '2018-12-19T19:44:45Z', 'updated_at': '2019-01-21T18:32:38Z', 'pushed_at': '2019-01-21T18:32:36Z', 'git_url': 'git://github.com/joelgrus/allennlp-demo.git', 'ssh_url': 'git@github.com:joelgrus/allennlp-demo.git', 'clone_url': 'https://github.com/joelgrus/allennlp-demo.git', 'svn_url': 'https://github.com/joelgrus/allennlp-demo', 'homepage': None, 'size': 35100, 'stargazers_count': 0, 'watchers_count': 0, 'language': 'Python', 'has_issues': False, 'has_projects': True, 'has_downloads': True, 'has_wiki': True, 'has_pages': False, 'forks_count': 0, 'mirror_url': None, 'archived': False, 'open_issues_count': 0, 'license': {'key': 'apache-2.0', 'name': 'Apache License 2.0', 'spdx_id': 'Apache-2.0', 'url': 'https://api.github.com/licenses/apache-2.0', 'node_id': 'MDc6TGljZW5zZTI='}, 'forks': 0, 'open_issues': 0, 'watchers': 0, 'default_branch': 'master'}, {'id': 159886377, 'node_id': 'MDEwOlJlcG9zaXRvcnkxNTk4ODYzNzc=', 'name': 'advent2018', 'full_name': 'joelgrus/advent2018', 'private': False, 'owner': {'login': 'joelgrus', 'id': 1308313, 'node_id': 'MDQ6VXNlcjEzMDgzMTM=', 'avatar_url': 'https://avatars1.githubusercontent.com/u/1308313?v=4', 'gravatar_id': '', 'url': 'https://api.github.com/users/joelgrus', 'html_url': 'https://github.com/joelgrus', 'followers_url': 'https://api.github.com/users/joelgrus/followers', 'following_url': 'https://api.github.com/users/joelgrus/following{/other_user}', 'gists_url': 'https://api.github.com/users/joelgrus/gists{/gist_id}', 'starred_url': 'https://api.github.com/users/joelgrus/starred{/owner}{/repo}', 'subscriptions_url': 'https://api.github.com/users/joelgrus/subscriptions', 'organizations_url': 'https://api.github.com/users/joelgrus/orgs', 'repos_url': 'https://api.github.com/users/joelgrus/repos', 'events_url': 'https://api.github.com/users/joelgrus/events{/privacy}', 'received_events_url': 'https://api.github.com/users/joelgrus/received_events', 'type': 'User', 'site_admin': False}, 'html_url': 'https://github.com/joelgrus/advent2018', 'description': 'solutions for advent of code 2018', 'fork': False, 'url': 'https://api.github.com/repos/joelgrus/advent2018', 'forks_url': 'https://api.github.com/repos/joelgrus/advent2018/forks', 'keys_url': 'https://api.github.com/repos/joelgrus/advent2018/keys{/key_id}', 'collaborators_url': 'https://api.github.com/repos/joelgrus/advent2018/collaborators{/collaborator}', 'teams_url': 'https://api.github.com/repos/joelgrus/advent2018/teams', 'hooks_url': 'https://api.github.com/repos/joelgrus/advent2018/hooks', 'issue_events_url': 'https://api.github.com/repos/joelgrus/advent2018/issues/events{/number}', 'events_url': 'https://api.github.com/repos/joelgrus/advent2018/events', 'assignees_url': 'https://api.github.com/repos/joelgrus/advent2018/assignees{/user}', 'branches_url': 'https://api.github.com/repos/joelgrus/advent2018/branches{/branch}', 'tags_url': 'https://api.github.com/repos/joelgrus/advent2018/tags', 'blobs_url': 'https://api.github.com/repos/joelgrus/advent2018/git/blobs{/sha}', 'git_tags_url': 'https://api.github.com/repos/joelgrus/advent2018/git/tags{/sha}', 'git_refs_url': 'https://api.github.com/repos/joelgrus/advent2018/git/refs{/sha}', 'trees_url': 'https://api.github.com/repos/joelgrus/advent2018/git/trees{/sha}', 'statuses_url': 'https://api.github.com/repos/joelgrus/advent2018/statuses/{sha}', 'languages_url': 'https://api.github.com/repos/joelgrus/advent2018/languages', 'stargazers_url': 'https://api.github.com/repos/joelgrus/advent2018/stargazers', 'contributors_url': 'https://api.github.com/repos/joelgrus/advent2018/contributors', 'subscribers_url': 'https://api.github.com/repos/joelgrus/advent2018/subscribers', 'subscription_url': 'https://api.github.com/repos/joelgrus/advent2018/subscription', 'commits_url': 'https://api.github.com/repos/joelgrus/advent2018/commits{/sha}', 'git_commits_url': 'https://api.github.com/repos/joelgrus/advent2018/git/commits{/sha}', 'comments_url': 'https://api.github.com/repos/joelgrus/advent2018/comments{/number}', 'issue_comment_url': 'https://api.github.com/repos/joelgrus/advent2018/issues/comments{/number}', 'contents_url': 'https://api.github.com/repos/joelgrus/advent2018/contents/{+path}', 'compare_url': 'https://api.github.com/repos/joelgrus/advent2018/compare/{base}...{head}', 'merges_url': 'https://api.github.com/repos/joelgrus/advent2018/merges', 'archive_url': 'https://api.github.com/repos/joelgrus/advent2018/{archive_format}{/ref}', 'downloads_url': 'https://api.github.com/repos/joelgrus/advent2018/downloads', 'issues_url': 'https://api.github.com/repos/joelgrus/advent2018/issues{/number}', 'pulls_url': 'https://api.github.com/repos/joelgrus/advent2018/pulls{/number}', 'milestones_url': 'https://api.github.com/repos/joelgrus/advent2018/milestones{/number}', 'notifications_url': 'https://api.github.com/repos/joelgrus/advent2018/notifications{?since,all,participating}', 'labels_url': 'https://api.github.com/repos/joelgrus/advent2018/labels{/name}', 'releases_url': 'https://api.github.com/repos/joelgrus/advent2018/releases{/id}', 'deployments_url': 'https://api.github.com/repos/joelgrus/advent2018/deployments', 'created_at': '2018-11-30T22:41:16Z', 'updated_at': '2019-01-06T21:06:41Z', 'pushed_at': '2018-12-19T06:04:24Z', 'git_url': 'git://github.com/joelgrus/advent2018.git', 'ssh_url': 'git@github.com:joelgrus/advent2018.git', 'clone_url': 'https://github.com/joelgrus/advent2018.git', 'svn_url': 'https://github.com/joelgrus/advent2018', 'homepage': None, 'size': 121, 'stargazers_count': 13, 'watchers_count': 13, 'language': 'Python', 'has_issues': True, 'has_projects': True, 'has_downloads': True, 'has_wiki': True, 'has_pages': False, 'forks_count': 1, 'mirror_url': None, 'archived': False, 'open_issues_count': 0, 'license': {'key': 'unlicense', 'name': 'The Unlicense', 'spdx_id': 'Unlicense', 'url': 'https://api.github.com/licenses/unlicense', 'node_id': 'MDc6TGljZW5zZTE1'}, 'forks': 1, 'open_issues': 0, 'watchers': 13, 'default_branch': 'master'}, {'id': 149900501, 'node_id': 'MDEwOlJlcG9zaXRvcnkxNDk5MDA1MDE=', 'name': 'data', 'full_name': 'joelgrus/data', 'private': False, 'owner': {'login': 'joelgrus', 'id': 1308313, 'node_id': 'MDQ6VXNlcjEzMDgzMTM=', 'avatar_url': 'https://avatars1.githubusercontent.com/u/1308313?v=4', 'gravatar_id': '', 'url': 'https://api.github.com/users/joelgrus', 'html_url': 'https://github.com/joelgrus', 'followers_url': 'https://api.github.com/users/joelgrus/followers', 'following_url': 'https://api.github.com/users/joelgrus/following{/other_user}', 'gists_url': 'https://api.github.com/users/joelgrus/gists{/gist_id}', 'starred_url': 'https://api.github.com/users/joelgrus/starred{/owner}{/repo}', 'subscriptions_url': 'https://api.github.com/users/joelgrus/subscriptions', 'organizations_url': 'https://api.github.com/users/joelgrus/orgs', 'repos_url': 'https://api.github.com/users/joelgrus/repos', 'events_url': 'https://api.github.com/users/joelgrus/events{/privacy}', 'received_events_url': 'https://api.github.com/users/joelgrus/received_events', 'type': 'User', 'site_admin': False}, 'html_url': 'https://github.com/joelgrus/data', 'description': 'datasets for data science from scratch', 'fork': False, 'url': 'https://api.github.com/repos/joelgrus/data', 'forks_url': 'https://api.github.com/repos/joelgrus/data/forks', 'keys_url': 'https://api.github.com/repos/joelgrus/data/keys{/key_id}', 'collaborators_url': 'https://api.github.com/repos/joelgrus/data/collaborators{/collaborator}', 'teams_url': 'https://api.github.com/repos/joelgrus/data/teams', 'hooks_url': 'https://api.github.com/repos/joelgrus/data/hooks', 'issue_events_url': 'https://api.github.com/repos/joelgrus/data/issues/events{/number}', 'events_url': 'https://api.github.com/repos/joelgrus/data/events', 'assignees_url': 'https://api.github.com/repos/joelgrus/data/assignees{/user}', 'branches_url': 'https://api.github.com/repos/joelgrus/data/branches{/branch}', 'tags_url': 'https://api.github.com/repos/joelgrus/data/tags', 'blobs_url': 'https://api.github.com/repos/joelgrus/data/git/blobs{/sha}', 'git_tags_url': 'https://api.github.com/repos/joelgrus/data/git/tags{/sha}', 'git_refs_url': 'https://api.github.com/repos/joelgrus/data/git/refs{/sha}', 'trees_url': 'https://api.github.com/repos/joelgrus/data/git/trees{/sha}', 'statuses_url': 'https://api.github.com/repos/joelgrus/data/statuses/{sha}', 'languages_url': 'https://api.github.com/repos/joelgrus/data/languages', 'stargazers_url': 'https://api.github.com/repos/joelgrus/data/stargazers', 'contributors_url': 'https://api.github.com/repos/joelgrus/data/contributors', 'subscribers_url': 'https://api.github.com/repos/joelgrus/data/subscribers', 'subscription_url': 'https://api.github.com/repos/joelgrus/data/subscription', 'commits_url': 'https://api.github.com/repos/joelgrus/data/commits{/sha}', 'git_commits_url': 'https://api.github.com/repos/joelgrus/data/git/commits{/sha}', 'comments_url': 'https://api.github.com/repos/joelgrus/data/comments{/number}', 'issue_comment_url': 'https://api.github.com/repos/joelgrus/data/issues/comments{/number}', 'contents_url': 'https://api.github.com/repos/joelgrus/data/contents/{+path}', 'compare_url': 'https://api.github.com/repos/joelgrus/data/compare/{base}...{head}', 'merges_url': 'https://api.github.com/repos/joelgrus/data/merges', 'archive_url': 'https://api.github.com/repos/joelgrus/data/{archive_format}{/ref}', 'downloads_url': 'https://api.github.com/repos/joelgrus/data/downloads', 'issues_url': 'https://api.github.com/repos/joelgrus/data/issues{/number}', 'pulls_url': 'https://api.github.com/repos/joelgrus/data/pulls{/number}', 'milestones_url': 'https://api.github.com/repos/joelgrus/data/milestones{/number}', 'notifications_url': 'https://api.github.com/repos/joelgrus/data/notifications{?since,all,participating}', 'labels_url': 'https://api.github.com/repos/joelgrus/data/labels{/name}', 'releases_url': 'https://api.github.com/repos/joelgrus/data/releases{/id}', 'deployments_url': 'https://api.github.com/repos/joelgrus/data/deployments', 'created_at': '2018-09-22T17:30:59Z', 'updated_at': '2018-10-01T18:36:18Z', 'pushed_at': '2018-09-22T17:32:03Z', 'git_url': 'git://github.com/joelgrus/data.git', 'ssh_url': 'git@github.com:joelgrus/data.git', 'clone_url': 'https://github.com/joelgrus/data.git', 'svn_url': 'https://github.com/joelgrus/data', 'homepage': None, 'size': 1, 'stargazers_count': 3, 'watchers_count': 3, 'language': 'HTML', 'has_issues': True, 'has_projects': True, 'has_downloads': True, 'has_wiki': True, 'has_pages': False, 'forks_count': 0, 'mirror_url': None, 'archived': False, 'open_issues_count': 0, 'license': None, 'forks': 0, 'open_issues': 0, 'watchers': 3, 'default_branch': 'master'}, {'id': 149889203, 'node_id': 'MDEwOlJlcG9zaXRvcnkxNDk4ODkyMDM=', 'name': 'CNTK', 'full_name': 'joelgrus/CNTK', 'private': False, 'owner': {'login': 'joelgrus', 'id': 1308313, 'node_id': 'MDQ6VXNlcjEzMDgzMTM=', 'avatar_url': 'https://avatars1.githubusercontent.com/u/1308313?v=4', 'gravatar_id': '', 'url': 'https://api.github.com/users/joelgrus', 'html_url': 'https://github.com/joelgrus', 'followers_url': 'https://api.github.com/users/joelgrus/followers', 'following_url': 'https://api.github.com/users/joelgrus/following{/other_user}', 'gists_url': 'https://api.github.com/users/joelgrus/gists{/gist_id}', 'starred_url': 'https://api.github.com/users/joelgrus/starred{/owner}{/repo}', 'subscriptions_url': 'https://api.github.com/users/joelgrus/subscriptions', 'organizations_url': 'https://api.github.com/users/joelgrus/orgs', 'repos_url': 'https://api.github.com/users/joelgrus/repos', 'events_url': 'https://api.github.com/users/joelgrus/events{/privacy}', 'received_events_url': 'https://api.github.com/users/joelgrus/received_events', 'type': 'User', 'site_admin': False}, 'html_url': 'https://github.com/joelgrus/CNTK', 'description': 'Microsoft Cognitive Toolkit (CNTK), an open source deep-learning toolkit', 'fork': True, 'url': 'https://api.github.com/repos/joelgrus/CNTK', 'forks_url': 'https://api.github.com/repos/joelgrus/CNTK/forks', 'keys_url': 'https://api.github.com/repos/joelgrus/CNTK/keys{/key_id}', 'collaborators_url': 'https://api.github.com/repos/joelgrus/CNTK/collaborators{/collaborator}', 'teams_url': 'https://api.github.com/repos/joelgrus/CNTK/teams', 'hooks_url': 'https://api.github.com/repos/joelgrus/CNTK/hooks', 'issue_events_url': 'https://api.github.com/repos/joelgrus/CNTK/issues/events{/number}', 'events_url': 'https://api.github.com/repos/joelgrus/CNTK/events', 'assignees_url': 'https://api.github.com/repos/joelgrus/CNTK/assignees{/user}', 'branches_url': 'https://api.github.com/repos/joelgrus/CNTK/branches{/branch}', 'tags_url': 'https://api.github.com/repos/joelgrus/CNTK/tags', 'blobs_url': 'https://api.github.com/repos/joelgrus/CNTK/git/blobs{/sha}', 'git_tags_url': 'https://api.github.com/repos/joelgrus/CNTK/git/tags{/sha}', 'git_refs_url': 'https://api.github.com/repos/joelgrus/CNTK/git/refs{/sha}', 'trees_url': 'https://api.github.com/repos/joelgrus/CNTK/git/trees{/sha}', 'statuses_url': 'https://api.github.com/repos/joelgrus/CNTK/statuses/{sha}', 'languages_url': 'https://api.github.com/repos/joelgrus/CNTK/languages', 'stargazers_url': 'https://api.github.com/repos/joelgrus/CNTK/stargazers', 'contributors_url': 'https://api.github.com/repos/joelgrus/CNTK/contributors', 'subscribers_url': 'https://api.github.com/repos/joelgrus/CNTK/subscribers', 'subscription_url': 'https://api.github.com/repos/joelgrus/CNTK/subscription', 'commits_url': 'https://api.github.com/repos/joelgrus/CNTK/commits{/sha}', 'git_commits_url': 'https://api.github.com/repos/joelgrus/CNTK/git/commits{/sha}', 'comments_url': 'https://api.github.com/repos/joelgrus/CNTK/comments{/number}', 'issue_comment_url': 'https://api.github.com/repos/joelgrus/CNTK/issues/comments{/number}', 'contents_url': 'https://api.github.com/repos/joelgrus/CNTK/contents/{+path}', 'compare_url': 'https://api.github.com/repos/joelgrus/CNTK/compare/{base}...{head}', 'merges_url': 'https://api.github.com/repos/joelgrus/CNTK/merges', 'archive_url': 'https://api.github.com/repos/joelgrus/CNTK/{archive_format}{/ref}', 'downloads_url': 'https://api.github.com/repos/joelgrus/CNTK/downloads', 'issues_url': 'https://api.github.com/repos/joelgrus/CNTK/issues{/number}', 'pulls_url': 'https://api.github.com/repos/joelgrus/CNTK/pulls{/number}', 'milestones_url': 'https://api.github.com/repos/joelgrus/CNTK/milestones{/number}', 'notifications_url': 'https://api.github.com/repos/joelgrus/CNTK/notifications{?since,all,participating}', 'labels_url': 'https://api.github.com/repos/joelgrus/CNTK/labels{/name}', 'releases_url': 'https://api.github.com/repos/joelgrus/CNTK/releases{/id}', 'deployments_url': 'https://api.github.com/repos/joelgrus/CNTK/deployments', 'created_at': '2018-09-22T15:23:50Z', 'updated_at': '2018-09-22T15:24:37Z', 'pushed_at': '2018-09-22T15:24:31Z', 'git_url': 'git://github.com/joelgrus/CNTK.git', 'ssh_url': 'git@github.com:joelgrus/CNTK.git', 'clone_url': 'https://github.com/joelgrus/CNTK.git', 'svn_url': 'https://github.com/joelgrus/CNTK', 'homepage': 'https://docs.microsoft.com/cognitive-toolkit/', 'size': 706685, 'stargazers_count': 0, 'watchers_count': 0, 'language': 'C++', 'has_issues': False, 'has_projects': True, 'has_downloads': True, 'has_wiki': True, 'has_pages': False, 'forks_count': 0, 'mirror_url': None, 'archived': False, 'open_issues_count': 0, 'license': {'key': 'other', 'name': 'Other', 'spdx_id': 'NOASSERTION', 'url': None, 'node_id': 'MDc6TGljZW5zZTA='}, 'forks': 0, 'open_issues': 0, 'watchers': 0, 'default_branch': 'master'}]\n",
      "[None, 'Python', 'Python', 'HTML', 'C++']\n"
     ]
    }
   ],
   "source": [
    "last_5_repositories = sorted(repos,\n",
    "                            key=lambda r: r[\"created_at\"],\n",
    "                            reverse=True)[:5]\n",
    "last_5_languages = [repo[\"language\"]\n",
    "                    for repo in last_5_repositories]\n",
    "print(last_5_repositories)\n",
    "print(last_5_languages)"
   ]
  },
  {
   "cell_type": "code",
   "execution_count": 121,
   "metadata": {
    "scrolled": true
   },
   "outputs": [
    {
     "name": "stdout",
     "output_type": "stream",
     "text": [
      "Requirement already satisfied: twython in c:\\users\\shash\\anaconda3\\lib\\site-packages (3.7.0)\n",
      "Requirement already satisfied: requests-oauthlib>=0.4.0 in c:\\users\\shash\\anaconda3\\lib\\site-packages (from twython) (1.2.0)\n",
      "Requirement already satisfied: requests>=2.1.0 in c:\\users\\shash\\anaconda3\\lib\\site-packages (from twython) (2.21.0)\n",
      "Requirement already satisfied: oauthlib>=3.0.0 in c:\\users\\shash\\anaconda3\\lib\\site-packages (from requests-oauthlib>=0.4.0->twython) (3.0.1)\n",
      "Requirement already satisfied: idna<2.9,>=2.5 in c:\\users\\shash\\anaconda3\\lib\\site-packages (from requests>=2.1.0->twython) (2.8)\n",
      "Requirement already satisfied: certifi>=2017.4.17 in c:\\users\\shash\\anaconda3\\lib\\site-packages (from requests>=2.1.0->twython) (2018.11.29)\n",
      "Requirement already satisfied: chardet<3.1.0,>=3.0.2 in c:\\users\\shash\\anaconda3\\lib\\site-packages (from requests>=2.1.0->twython) (3.0.4)\n",
      "Requirement already satisfied: urllib3<1.25,>=1.21.1 in c:\\users\\shash\\anaconda3\\lib\\site-packages (from requests>=2.1.0->twython) (1.24.1)\n",
      "b'DevulderAnne' : b'RT @FeteScience: Les gar\\xc3\\xa7ons sont meilleurs que les filles en science ? Non ! Profitons de la journ\\xc3\\xa9e des #FemmesEnScience pour combattre c\\xe2\\x80\\xa6'\n",
      "b'willynguen' : b\"'Pinoystartup/data-science' News https://t.co/NoNzcVWodz - top stories by @mndoci\"\n",
      "b'digitalandmore' : b'Programmatic Buying behind the scene - Meta Analytics https://t.co/oVItPITi6g #programmatic'\n",
      "b'AnMailleach' : b'RT @IFAC_IE: The Irish Fiscal Advisory Council is looking for two interns to join our team this summer: \\n\\n\\xf0\\x9f\\x94\\x98Economics: Long-Term Fiscal Work\\xe2\\x80\\xa6'\n",
      "b'YogeshBang' : b'RT @beginnerdev: Machine Learning for Data Science\\n\\n\\xe2\\x98\\x9e https://t.co/9VC6vUZ4No\\n\\n#MachineLearning #DataScience https://t.co/IxIT4g1v3E'\n",
      "b'TimoneyKevin' : b'RT @IFAC_IE: The Irish Fiscal Advisory Council is looking for two interns to join our team this summer: \\n\\n\\xf0\\x9f\\x94\\x98Economics: Long-Term Fiscal Work\\xe2\\x80\\xa6'\n",
      "b'Naelyth' : b'RT @FeteScience: Les gar\\xc3\\xa7ons sont meilleurs que les filles en science ? Non ! Profitons de la journ\\xc3\\xa9e des #FemmesEnScience pour combattre c\\xe2\\x80\\xa6'\n",
      "b'learnlinksfeed' : b'Hard Problems in Data Science: Causality, Sequential Learning and Complex Dynamic Theories https://t.co/R3GJ9s32ek'\n",
      "b'cristobalvega' : b'RT @machinelearnflx: Data science: Machine Learning et Python https://t.co/eJF5gc2t3d  #machinelearning #ad   @machinelearnflx'\n",
      "b'ARPANRAY' : b'RT @reach2arathore: Dr. Peter Carberry, @CarberryPeter DG,  @ICRISAT advocated use of modern #data #science in #agricultural #research &amp; ex\\xe2\\x80\\xa6'\n",
      "b'TenryuKa' : b'RT @FeteScience: Les gar\\xc3\\xa7ons sont meilleurs que les filles en science ? Non ! Profitons de la journ\\xc3\\xa9e des #FemmesEnScience pour combattre c\\xe2\\x80\\xa6'\n",
      "b'audescande' : b'RT @FeteScience: Les gar\\xc3\\xa7ons sont meilleurs que les filles en science ? Non ! Profitons de la journ\\xc3\\xa9e des #FemmesEnScience pour combattre c\\xe2\\x80\\xa6'\n",
      "b'machinelearnflx' : b'Data science: Machine Learning et Python https://t.co/eJF5gc2t3d  #machinelearning #ad   @machinelearnflx'\n",
      "b'Employ_Ability' : b'**New Vacancy**  Financial Conduct Authority (FCA) EmployAbility\\xc2\\xa0Summer Internship Programme 2019 - Data Science https://t.co/bV7koHjqBH'\n",
      "b'Zihao43698906' : b'RT @BecomingDataSci: Reminder that I have a list of over 1,700 women in data science (and statistics and related fields) on Twitter!\\n\\nLet m\\xe2\\x80\\xa6'\n",
      "\n"
     ]
    }
   ],
   "source": [
    "!pip install twython\n",
    "from twython import Twython\n",
    "\n",
    "twitter = Twython('nUZFwLeW7oLoF8exHRbLZZfio', 'RmRkTiINVfzrlv0wcYakV8AtJTN3SaGrm4bSNQb675lVXhBXBQ')\n",
    "\n",
    "# search for tweets containing the phrase \"data science\"\n",
    "for status in twitter.search(q='\"data science\"')[\"statuses\"]:\n",
    "    user = status[\"user\"][\"screen_name\"].encode('utf-8')\n",
    "    text = status[\"text\"].encode('utf-8')\n",
    "    print(user, \":\", text)\n",
    "print()"
   ]
  },
  {
   "cell_type": "code",
   "execution_count": 6,
   "metadata": {},
   "outputs": [],
   "source": [
    "from twython import TwythonStreamer\n",
    "\n",
    "# appending data to a global variable is pretty poor form\n",
    "# but it makes the example much simpler\n",
    "tweets = []\n",
    "\n",
    "class MyStreamer(TwythonStreamer):\n",
    "    \"\"\"our own subclass of TwythonStreamer that specifies\n",
    "    how to interact with the stream\"\"\"\n",
    "\n",
    "    def on_success(self, data):\n",
    "        \"\"\"what do we do when twitter sends us data?\n",
    "        here data will be a Python dict representing a tweet\"\"\"\n",
    "\n",
    "        # only want to collect English-language tweets\n",
    "        if data['lang'] == 'en':\n",
    "            tweets.append(data)\n",
    "            print(\"received tweet #\", len(tweets))\n",
    "\n",
    "        # stop when we've collected enough\n",
    "        if len(tweets) >= 10:\n",
    "            self.disconnect()\n",
    "\n",
    "def on_error(self, status_code, data):\n",
    "    print(status_code, data)\n",
    "    self.disconnect()"
   ]
  },
  {
   "cell_type": "code",
   "execution_count": null,
   "metadata": {},
   "outputs": [],
   "source": [
    "stream = MyStreamer('nUZFwLeW7oLoF8exHRbLZZfio', 'RmRkTiINVfzrlv0wcYakV8AtJTN3SaGrm4bSNQb675lVXhBXBQ',\n",
    "                    '1922183460-0P2azuFwg7DQZaNQIRYNctCUvk1NAyzK9BkF5bU', 'j5nTzIMlw3X9AKVD2crHlHqtpapPJXzhkrMW0w4rPeqJL')\n",
    "# starts consuming public statuses that contain the keyword 'data'\n",
    "stream.statuses.filter(track='data')\n",
    "\n",
    "\n",
    "# if instead we wanted to start consuming a sample of *all* public statuses\n",
    "# stream.statuses.sample()"
   ]
  },
  {
   "cell_type": "code",
   "execution_count": null,
   "metadata": {},
   "outputs": [],
   "source": [
    "top_hashtags = Counter(hashtag['text'].lower()\n",
    "                        for tweet in tweets\n",
    "                        for hashtag in tweet[\"entities\"][\"hashtags\"])\n",
    "\n",
    "print(top_hashtags.most_common(5))"
   ]
  },
  {
   "cell_type": "code",
   "execution_count": 2,
   "metadata": {},
   "outputs": [],
   "source": [
    "users = [[0, \"Ron\", 0],\n",
    "[1, \"Josh\", 2],\n",
    "[2, \"Hank\", 3],\n",
    "[3, \"Chi-chi\", 3]]"
   ]
  },
  {
   "cell_type": "code",
   "execution_count": 273,
   "metadata": {},
   "outputs": [],
   "source": [
    "#SQL in python\n",
    "from collections import defaultdict\n",
    "class Table:\n",
    "    def __init__(self, columns):\n",
    "        self.columns = columns\n",
    "        self.rows = []\n",
    "        \n",
    "    def __repr__(self):\n",
    "        \"\"\"pretty representation of the table: columns then rows\"\"\"\n",
    "        return str(self.columns) + \"\\n\" + \"\\n\".join(map(str, self.rows))\n",
    "    \n",
    "    def insert(self, row_values):\n",
    "        if len(row_values) != len(self.columns):\n",
    "            raise TypeError(\"wrong number of elements\")\n",
    "        row_dict = dict(zip(self.columns, row_values))\n",
    "        self.rows.append(row_dict)\n",
    "        \n",
    "    def update(self, updates, predicate):\n",
    "        for row in self.rows:\n",
    "            if predicate(row):\n",
    "                for column, new_value in updates.items():\n",
    "                    row[column] = new_value\n",
    "                    \n",
    "    def delete(self, predicate=lambda row: True):\n",
    "        \"\"\"delete all rows matching predicate\n",
    "        or all rows if no predicate supplied\"\"\"\n",
    "        self.rows = [row for row in self.rows if not(predicate(row))]\n",
    "        \n",
    "    def select(self, keep_columns=None, additional_columns=None):\n",
    "        if keep_columns is None: # if no columns specified,\n",
    "            keep_columns = self.columns # return all columns\n",
    "        if additional_columns is None:\n",
    "            additional_columns = {}\n",
    "        # new table for results\n",
    "        result_table = Table(keep_columns + list(additional_columns.keys()))\n",
    "        for row in self.rows:\n",
    "            new_row = [row[column] for column in keep_columns]\n",
    "            for column_name, calculation in additional_columns.items():\n",
    "                new_row.append(calculation(row))\n",
    "            result_table.insert(new_row)\n",
    "        return result_table\n",
    "    def name_length(row): \n",
    "        return len(row[\"name\"])\n",
    "    \n",
    "    def where(self, predicate=lambda row: True):\n",
    "        \"\"\"return only the rows that satisfy the supplied predicate\"\"\"\n",
    "        where_table = Table(self.columns)\n",
    "        where_table.rows = filter(predicate, self.rows)\n",
    "        return where_table\n",
    "    \n",
    "    def limit(self, num_rows):\n",
    "        \"\"\"return only the first num_rows rows\"\"\"\n",
    "        limit_table = Table(self.columns)\n",
    "        limit_table.rows = self.rows[:num_rows]\n",
    "        return limit_table\n",
    "    \n",
    "    def group_by(self, group_by_columns, aggregates, having=None):\n",
    "        grouped_rows = defaultdict(list)\n",
    "        # populate groups\n",
    "        for row in self.rows:\n",
    "            key = tuple(row[column] for column in group_by_columns)\n",
    "            grouped_rows[key].append(row)\n",
    "        # result table consists of group_by columns and aggregates\n",
    "        result_table = Table(group_by_columns + list(aggregates.keys()))\n",
    "        for key, rows in grouped_rows.items():\n",
    "            if having is None or having(rows):\n",
    "                new_row = list(key)\n",
    "                for aggregate_name, aggregate_fn in aggregates.items():\n",
    "                    new_row.append(aggregate_fn(rows))\n",
    "                result_table.insert(new_row)\n",
    "        return result_table\n",
    "    \n",
    "    def min_user_id(rows): \n",
    "        return min(row[\"user_id\"] for row in rows)\n",
    "    def first_letter_of_name(row):\n",
    "        return row[\"name\"][0] if row[\"name\"] else \"\"\n",
    "    \n",
    "    def average_num_friends(rows):\n",
    "        return sum(row[\"num_friends\"] for row in rows) / len(rows)\n",
    "    \n",
    "    def enough_friends(rows):\n",
    "        return average_num_friends(rows) > 1\n",
    "    #ORDER BY\n",
    "    def order_by(self, order):\n",
    "        new_table = self.select() # make a copy\n",
    "        new_table.rows.sort(key=order)\n",
    "        return new_table\n",
    "    #Joins\n",
    "    def join(self, other_table, left_join=False):\n",
    "        join_on_columns = [c for c in self.columns # columns in\n",
    "                            if c in other_table.columns] # both tables\n",
    "        additional_columns = [c for c in other_table.columns # columns only\n",
    "                            if c not in join_on_columns] # in right table\n",
    "        # all columns from left table + additional_columns from right table\n",
    "        join_table = Table(self.columns + additional_columns)\n",
    "        for row in self.rows:\n",
    "            def is_join(other_row):\n",
    "                return all(other_row[c] == row[c] for c in join_on_columns)\n",
    "            other_rows = other_table.where(is_join).rows\n",
    "            # each other row that matches this one produces a result row\n",
    "            for other_row in other_rows:\n",
    "                join_table.insert([row[c] for c in self.columns] +\n",
    "                                  [other_row[c] for c in additional_columns])\n",
    "            # if no rows match and it's a left join, output with Nones\n",
    "            if left_join and not other_rows:\n",
    "                join_table.insert([row[c] for c in self.columns] +\n",
    "                                  [None for c in additional_columns])\n",
    "        return join_table\n",
    "    \n",
    "    def count_interests(rows):\n",
    "        \"\"\"counts how many rows have non-None interests\"\"\"\n",
    "        return len([row for row in rows if row[\"interest\"] is not None])"
   ]
  },
  {
   "cell_type": "code",
   "execution_count": 254,
   "metadata": {},
   "outputs": [],
   "source": [
    "users = Table([\"user_id\", \"name\", \"num_friends\"])\n",
    "users.insert([0, \"Ron\", 0])\n",
    "users.insert([1, \"Josh\", 2])\n",
    "users.insert([2, \"Hank\", 3])\n",
    "users.insert([3, \"Chi-chi\", 3])\n",
    "users.insert([4, \"Rob\", 3])\n",
    "users.insert([5, \"Tony\", 2])\n",
    "users.insert([6, \"Stark\", 3])\n",
    "users.insert([7, \"Edwin\", 2])\n",
    "users.insert([8, \"Kate\", 2])\n",
    "users.insert([9, \"cain\", 3])\n",
    "users.insert([10, \"Jenny\", 1])"
   ]
  },
  {
   "cell_type": "code",
   "execution_count": 255,
   "metadata": {},
   "outputs": [
    {
     "name": "stdout",
     "output_type": "stream",
     "text": [
      "['user_id', 'name', 'num_friends']\n",
      "{'user_id': 0, 'name': 'Ron', 'num_friends': 0}\n",
      "{'user_id': 1, 'name': 'Josh', 'num_friends': 2}\n",
      "{'user_id': 2, 'name': 'Hank', 'num_friends': 3}\n",
      "{'user_id': 3, 'name': 'Chi-chi', 'num_friends': 3}\n",
      "{'user_id': 4, 'name': 'Rob', 'num_friends': 3}\n",
      "{'user_id': 5, 'name': 'Tony', 'num_friends': 2}\n",
      "{'user_id': 6, 'name': 'Stark', 'num_friends': 3}\n",
      "{'user_id': 7, 'name': 'Edwin', 'num_friends': 2}\n",
      "{'user_id': 8, 'name': 'Kate', 'num_friends': 2}\n",
      "{'user_id': 9, 'name': 'cain', 'num_friends': 3}\n",
      "{'user_id': 10, 'name': 'Jenny', 'num_friends': 1}\n"
     ]
    }
   ],
   "source": [
    "print(users)"
   ]
  },
  {
   "cell_type": "code",
   "execution_count": 257,
   "metadata": {},
   "outputs": [
    {
     "data": {
      "text/plain": [
       "['user_id', 'name', 'num_friends']\n",
       "{'user_id': 0, 'name': 'Ron', 'num_friends': 0}\n",
       "{'user_id': 1, 'name': 'Josh', 'num_friends': 2}\n",
       "{'user_id': 2, 'name': 'Hank', 'num_friends': 3}\n",
       "{'user_id': 3, 'name': 'Chi-chi', 'num_friends': 3}\n",
       "{'user_id': 4, 'name': 'Rob', 'num_friends': 3}\n",
       "{'user_id': 5, 'name': 'Tony', 'num_friends': 2}\n",
       "{'user_id': 6, 'name': 'Stark', 'num_friends': 3}\n",
       "{'user_id': 7, 'name': 'Edwin', 'num_friends': 2}\n",
       "{'user_id': 8, 'name': 'Kate', 'num_friends': 2}\n",
       "{'user_id': 9, 'name': 'cain', 'num_friends': 3}\n",
       "{'user_id': 10, 'name': 'Jenny', 'num_friends': 1}"
      ]
     },
     "execution_count": 257,
     "metadata": {},
     "output_type": "execute_result"
    }
   ],
   "source": [
    "users.select()"
   ]
  },
  {
   "cell_type": "code",
   "execution_count": 258,
   "metadata": {},
   "outputs": [
    {
     "data": {
      "text/plain": [
       "['user_id', 'name', 'num_friends']\n",
       "{'user_id': 0, 'name': 'Ron', 'num_friends': 0}\n",
       "{'user_id': 1, 'name': 'Josh', 'num_friends': 2}\n",
       "{'user_id': 2, 'name': 'Hank', 'num_friends': 3}\n",
       "{'user_id': 3, 'name': 'Chi-chi', 'num_friends': 3}"
      ]
     },
     "execution_count": 258,
     "metadata": {},
     "output_type": "execute_result"
    }
   ],
   "source": [
    "users.limit(4)"
   ]
  },
  {
   "cell_type": "code",
   "execution_count": 259,
   "metadata": {},
   "outputs": [],
   "source": [
    "user_interests = Table([\"user_id\", \"interest\"])\n",
    "user_interests.insert([0, \"SQL\"])\n",
    "user_interests.insert([0, \"NoSQL\"])\n",
    "user_interests.insert([2, \"SQL\"])\n",
    "user_interests.insert([2, \"MySQL\"])"
   ]
  },
  {
   "cell_type": "code",
   "execution_count": 260,
   "metadata": {},
   "outputs": [
    {
     "data": {
      "text/plain": [
       "['user_id']\n",
       "{'user_id': 0}\n",
       "{'user_id': 1}\n",
       "{'user_id': 2}\n",
       "{'user_id': 3}\n",
       "{'user_id': 4}\n",
       "{'user_id': 5}\n",
       "{'user_id': 6}\n",
       "{'user_id': 7}\n",
       "{'user_id': 8}\n",
       "{'user_id': 9}\n",
       "{'user_id': 10}"
      ]
     },
     "execution_count": 260,
     "metadata": {},
     "output_type": "execute_result"
    }
   ],
   "source": [
    "users.select(keep_columns=[\"user_id\"])"
   ]
  },
  {
   "cell_type": "code",
   "execution_count": 261,
   "metadata": {},
   "outputs": [
    {
     "data": {
      "text/plain": [
       "['user_id']\n",
       "{'user_id': 0}"
      ]
     },
     "execution_count": 261,
     "metadata": {},
     "output_type": "execute_result"
    }
   ],
   "source": [
    "users.where(lambda row: row[\"name\"] == \"Ron\") \\\n",
    "     .select(keep_columns=[\"user_id\"])"
   ]
  },
  {
   "cell_type": "code",
   "execution_count": 262,
   "metadata": {},
   "outputs": [
    {
     "data": {
      "text/plain": [
       "['name_length']\n",
       "{'name_length': 3}\n",
       "{'name_length': 4}\n",
       "{'name_length': 4}\n",
       "{'name_length': 7}\n",
       "{'name_length': 3}\n",
       "{'name_length': 4}\n",
       "{'name_length': 5}\n",
       "{'name_length': 5}\n",
       "{'name_length': 4}\n",
       "{'name_length': 4}\n",
       "{'name_length': 5}"
      ]
     },
     "execution_count": 262,
     "metadata": {},
     "output_type": "execute_result"
    }
   ],
   "source": [
    "def name_length(row):\n",
    "    return len(row[\"name\"])\n",
    "users.select(keep_columns=[],\n",
    "             additional_columns = { \"name_length\" : name_length })"
   ]
  },
  {
   "cell_type": "code",
   "execution_count": 268,
   "metadata": {},
   "outputs": [
    {
     "name": "stdout",
     "output_type": "stream",
     "text": [
      "['first_letter', 'avg_num_friends']\n",
      "{'first_letter': 'R', 'avg_num_friends': 1.5}\n",
      "{'first_letter': 'J', 'avg_num_friends': 1.5}\n",
      "{'first_letter': 'H', 'avg_num_friends': 3.0}\n",
      "{'first_letter': 'C', 'avg_num_friends': 3.0}\n",
      "{'first_letter': 'T', 'avg_num_friends': 2.0}\n",
      "{'first_letter': 'S', 'avg_num_friends': 3.0}\n",
      "{'first_letter': 'E', 'avg_num_friends': 2.0}\n",
      "{'first_letter': 'K', 'avg_num_friends': 2.0}\n",
      "{'first_letter': 'c', 'avg_num_friends': 3.0}\n"
     ]
    }
   ],
   "source": [
    "avg_friends_by_letter = users \\\n",
    "    .select(additional_columns={'first_letter' : first_letter_of_name}) \\\n",
    "    .group_by(group_by_columns=['first_letter'],\n",
    "                aggregates={ \"avg_num_friends\" : average_num_friends },\n",
    "                having=enough_friends)\n",
    "print(avg_friends_by_letter)"
   ]
  },
  {
   "cell_type": "code",
   "execution_count": 270,
   "metadata": {},
   "outputs": [
    {
     "name": "stdout",
     "output_type": "stream",
     "text": [
      "['first_letter', 'avg_num_friends']\n",
      "{'first_letter': 'H', 'avg_num_friends': 3.0}\n",
      "{'first_letter': 'C', 'avg_num_friends': 3.0}\n",
      "{'first_letter': 'S', 'avg_num_friends': 3.0}\n",
      "{'first_letter': 'c', 'avg_num_friends': 3.0}\n"
     ]
    }
   ],
   "source": [
    "friendliest_letters = avg_friends_by_letter \\\n",
    "    .order_by(lambda row: -row[\"avg_num_friends\"]) \\\n",
    "    .limit(4)\n",
    "print(friendliest_letters)"
   ]
  },
  {
   "cell_type": "code",
   "execution_count": 271,
   "metadata": {},
   "outputs": [],
   "source": [
    "user_interests = Table([\"user_id\", \"interest\"])\n",
    "user_interests.insert([0, \"SQL\"])\n",
    "user_interests.insert([0, \"NoSQL\"])\n",
    "user_interests.insert([2, \"SQL\"])\n",
    "user_interests.insert([2, \"MySQL\"])"
   ]
  },
  {
   "cell_type": "code",
   "execution_count": 274,
   "metadata": {},
   "outputs": [
    {
     "name": "stdout",
     "output_type": "stream",
     "text": [
      "['user_id', 'num_interests']\n",
      "{'user_id': 0, 'num_interests': 2}\n",
      "{'user_id': 2, 'num_interests': 2}\n"
     ]
    }
   ],
   "source": [
    "user_interest_counts = users \\\n",
    "    .join(user_interests, left_join=True) \\\n",
    "    .group_by(group_by_columns=[\"user_id\"],\n",
    "              aggregates={\"num_interests\" : count_interests })\n",
    "print(user_interest_counts)"
   ]
  },
  {
   "cell_type": "code",
   "execution_count": 105,
   "metadata": {},
   "outputs": [
    {
     "name": "stdout",
     "output_type": "stream",
     "text": [
      "Requirement already satisfied: requests_html in c:\\users\\shash\\anaconda3\\lib\\site-packages (0.9.0)\n",
      "Requirement already satisfied: parse in c:\\users\\shash\\anaconda3\\lib\\site-packages (from requests_html) (1.11.1)\n",
      "Requirement already satisfied: fake-useragent in c:\\users\\shash\\anaconda3\\lib\\site-packages (from requests_html) (0.1.11)\n",
      "Requirement already satisfied: w3lib in c:\\users\\shash\\anaconda3\\lib\\site-packages (from requests_html) (1.20.0)\n",
      "Requirement already satisfied: pyquery in c:\\users\\shash\\anaconda3\\lib\\site-packages (from requests_html) (1.4.0)\n",
      "Requirement already satisfied: pyppeteer>=0.0.14 in c:\\users\\shash\\anaconda3\\lib\\site-packages (from requests_html) (0.0.25)\n",
      "Requirement already satisfied: bs4 in c:\\users\\shash\\anaconda3\\lib\\site-packages (from requests_html) (0.0.1)\n",
      "Requirement already satisfied: requests in c:\\users\\shash\\anaconda3\\lib\\site-packages (from requests_html) (2.21.0)\n",
      "Requirement already satisfied: six>=1.4.1 in c:\\users\\shash\\anaconda3\\lib\\site-packages (from w3lib->requests_html) (1.12.0)\n",
      "Requirement already satisfied: cssselect>0.7.9 in c:\\users\\shash\\anaconda3\\lib\\site-packages (from pyquery->requests_html) (1.0.3)\n",
      "Requirement already satisfied: lxml>=2.1 in c:\\users\\shash\\anaconda3\\lib\\site-packages (from pyquery->requests_html) (4.2.5)\n",
      "Requirement already satisfied: websockets in c:\\users\\shash\\anaconda3\\lib\\site-packages (from pyppeteer>=0.0.14->requests_html) (7.0)\n",
      "Requirement already satisfied: tqdm in c:\\users\\shash\\anaconda3\\lib\\site-packages (from pyppeteer>=0.0.14->requests_html) (4.28.1)\n",
      "Requirement already satisfied: pyee in c:\\users\\shash\\anaconda3\\lib\\site-packages (from pyppeteer>=0.0.14->requests_html) (5.0.0)\n",
      "Requirement already satisfied: appdirs in c:\\users\\shash\\anaconda3\\lib\\site-packages (from pyppeteer>=0.0.14->requests_html) (1.4.3)\n",
      "Requirement already satisfied: urllib3 in c:\\users\\shash\\anaconda3\\lib\\site-packages (from pyppeteer>=0.0.14->requests_html) (1.24.1)\n",
      "Requirement already satisfied: beautifulsoup4 in c:\\users\\shash\\anaconda3\\lib\\site-packages (from bs4->requests_html) (4.6.3)\n",
      "Requirement already satisfied: certifi>=2017.4.17 in c:\\users\\shash\\anaconda3\\lib\\site-packages (from requests->requests_html) (2018.11.29)\n",
      "Requirement already satisfied: idna<2.9,>=2.5 in c:\\users\\shash\\anaconda3\\lib\\site-packages (from requests->requests_html) (2.8)\n",
      "Requirement already satisfied: chardet<3.1.0,>=3.0.2 in c:\\users\\shash\\anaconda3\\lib\\site-packages (from requests->requests_html) (3.0.4)\n"
     ]
    }
   ],
   "source": [
    "!pip install requests_html"
   ]
  },
  {
   "cell_type": "code",
   "execution_count": 106,
   "metadata": {},
   "outputs": [],
   "source": [
    "url='https://www.cleveland.com/metro/index.ssf/2017/12/case_western_reserve_university_president_barbara_snyders_base_salary_and_bonus_pay_tops_among_private_colleges_in_ohio.html'"
   ]
  },
  {
   "cell_type": "code",
   "execution_count": 124,
   "metadata": {},
   "outputs": [],
   "source": [
    "from requests_html import HTMLSession"
   ]
  },
  {
   "cell_type": "code",
   "execution_count": 125,
   "metadata": {},
   "outputs": [],
   "source": [
    "r = HTMLSession().get(url)"
   ]
  },
  {
   "cell_type": "code",
   "execution_count": 126,
   "metadata": {},
   "outputs": [],
   "source": [
    "element = r.html.find('#entryContent > ul:nth-child(7)')"
   ]
  },
  {
   "cell_type": "code",
   "execution_count": 127,
   "metadata": {},
   "outputs": [],
   "source": [
    "list1= element[0].text\n"
   ]
  },
  {
   "cell_type": "code",
   "execution_count": 128,
   "metadata": {},
   "outputs": [
    {
     "data": {
      "text/plain": [
       "'Grant Cornwell, College of Wooster (left in 2015): $911,651\\nMarvin Krislov, Oberlin College (left in 2016): \\xa0$829,913\\nMark Roosevelt, Antioch College, (left in 2015): $507,672\\nLaurie Joyner, Wittenberg University (left in 2015): $463,504\\nRichard Giese, University of Mount Union (left in 2015): $453,800\\nSean Decatur,Kenyon College: $451,698\\nAdam Weinberg, Denison University: $435,322\\nDaniel Dibiasio, Ohio Northern University: $414,716\\nDenvy Bowman, Capital University (left in 2016): $388,570\\nAnne Steele, Muskingum University (left in 2016): $384,233\\nKathy Krendl, Otterbein University: \\xa0$378,035\\nRockwell Jones, Ohio Wesleyan University: $366,625\\nRobert Helmer, Baldwin Wallace University: $365,616\\nRobert Huntington, Heidelberg University: $300,005\\nLori Varlotta, Hiram College: $293,336\\nJoseph Bruno, Marietta College (left in 2016): $288,295\\nW. Richard Merriman Jr., University of Mount Union (started in June 2015): $221,761'"
      ]
     },
     "execution_count": 128,
     "metadata": {},
     "output_type": "execute_result"
    }
   ],
   "source": [
    "list1"
   ]
  },
  {
   "cell_type": "code",
   "execution_count": 137,
   "metadata": {},
   "outputs": [
    {
     "data": {
      "text/plain": [
       "[', College of Wooster (',\n",
       " ', Oberlin College (',\n",
       " ', Antioch College, (',\n",
       " ', Wittenberg University (',\n",
       " ', University of Mount Union (',\n",
       " ',Kenyon College:',\n",
       " ', Denison University:',\n",
       " ', Ohio Northern University:',\n",
       " ', Capital University (',\n",
       " ', Muskingum University (',\n",
       " ', Otterbein University:',\n",
       " ', Ohio Wesleyan University:',\n",
       " ', Baldwin Wallace University:',\n",
       " ', Heidelberg University:',\n",
       " ', Hiram College:',\n",
       " ', Marietta College (',\n",
       " ', University of Mount Union (']"
      ]
     },
     "execution_count": 137,
     "metadata": {},
     "output_type": "execute_result"
    }
   ],
   "source": [
    "import re\n",
    "college_names = re.findall(r\"\\,\\D+[\\,\\(:]\", list1)\n",
    "college_names"
   ]
  },
  {
   "cell_type": "code",
   "execution_count": 134,
   "metadata": {},
   "outputs": [],
   "source": [
    "#list3=element[0].text\n",
    "amount1 = re.findall('\\d\\d\\d,\\d\\d\\d',list1)"
   ]
  },
  {
   "cell_type": "code",
   "execution_count": 138,
   "metadata": {},
   "outputs": [
    {
     "name": "stdout",
     "output_type": "stream",
     "text": [
      "['911,651', '829,913', '507,672', '463,504', '453,800', '451,698', '435,322', '414,716', '388,570', '384,233', '378,035', '366,625', '365,616', '300,005', '293,336', '288,295', '221,761']\n"
     ]
    }
   ],
   "source": [
    "print(amount1)"
   ]
  },
  {
   "cell_type": "code",
   "execution_count": 141,
   "metadata": {},
   "outputs": [
    {
     "name": "stdout",
     "output_type": "stream",
     "text": [
      "['911651', '829913', '507672', '463504', '453800', '451698', '435322', '414716', '388570', '384233', '378035', '366625', '365616', '300005', '293336', '288295', '221761']\n"
     ]
    }
   ],
   "source": [
    "amount = []\n",
    "for i in amount1:\n",
    "    amount.append(i.replace(',', ''))\n",
    "print(amount)"
   ]
  },
  {
   "cell_type": "code",
   "execution_count": 142,
   "metadata": {},
   "outputs": [],
   "source": [
    "list2 = []\n",
    "y = 0\n",
    "for i in amount:\n",
    "    y = float(i) /2000\n",
    "    list2.append(y)"
   ]
  },
  {
   "cell_type": "code",
   "execution_count": 143,
   "metadata": {},
   "outputs": [
    {
     "name": "stdout",
     "output_type": "stream",
     "text": [
      "[455.8255, 414.9565, 253.836, 231.752, 226.9, 225.849, 217.661, 207.358, 194.285, 192.1165, 189.0175, 183.3125, 182.808, 150.0025, 146.668, 144.1475, 110.8805]\n"
     ]
    }
   ],
   "source": [
    "print(list2)"
   ]
  },
  {
   "cell_type": "code",
   "execution_count": 149,
   "metadata": {},
   "outputs": [
    {
     "data": {
      "text/plain": [
       "[' College of Wooster ',\n",
       " ' Oberlin College ',\n",
       " ' Antioch College ',\n",
       " ' Wittenberg University ',\n",
       " ' University of Mount Union ',\n",
       " 'Kenyon College',\n",
       " ' Denison University',\n",
       " ' Ohio Northern University',\n",
       " ' Capital University ',\n",
       " ' Muskingum University ',\n",
       " ' Otterbein University',\n",
       " ' Ohio Wesleyan University',\n",
       " ' Baldwin Wallace University',\n",
       " ' Heidelberg University',\n",
       " ' Hiram College',\n",
       " ' Marietta College ',\n",
       " ' University of Mount Union ']"
      ]
     },
     "execution_count": 149,
     "metadata": {},
     "output_type": "execute_result"
    }
   ],
   "source": [
    "colleges = []\n",
    "for i in college_names:\n",
    "    colleges.append(i[1:-1].replace(',',''))\n",
    "colleges"
   ]
  },
  {
   "cell_type": "code",
   "execution_count": 187,
   "metadata": {},
   "outputs": [
    {
     "name": "stdout",
     "output_type": "stream",
     "text": [
      "{' College of Wooster ': 455.8255, ' Oberlin College ': 414.9565, ' Antioch College ': 253.836, ' Wittenberg University ': 231.752, ' University of Mount Union ': 110.8805, 'Kenyon College': 225.849, ' Denison University': 217.661, ' Ohio Northern University': 207.358, ' Capital University ': 194.285, ' Muskingum University ': 192.1165, ' Otterbein University': 189.0175, ' Ohio Wesleyan University': 183.3125, ' Baldwin Wallace University': 182.808, ' Heidelberg University': 150.0025, ' Hiram College': 146.668, ' Marietta College ': 144.1475}\n"
     ]
    }
   ],
   "source": [
    "new_list = list(zip(colleges, list2))\n",
    "result_dict = dict(new_list)\n",
    "print(result_dict)"
   ]
  },
  {
   "cell_type": "markdown",
   "metadata": {},
   "source": [
    "# Goal\n",
    "##  print college name: salary per hour"
   ]
  },
  {
   "cell_type": "code",
   "execution_count": 186,
   "metadata": {},
   "outputs": [
    {
     "name": "stdout",
     "output_type": "stream",
     "text": [
      " College of Wooster            :    455.8255\n",
      " Oberlin College               :    414.9565\n",
      " Antioch College               :    253.836\n",
      " Wittenberg University         :    231.752\n",
      " University of Mount Union     :    226.9\n",
      "Kenyon College                 :    225.849\n",
      " Denison University            :    217.661\n",
      " Ohio Northern University      :    207.358\n",
      " Capital University            :    194.285\n",
      " Muskingum University          :    192.1165\n",
      " Otterbein University          :    189.0175\n",
      " Ohio Wesleyan University      :    183.3125\n",
      " Baldwin Wallace University    :    182.808\n",
      " Heidelberg University         :    150.0025\n",
      " Hiram College                 :    146.668\n",
      " Marietta College              :    144.1475\n",
      " University of Mount Union     :    110.8805\n"
     ]
    }
   ],
   "source": [
    "for i, j in new_list:\n",
    "    print('{:30s} {:4.1} {}'.format(i, ':', j))"
   ]
  },
  {
   "cell_type": "markdown",
   "metadata": {},
   "source": [
    "# Advanced\n",
    "## sort by salery per hour in decreasing order"
   ]
  },
  {
   "cell_type": "code",
   "execution_count": 276,
   "metadata": {},
   "outputs": [
    {
     "data": {
      "text/plain": [
       "{' College of Wooster ': 455.8255,\n",
       " ' Oberlin College ': 414.9565,\n",
       " ' Antioch College ': 253.836,\n",
       " ' Wittenberg University ': 231.752,\n",
       " 'Kenyon College': 225.849,\n",
       " ' Denison University': 217.661,\n",
       " ' Ohio Northern University': 207.358,\n",
       " ' Capital University ': 194.285,\n",
       " ' Muskingum University ': 192.1165,\n",
       " ' Otterbein University': 189.0175,\n",
       " ' Ohio Wesleyan University': 183.3125,\n",
       " ' Baldwin Wallace University': 182.808,\n",
       " ' Heidelberg University': 150.0025,\n",
       " ' Hiram College': 146.668,\n",
       " ' Marietta College ': 144.1475,\n",
       " ' University of Mount Union ': 110.8805}"
      ]
     },
     "execution_count": 276,
     "metadata": {},
     "output_type": "execute_result"
    }
   ],
   "source": [
    "from operator import itemgetter \n",
    "new_list1 = []\n",
    "for i, j in sorted(result_dict.items(), key = itemgetter(1), reverse=True):\n",
    "    new_list1.append((i, j))\n",
    "sorted_dict = dict(new_list1)\n",
    "sorted_dict"
   ]
  },
  {
   "cell_type": "code",
   "execution_count": 275,
   "metadata": {},
   "outputs": [
    {
     "name": "stdout",
     "output_type": "stream",
     "text": [
      " College of Wooster            :    455.8255\n",
      " Oberlin College               :    414.9565\n",
      " Antioch College               :    253.836\n",
      " Wittenberg University         :    231.752\n",
      "Kenyon College                 :    225.849\n",
      " Denison University            :    217.661\n",
      " Ohio Northern University      :    207.358\n",
      " Capital University            :    194.285\n",
      " Muskingum University          :    192.1165\n",
      " Otterbein University          :    189.0175\n",
      " Ohio Wesleyan University      :    183.3125\n",
      " Baldwin Wallace University    :    182.808\n",
      " Heidelberg University         :    150.0025\n",
      " Hiram College                 :    146.668\n",
      " Marietta College              :    144.1475\n",
      " University of Mount Union     :    110.8805\n"
     ]
    }
   ],
   "source": [
    "from operator import itemgetter  \n",
    "for i, j in sorted(result_dict.items(), key = itemgetter(1), reverse=True):\n",
    "    print('{:30s} {:4.1} {}'.format(i, ':', j))"
   ]
  },
  {
   "cell_type": "markdown",
   "metadata": {},
   "source": [
    "# More Advanced\n",
    "##  Plot with Bar chart"
   ]
  },
  {
   "cell_type": "code",
   "execution_count": 240,
   "metadata": {},
   "outputs": [],
   "source": [
    "from operator import itemgetter \n",
    "new_list1 = []\n",
    "for i, j in sorted(result_dict.items(), key = itemgetter(1)):\n",
    "    new_list1.append((i, j))\n",
    "sorted_dict1 = dict(new_list1)"
   ]
  },
  {
   "cell_type": "code",
   "execution_count": 251,
   "metadata": {},
   "outputs": [
    {
     "data": {
      "image/png": "[encoded data removed]",
      "text/plain": [
       "<Figure size 640x480 with 1 Axes>"
      ]
     },
     "metadata": {},
     "output_type": "display_data"
    }
   ],
   "source": [
    "import matplotlib.pyplot as plt\n",
    "import numpy as np\n",
    "y_pos = np.arange(len(sorted_dict1))\n",
    "plt.barh(y_pos, list(sorted_dict1.values()), align='center', alpha=0.65, color='rgbkymc')\n",
    "plt.yticks(y_pos, list(sorted_dict1.keys()), label=\"Salary\")\n",
    "plt.xlabel('Salary per Hour')\n",
    "plt.ylabel('College Names')\n",
    "plt.show()"
   ]
  },
  {
   "cell_type": "code",
   "execution_count": null,
   "metadata": {},
   "outputs": [],
   "source": []
  },
  {
   "cell_type": "code",
   "execution_count": null,
   "metadata": {},
   "outputs": [],
   "source": []
  },
  {
   "cell_type": "code",
   "execution_count": null,
   "metadata": {},
   "outputs": [],
   "source": []
  }
 ],
 "metadata": {
  "kernelspec": {
   "display_name": "Python 3",
   "language": "python",
   "name": "python3"
  },
  "language_info": {
   "codemirror_mode": {
    "name": "ipython",
    "version": 3
   },
   "file_extension": ".py",
   "mimetype": "text/x-python",
   "name": "python",
   "nbconvert_exporter": "python",
   "pygments_lexer": "ipython3",
   "version": "3.7.1"
  }
 },
 "nbformat": 4,
 "nbformat_minor": 2
}
