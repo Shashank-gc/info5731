{
 "cells": [
  {
   "cell_type": "markdown",
   "metadata": {},
   "source": [
    "1.Which of the following statements contain only valid builtin functions in Python 3? If the statement is valid, explain what it does. If it is not valid, explain why not. "
   ]
  },
  {
   "cell_type": "code",
   "execution_count": 1,
   "metadata": {},
   "outputs": [
    {
     "data": {
      "text/plain": [
       "True"
      ]
     },
     "execution_count": 1,
     "metadata": {},
     "output_type": "execute_result"
    }
   ],
   "source": [
    "\"A\".isupper()"
   ]
  },
  {
   "cell_type": "markdown",
   "metadata": {},
   "source": [
    "isupper() is a python built in function which is used to check whether the characters in the string are upper case or not. if all the characters are upper case then this functions returns \"True\" or else it return's \"False\" "
   ]
  },
  {
   "cell_type": "code",
   "execution_count": 4,
   "metadata": {},
   "outputs": [
    {
     "ename": "SyntaxError",
     "evalue": "Missing parentheses in call to 'print'. Did you mean print(\"This is my Python class\")? (<ipython-input-4-6fbff18deb64>, line 1)",
     "output_type": "error",
     "traceback": [
      "\u001b[1;36m  File \u001b[1;32m\"<ipython-input-4-6fbff18deb64>\"\u001b[1;36m, line \u001b[1;32m1\u001b[0m\n\u001b[1;33m    print \"This is my Python class\";\u001b[0m\n\u001b[1;37m                                  ^\u001b[0m\n\u001b[1;31mSyntaxError\u001b[0m\u001b[1;31m:\u001b[0m Missing parentheses in call to 'print'. Did you mean print(\"This is my Python class\")?\n"
     ]
    }
   ],
   "source": [
    "print \"This is my Python class\";"
   ]
  },
  {
   "cell_type": "markdown",
   "metadata": {},
   "source": [
    "Print is an inbuilt function which is used to write text to the console. The above code syntax is valid in python 2.0 but in the python 3.0 the syntax for the print function requires parantheses around the srting of charaters. Print function is also used to print the outputs of the code we are running and kepp track of the execution of the program"
   ]
  },
  {
   "cell_type": "code",
   "execution_count": 5,
   "metadata": {},
   "outputs": [
    {
     "name": "stdout",
     "output_type": "stream",
     "text": [
      "This is my Python class\n"
     ]
    }
   ],
   "source": [
    "print (\"This is my Python class\");"
   ]
  },
  {
   "cell_type": "code",
   "execution_count": 9,
   "metadata": {},
   "outputs": [
    {
     "ename": "SyntaxError",
     "evalue": "invalid syntax (<ipython-input-9-c7d24a579435>, line 3)",
     "output_type": "error",
     "traceback": [
      "\u001b[1;36m  File \u001b[1;32m\"<ipython-input-9-c7d24a579435>\"\u001b[1;36m, line \u001b[1;32m3\u001b[0m\n\u001b[1;33m    x == 1 AND y > x\u001b[0m\n\u001b[1;37m             ^\u001b[0m\n\u001b[1;31mSyntaxError\u001b[0m\u001b[1;31m:\u001b[0m invalid syntax\n"
     ]
    }
   ],
   "source": [
    "#declaring x and y variables and then assigning values to these variables.\n",
    "x = 1\n",
    "y = 2\n",
    "x == 1 AND y > x #AND is a case sensitive Logical operator"
   ]
  },
  {
   "cell_type": "markdown",
   "metadata": {},
   "source": [
    "\"and\" is a logical operator in python which is used to combine two or more conditional statements. When all the statements are true then it returns true. even if one of the condition is false it returns false. and is a case sensitive operand this why we got syntax error in the above statement. "
   ]
  },
  {
   "cell_type": "code",
   "execution_count": 10,
   "metadata": {},
   "outputs": [
    {
     "data": {
      "text/plain": [
       "True"
      ]
     },
     "execution_count": 10,
     "metadata": {},
     "output_type": "execute_result"
    }
   ],
   "source": [
    "x = 1\n",
    "y = 2\n",
    "x == 1 and y > x"
   ]
  },
  {
   "cell_type": "markdown",
   "metadata": {},
   "source": [
    "return t[1:] "
   ]
  },
  {
   "cell_type": "markdown",
   "metadata": {},
   "source": [
    "return statement is used to return a value from the function to the caller variable. when the return statement is executed it exits the functions execution and returns a value to the caller variable or directly prints the output if there is no caller variable|. t[1:] is a slicing operation which is used to cut the string from the index 1. return t[1:] returns an output starting from index 1"
   ]
  },
  {
   "cell_type": "code",
   "execution_count": 11,
   "metadata": {},
   "outputs": [
    {
     "data": {
      "text/plain": [
       "'ariable'"
      ]
     },
     "execution_count": 11,
     "metadata": {},
     "output_type": "execute_result"
    }
   ],
   "source": [
    "def test_fun(t): #defining a function to display the working of return command\n",
    "    return t[1:]\n",
    "test_fun(\"variable\")"
   ]
  },
  {
   "cell_type": "code",
   "execution_count": null,
   "metadata": {},
   "outputs": [],
   "source": [
    "if \"fruit\" in \"apple\" :"
   ]
  },
  {
   "cell_type": "markdown",
   "metadata": {},
   "source": [
    "if statement is used to check whether a condition is true or not and in operator is used to check if the 1st string is a subset of 2nd. The above statement checks whether all the characters in \"fruit\" are in \"apple\" as all the charaters are not in 2nd variable if it is true then the statements in the if block are executed, if it is false it skips the if block and executes the next block"
   ]
  },
  {
   "cell_type": "code",
   "execution_count": 119,
   "metadata": {},
   "outputs": [
    {
     "ename": "AttributeError",
     "evalue": "'str' object has no attribute 'decode'",
     "output_type": "error",
     "traceback": [
      "\u001b[1;31m---------------------------------------------------------------------------\u001b[0m",
      "\u001b[1;31mAttributeError\u001b[0m                            Traceback (most recent call last)",
      "\u001b[1;32m<ipython-input-119-92a871400082>\u001b[0m in \u001b[0;36m<module>\u001b[1;34m\u001b[0m\n\u001b[0;32m      1\u001b[0m \u001b[1;32mwith\u001b[0m \u001b[0mopen\u001b[0m\u001b[1;33m(\u001b[0m\u001b[1;34m\"myfile.txt\"\u001b[0m\u001b[1;33m,\u001b[0m \u001b[1;34m\"r\"\u001b[0m\u001b[1;33m)\u001b[0m \u001b[1;32mas\u001b[0m \u001b[0mf\u001b[0m\u001b[1;33m:\u001b[0m\u001b[1;33m\u001b[0m\u001b[1;33m\u001b[0m\u001b[0m\n\u001b[1;32m----> 2\u001b[1;33m  \u001b[0mtext\u001b[0m \u001b[1;33m=\u001b[0m \u001b[0mf\u001b[0m\u001b[1;33m.\u001b[0m\u001b[0mread\u001b[0m\u001b[1;33m(\u001b[0m\u001b[1;33m)\u001b[0m\u001b[1;33m.\u001b[0m\u001b[0mdecode\u001b[0m\u001b[1;33m(\u001b[0m\u001b[1;34m'UTF-8'\u001b[0m\u001b[1;33m)\u001b[0m\u001b[1;33m\u001b[0m\u001b[1;33m\u001b[0m\u001b[0m\n\u001b[0m",
      "\u001b[1;31mAttributeError\u001b[0m: 'str' object has no attribute 'decode'"
     ]
    }
   ],
   "source": [
    "with open(\"myfile.txt\", \"r\") as f:\n",
    " text = f.read().decode('UTF-8')"
   ]
  },
  {
   "cell_type": "markdown",
   "metadata": {},
   "source": [
    "The above function will open an UTF-8 encoded file and decode it and assign the output to variable \"text\". it runs in python2 but when we run the same in the python3 it throws an error. "
   ]
  },
  {
   "cell_type": "code",
   "execution_count": 140,
   "metadata": {},
   "outputs": [
    {
     "data": {
      "text/plain": [
       "True"
      ]
     },
     "execution_count": 140,
     "metadata": {},
     "output_type": "execute_result"
    }
   ],
   "source": [
    "foo #declaring variable foo\n",
    "foo == None"
   ]
  },
  {
   "cell_type": "markdown",
   "metadata": {},
   "source": [
    "In the Above command the left value is compared with right side value. if both are same then it returns \"True\" or else it returns \"False\". \"==\" operator is used to compare two values."
   ]
  },
  {
   "cell_type": "code",
   "execution_count": 23,
   "metadata": {},
   "outputs": [
    {
     "ename": "TypeError",
     "evalue": "'str' object does not support item assignment",
     "output_type": "error",
     "traceback": [
      "\u001b[1;31m---------------------------------------------------------------------------\u001b[0m",
      "\u001b[1;31mTypeError\u001b[0m                                 Traceback (most recent call last)",
      "\u001b[1;32m<ipython-input-23-9bb4e55a7bde>\u001b[0m in \u001b[0;36m<module>\u001b[1;34m\u001b[0m\n\u001b[0;32m      1\u001b[0m \u001b[0mname\u001b[0m \u001b[1;33m=\u001b[0m \u001b[1;34m\"My name is Brenda\"\u001b[0m\u001b[1;33m\u001b[0m\u001b[1;33m\u001b[0m\u001b[0m\n\u001b[1;32m----> 2\u001b[1;33m \u001b[0mname\u001b[0m\u001b[1;33m[\u001b[0m\u001b[1;36m0\u001b[0m\u001b[1;33m]\u001b[0m \u001b[1;33m=\u001b[0m \u001b[1;34m\"A\"\u001b[0m\u001b[1;33m\u001b[0m\u001b[1;33m\u001b[0m\u001b[0m\n\u001b[0m",
      "\u001b[1;31mTypeError\u001b[0m: 'str' object does not support item assignment"
     ]
    }
   ],
   "source": [
    "name = \"My name is Brenda\"\n",
    "name[0] = \"A\""
   ]
  },
  {
   "cell_type": "markdown",
   "metadata": {},
   "source": [
    "In the above statement variable \"name\" is assigned with a string of characters. name[0] = \"A\" is used to change the index 0 value to a new character. But this operation cannot be performed as the \"name\" variable is a string its characters are immutable. we can change the whole string but not a single character in the string."
   ]
  },
  {
   "cell_type": "code",
   "execution_count": 24,
   "metadata": {},
   "outputs": [
    {
     "data": {
      "text/plain": [
       "27"
      ]
     },
     "execution_count": 24,
     "metadata": {},
     "output_type": "execute_result"
    }
   ],
   "source": [
    "x = 3\n",
    "x**3"
   ]
  },
  {
   "cell_type": "markdown",
   "metadata": {},
   "source": [
    "In the above statements first we are assigning a number to the variable x and then in the next step we are multiplying the number by itself 3 times (cube). when we execute this code we get an output of 27 as the number 3 is multiplied 3 times by itself"
   ]
  },
  {
   "cell_type": "code",
   "execution_count": 26,
   "metadata": {},
   "outputs": [
    {
     "data": {
      "text/plain": [
       "6"
      ]
     },
     "execution_count": 26,
     "metadata": {},
     "output_type": "execute_result"
    }
   ],
   "source": [
    "20%7 "
   ]
  },
  {
   "cell_type": "markdown",
   "metadata": {},
   "source": [
    "% operator is used to get the remainder when numerator is divided by denomenator. "
   ]
  },
  {
   "cell_type": "markdown",
   "metadata": {},
   "source": [
    "2. Write a program to prompt for a score between 0 and 100.\n",
    "If the score is out of range, print an error message. If the score is between 0 and 100,\n",
    "print a grade using the following table:\n",
    "    Score  Grade\n",
    "    >= 90   A\n",
    "    >= 80   B\n",
    "    >= 70   C\n",
    "    >= 60   D\n",
    "    < 60    F      "
   ]
  },
  {
   "cell_type": "code",
   "execution_count": 35,
   "metadata": {},
   "outputs": [
    {
     "name": "stdout",
     "output_type": "stream",
     "text": [
      "Enter a score between 0 and 100: \n",
      "70\n",
      "Grade is C\n"
     ]
    }
   ],
   "source": [
    "a = int(input(\"Enter a score between 0 and 100: \\n\"))\n",
    "#print (a)\n",
    "if ( a < 0 or a > 100 ):\n",
    "    print(\"Score out of range\")\n",
    "elif ( a >= 90 ):\n",
    "    print (\"Grade is A\")\n",
    "elif ( 80 <= a < 90 ):\n",
    "    print (\"Grade is B\")\n",
    "elif ( 70 <= a < 80 ):\n",
    "    print (\"Grade is C\")\n",
    "elif ( 60 <= a < 70 ):\n",
    "    print (\"Grade is D\")\n",
    "else:\n",
    "    print (\"Grade is F\")"
   ]
  },
  {
   "cell_type": "markdown",
   "metadata": {},
   "source": [
    "3. Write a Python program to generate 12 random numbers\n",
    "between 1 and 100. Sort the list of numbers in ascending order and print it out. Sort\n",
    "the list of numbers in descending order and print it out. Calculate the average for the\n",
    "group and print it out"
   ]
  },
  {
   "cell_type": "code",
   "execution_count": 65,
   "metadata": {},
   "outputs": [
    {
     "name": "stdout",
     "output_type": "stream",
     "text": [
      "[58, 95, 91, 74, 4, 69, 25, 75, 51, 2, 93, 44]\n",
      "Random numbers in ascending order is:  [2, 4, 25, 44, 51, 58, 69, 74, 75, 91, 93, 95]\n",
      "Random numbers in descending order is: [95, 93, 91, 75, 74, 69, 58, 51, 44, 25, 4, 2]\n",
      "Average of the list is:  56.75\n"
     ]
    }
   ],
   "source": [
    "from random import sample\n",
    "a = [l for l in range(1, 101)]\n",
    "#print (a)\n",
    "b = 0\n",
    "list1 = sample(a, 12) #getting 12 numbers randomly in the range of 1 and 100 including both the values as well\n",
    "#print (list1)\n",
    "list1.sort()\n",
    "print (\"Random numbers in ascending order is: \", list1)\n",
    "list1.sort(reverse=True) #when reverse=True the sorting order is reversed.\n",
    "print (\"Random numbers in descending order is:\", list1)\n",
    "for i in list1:\n",
    "    b = b + i\n",
    "print (\"Average of the list is: \", b/len(list1))"
   ]
  },
  {
   "cell_type": "markdown",
   "metadata": {},
   "source": [
    "4. The formula that describes the volume V of a sphere with\n",
    "radius r is the following:\n",
    "$$𝑉 =\\frac{4}{3} ∗ 𝜋 ∗ 𝑟^3$$\n",
    "Write a program to calculate the value of V when r is in the range of 1– 10. Output\n",
    "the result in the following format:\n",
    "r V\n",
    "1 …\n",
    "2 …\n",
    "3 …\n",
    "\n"
   ]
  },
  {
   "cell_type": "code",
   "execution_count": 76,
   "metadata": {},
   "outputs": [
    {
     "name": "stdout",
     "output_type": "stream",
     "text": [
      "r       V\n",
      "1    4.1887902047863905\n",
      "2    33.510321638291124\n",
      "3    113.09733552923254\n",
      "4    268.082573106329\n",
      "5    523.5987755982989\n",
      "6    904.7786842338603\n",
      "7    1436.7550402417319\n",
      "8    2144.660584850632\n",
      "9    3053.6280592892786\n",
      "10    4188.790204786391\n"
     ]
    }
   ],
   "source": [
    "import math\n",
    "print(\"r       V\" )\n",
    "for r in range(1, 11):\n",
    "    v = (4/3)*math.pi*r**3\n",
    "    a = \"   \" + str(v)\n",
    "    print(r,a)"
   ]
  },
  {
   "cell_type": "markdown",
   "metadata": {},
   "source": [
    "5. Write a program that will do the following string\n",
    "formatting tasks:"
   ]
  },
  {
   "cell_type": "markdown",
   "metadata": {},
   "source": [
    "5.1.Ask the user to enter two sentences"
   ]
  },
  {
   "cell_type": "code",
   "execution_count": 94,
   "metadata": {},
   "outputs": [
    {
     "name": "stdout",
     "output_type": "stream",
     "text": [
      "enter two sentences seperated by comma(,)Hello world!! this is my first @day, this is a \"python\" class\n",
      "first sentence is:  Hello world!! this is my first @day\n",
      "Second sentence is: this is a \"python\" class\n"
     ]
    }
   ],
   "source": [
    "delimiter = (\", \")\n",
    "a,b=input(\"enter two sentences seperated by comma(,)\").split(delimiter)\n",
    "print(\"first sentence is: \", a)\n",
    "print(\"Second sentence is:\",b)"
   ]
  },
  {
   "cell_type": "markdown",
   "metadata": {},
   "source": [
    "5.2 Make each sentence into a list. Each element in the list should correspond to\n",
    "a word in the sentence. For example, if the sentence is \"Alas! Am I alive? This\n",
    "is my first python program\", the program should print out ['Alas!', 'Am', 'I',\n",
    "'alive?', 'This', 'is', 'my', 'first', 'python', 'program'] or ['Alas, '!', 'Am', 'I', 'alive,\n",
    "'?', 'This', 'is', 'my', 'first', 'python', 'program']"
   ]
  },
  {
   "cell_type": "code",
   "execution_count": 95,
   "metadata": {},
   "outputs": [
    {
     "name": "stdout",
     "output_type": "stream",
     "text": [
      "['Hello', 'world!!', 'this', 'is', 'my', 'first', '@day']\n",
      "['this', 'is', 'a', '\"python\"', 'class']\n"
     ]
    }
   ],
   "source": [
    "list1=a.split(\" \")\n",
    "list2=b.split(\" \")\n",
    "print(list1)\n",
    "print(list2)"
   ]
  },
  {
   "cell_type": "markdown",
   "metadata": {},
   "source": [
    "5.3 Compare the two sentences. Print out a list of words that occur in both\n",
    "sentences."
   ]
  },
  {
   "cell_type": "code",
   "execution_count": 96,
   "metadata": {},
   "outputs": [
    {
     "data": {
      "text/plain": [
       "{'is', 'this'}"
      ]
     },
     "execution_count": 96,
     "metadata": {},
     "output_type": "execute_result"
    }
   ],
   "source": [
    "set(list1) & set(list2)"
   ]
  },
  {
   "cell_type": "markdown",
   "metadata": {},
   "source": [
    "5.4 Remove any punctuation from the sentence and print it back out. It should\n",
    "remove at least the following characters, but it can remove more: period(“.”),\n",
    "comma (“,”), semicolon (“;”), and colon (“:”)"
   ]
  },
  {
   "cell_type": "code",
   "execution_count": 115,
   "metadata": {},
   "outputs": [
    {
     "name": "stdout",
     "output_type": "stream",
     "text": [
      "Original sentece is:  Hello world!! this is my first @day\n",
      "New sentence is:  Hello world this is my first day\n",
      "Original sentece is:  this is a \"python\" class\n",
      "New sentence is:  this is a python class\n"
     ]
    }
   ],
   "source": [
    "import re\n",
    "sen1 = re.sub('[^ a-zA-Z0-9]+', '', a)\n",
    "sen2 = re.sub('[^ a-zA-Z0-9]+', '', b)\n",
    "print(\"Original sentece is: \", a)\n",
    "print(\"New sentence is: \", sen1)\n",
    "print(\"Original sentece is: \", b)\n",
    "print(\"New sentence is: \", sen2)"
   ]
  },
  {
   "cell_type": "markdown",
   "metadata": {},
   "source": [
    "5.5 Count the number of vowels in the sentences. Print out each vowel and the\n",
    "number of times it appears in the sentences, such as: a:2, e:1, i:0, etc. "
   ]
  },
  {
   "cell_type": "code",
   "execution_count": 117,
   "metadata": {},
   "outputs": [
    {
     "name": "stdout",
     "output_type": "stream",
     "text": [
      "Vowels count in 1st sentence is:\n",
      "a 1\n",
      "e 1\n",
      "i 3\n",
      "o 2\n",
      "u 0\n",
      "Vowels count in 2nd sentence is:\n",
      "a 2\n",
      "e 0\n",
      "i 2\n",
      "o 1\n",
      "u 0\n"
     ]
    }
   ],
   "source": [
    "from collections import Counter\n",
    "vowels = ['a', 'e', 'i', 'o', 'u']\n",
    "print(\"Vowels count in 1st sentence is:\")\n",
    "for v in vowels:\n",
    "    print (v, a.lower().count(v))\n",
    "print(\"Vowels count in 2nd sentence is:\")\n",
    "for v in vowels:\n",
    "    print (v, b.lower().count(v))"
   ]
  },
  {
   "cell_type": "code",
   "execution_count": null,
   "metadata": {},
   "outputs": [],
   "source": []
  }
 ],
 "metadata": {
  "kernelspec": {
   "display_name": "Python 3",
   "language": "python",
   "name": "python3"
  },
  "language_info": {
   "codemirror_mode": {
    "name": "ipython",
    "version": 3
   },
   "file_extension": ".py",
   "mimetype": "text/x-python",
   "name": "python",
   "nbconvert_exporter": "python",
   "pygments_lexer": "ipython3",
   "version": "3.7.1"
  }
 },
 "nbformat": 4,
 "nbformat_minor": 2
}
