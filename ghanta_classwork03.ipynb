{
  "nbformat": 4,
  "nbformat_minor": 0,
  "metadata": {
    "colab": {
      "name": "ghanta_classwork03",
      "version": "0.3.2",
      "provenance": [],
      "collapsed_sections": [],
      "toc_visible": true,
      "include_colab_link": true
    },
    "kernelspec": {
      "name": "python3",
      "display_name": "Python 3"
    }
  },
  "cells": [
    {
      "cell_type": "markdown",
      "metadata": {
        "id": "view-in-github",
        "colab_type": "text"
      },
      "source": [
        "<a href=\"https://colab.research.google.com/github/Shashank-gc/info5731/blob/master/ghanta_classwork03.ipynb\" target=\"_parent\"><img src=\"https://colab.research.google.com/assets/colab-badge.svg\" alt=\"Open In Colab\"/></a>"
      ]
    },
    {
      "metadata": {
        "id": "pYrY2Fl1pvwx",
        "colab_type": "text"
      },
      "cell_type": "markdown",
      "source": [
        "# Class work 3: Text Classification on IMDB review samples"
      ]
    },
    {
      "metadata": {
        "id": "fx6U7fk7sRz-",
        "colab_type": "text"
      },
      "cell_type": "markdown",
      "source": [
        "## Data loading"
      ]
    },
    {
      "metadata": {
        "id": "pkoTrpCUpeCz",
        "colab_type": "text"
      },
      "cell_type": "markdown",
      "source": [
        "**Question 1: (10 points)**\n",
        "\n",
        "Go to [this link](https://unt.instructure.com/courses/12025/files/2443720/download?download_frd=1) to download the data file and upload it to Google Colab. And then run the following commands:"
      ]
    },
    {
      "metadata": {
        "id": "NIK8xVzmsR0C",
        "colab_type": "code",
        "colab": {}
      },
      "cell_type": "code",
      "source": [
        "import pickle"
      ],
      "execution_count": 0,
      "outputs": []
    },
    {
      "metadata": {
        "id": "egds4jV6sR0K",
        "colab_type": "code",
        "colab": {}
      },
      "cell_type": "code",
      "source": [
        "with open('imdb-review.pickle', 'rb') as f:\n",
        "    train, test = pickle.load(f)"
      ],
      "execution_count": 0,
      "outputs": []
    },
    {
      "metadata": {
        "id": "uouUbO1_s0Tj",
        "colab_type": "code",
        "outputId": "9b49fe42-acd7-4d7a-8868-155ab2c4a501",
        "colab": {
          "base_uri": "https://localhost:8080/",
          "height": 203
        }
      },
      "cell_type": "code",
      "source": [
        "train.head()"
      ],
      "execution_count": 0,
      "outputs": [
        {
          "output_type": "execute_result",
          "data": {
            "text/html": [
              "<div>\n",
              "<style scoped>\n",
              "    .dataframe tbody tr th:only-of-type {\n",
              "        vertical-align: middle;\n",
              "    }\n",
              "\n",
              "    .dataframe tbody tr th {\n",
              "        vertical-align: top;\n",
              "    }\n",
              "\n",
              "    .dataframe thead th {\n",
              "        text-align: right;\n",
              "    }\n",
              "</style>\n",
              "<table border=\"1\" class=\"dataframe\">\n",
              "  <thead>\n",
              "    <tr style=\"text-align: right;\">\n",
              "      <th></th>\n",
              "      <th>text</th>\n",
              "      <th>sentiment</th>\n",
              "    </tr>\n",
              "  </thead>\n",
              "  <tbody>\n",
              "    <tr>\n",
              "      <th>0</th>\n",
              "      <td>For a movie that gets no respect there sure ar...</td>\n",
              "      <td>1</td>\n",
              "    </tr>\n",
              "    <tr>\n",
              "      <th>1</th>\n",
              "      <td>Bizarre horror movie filled with famous faces ...</td>\n",
              "      <td>1</td>\n",
              "    </tr>\n",
              "    <tr>\n",
              "      <th>2</th>\n",
              "      <td>A solid, if unremarkable film. Matthau, as Ein...</td>\n",
              "      <td>1</td>\n",
              "    </tr>\n",
              "    <tr>\n",
              "      <th>3</th>\n",
              "      <td>It's a strange feeling to sit alone in a theat...</td>\n",
              "      <td>1</td>\n",
              "    </tr>\n",
              "    <tr>\n",
              "      <th>4</th>\n",
              "      <td>You probably all already know this by now, but...</td>\n",
              "      <td>1</td>\n",
              "    </tr>\n",
              "  </tbody>\n",
              "</table>\n",
              "</div>"
            ],
            "text/plain": [
              "                                                text  sentiment\n",
              "0  For a movie that gets no respect there sure ar...          1\n",
              "1  Bizarre horror movie filled with famous faces ...          1\n",
              "2  A solid, if unremarkable film. Matthau, as Ein...          1\n",
              "3  It's a strange feeling to sit alone in a theat...          1\n",
              "4  You probably all already know this by now, but...          1"
            ]
          },
          "metadata": {
            "tags": []
          },
          "execution_count": 74
        }
      ]
    },
    {
      "metadata": {
        "id": "dxo7XSyQtfHC",
        "colab_type": "text"
      },
      "cell_type": "markdown",
      "source": [
        "You should see the output like this:"
      ]
    },
    {
      "metadata": {
        "id": "T1jOySWDti2p",
        "colab_type": "text"
      },
      "cell_type": "markdown",
      "source": [
        "![](https://github.com/wshuyi/github_pub_img/raw/master/assets/2019-03-25-21-22-19-073406.png)"
      ]
    },
    {
      "metadata": {
        "id": "i9Vi5TQRsR0P",
        "colab_type": "text"
      },
      "cell_type": "markdown",
      "source": [
        "## sampling\n"
      ]
    },
    {
      "metadata": {
        "id": "eXQ2iWF2sR0Q",
        "colab_type": "text"
      },
      "cell_type": "markdown",
      "source": [
        "**Question 2: (10 points)**\n",
        "\n",
        "Sample **2000** rows from original training set. 1000 positive, 1000 negative. To keep all your result identical, please use **`random_state=1`** while sampling. Reset the index of generated data frame, and save it to **`train`**. (Hint: you can refer to[ this document](https://pandas.pydata.org/pandas-docs/stable/reference/api/pandas.DataFrame.sample.html).)\n",
        "\n",
        "\n",
        "\n",
        "\n"
      ]
    },
    {
      "metadata": {
        "id": "AlGynFk0sR0S",
        "colab_type": "code",
        "colab": {}
      },
      "cell_type": "code",
      "source": [
        "train_sample1 = train[train['sentiment'] == 1].sample(n=1000,random_state=1)\n",
        "train_sample2 = train[train['sentiment'] < 1].sample(n=1000, random_state=1)\n",
        "train_sample = train_sample1.append(train_sample2, ignore_index=True)"
      ],
      "execution_count": 0,
      "outputs": []
    },
    {
      "metadata": {
        "id": "s1ToWhMsnctA",
        "colab_type": "code",
        "colab": {}
      },
      "cell_type": "code",
      "source": [
        "train = train_sample"
      ],
      "execution_count": 0,
      "outputs": []
    },
    {
      "metadata": {
        "id": "VWtvPqj5sR0X",
        "colab_type": "code",
        "outputId": "a2b3abf7-6afc-4a43-ff2e-19ef8a920c8f",
        "colab": {
          "base_uri": "https://localhost:8080/",
          "height": 203
        }
      },
      "cell_type": "code",
      "source": [
        "train.head()"
      ],
      "execution_count": 0,
      "outputs": [
        {
          "output_type": "execute_result",
          "data": {
            "text/html": [
              "<div>\n",
              "<style scoped>\n",
              "    .dataframe tbody tr th:only-of-type {\n",
              "        vertical-align: middle;\n",
              "    }\n",
              "\n",
              "    .dataframe tbody tr th {\n",
              "        vertical-align: top;\n",
              "    }\n",
              "\n",
              "    .dataframe thead th {\n",
              "        text-align: right;\n",
              "    }\n",
              "</style>\n",
              "<table border=\"1\" class=\"dataframe\">\n",
              "  <thead>\n",
              "    <tr style=\"text-align: right;\">\n",
              "      <th></th>\n",
              "      <th>text</th>\n",
              "      <th>sentiment</th>\n",
              "    </tr>\n",
              "  </thead>\n",
              "  <tbody>\n",
              "    <tr>\n",
              "      <th>0</th>\n",
              "      <td>I have watched this episode more often than an...</td>\n",
              "      <td>1</td>\n",
              "    </tr>\n",
              "    <tr>\n",
              "      <th>1</th>\n",
              "      <td>As many reviewers here have noted, the film ve...</td>\n",
              "      <td>1</td>\n",
              "    </tr>\n",
              "    <tr>\n",
              "      <th>2</th>\n",
              "      <td>At first,this movie seems so bad that i almost...</td>\n",
              "      <td>1</td>\n",
              "    </tr>\n",
              "    <tr>\n",
              "      <th>3</th>\n",
              "      <td>Was this based on a comic-book? A video-game? ...</td>\n",
              "      <td>1</td>\n",
              "    </tr>\n",
              "    <tr>\n",
              "      <th>4</th>\n",
              "      <td>Melissa Joan Hart shines! This show is amazing...</td>\n",
              "      <td>1</td>\n",
              "    </tr>\n",
              "  </tbody>\n",
              "</table>\n",
              "</div>"
            ],
            "text/plain": [
              "                                                text  sentiment\n",
              "0  I have watched this episode more often than an...          1\n",
              "1  As many reviewers here have noted, the film ve...          1\n",
              "2  At first,this movie seems so bad that i almost...          1\n",
              "3  Was this based on a comic-book? A video-game? ...          1\n",
              "4  Melissa Joan Hart shines! This show is amazing...          1"
            ]
          },
          "metadata": {
            "tags": []
          },
          "execution_count": 77
        }
      ]
    },
    {
      "metadata": {
        "colab_type": "text",
        "id": "VLBE4y9VuoJW"
      },
      "cell_type": "markdown",
      "source": [
        "You should see the output like this:\n",
        "\n",
        "![](https://github.com/wshuyi/github_pub_img/raw/master/assets/2019-03-25-21-22-32-893523.png)"
      ]
    },
    {
      "metadata": {
        "id": "WQrxhyIzsR0e",
        "colab_type": "code",
        "outputId": "c10d858d-bda9-4307-a4ef-81d746fc3a33",
        "colab": {
          "base_uri": "https://localhost:8080/",
          "height": 203
        }
      },
      "cell_type": "code",
      "source": [
        "train.tail()"
      ],
      "execution_count": 0,
      "outputs": [
        {
          "output_type": "execute_result",
          "data": {
            "text/html": [
              "<div>\n",
              "<style scoped>\n",
              "    .dataframe tbody tr th:only-of-type {\n",
              "        vertical-align: middle;\n",
              "    }\n",
              "\n",
              "    .dataframe tbody tr th {\n",
              "        vertical-align: top;\n",
              "    }\n",
              "\n",
              "    .dataframe thead th {\n",
              "        text-align: right;\n",
              "    }\n",
              "</style>\n",
              "<table border=\"1\" class=\"dataframe\">\n",
              "  <thead>\n",
              "    <tr style=\"text-align: right;\">\n",
              "      <th></th>\n",
              "      <th>text</th>\n",
              "      <th>sentiment</th>\n",
              "    </tr>\n",
              "  </thead>\n",
              "  <tbody>\n",
              "    <tr>\n",
              "      <th>1995</th>\n",
              "      <td>Is rich, ailing Elizabeth Taylor courting the ...</td>\n",
              "      <td>0</td>\n",
              "    </tr>\n",
              "    <tr>\n",
              "      <th>1996</th>\n",
              "      <td>The movie itself is not too bad; many comments...</td>\n",
              "      <td>0</td>\n",
              "    </tr>\n",
              "    <tr>\n",
              "      <th>1997</th>\n",
              "      <td>I feel much less generous with this film than ...</td>\n",
              "      <td>0</td>\n",
              "    </tr>\n",
              "    <tr>\n",
              "      <th>1998</th>\n",
              "      <td>It SURPRISINGLY had a plot! ;) I've seen movie...</td>\n",
              "      <td>0</td>\n",
              "    </tr>\n",
              "    <tr>\n",
              "      <th>1999</th>\n",
              "      <td>This movie could have been 15 minutes long if ...</td>\n",
              "      <td>0</td>\n",
              "    </tr>\n",
              "  </tbody>\n",
              "</table>\n",
              "</div>"
            ],
            "text/plain": [
              "                                                   text  sentiment\n",
              "1995  Is rich, ailing Elizabeth Taylor courting the ...          0\n",
              "1996  The movie itself is not too bad; many comments...          0\n",
              "1997  I feel much less generous with this film than ...          0\n",
              "1998  It SURPRISINGLY had a plot! ;) I've seen movie...          0\n",
              "1999  This movie could have been 15 minutes long if ...          0"
            ]
          },
          "metadata": {
            "tags": []
          },
          "execution_count": 78
        }
      ]
    },
    {
      "metadata": {
        "colab_type": "text",
        "id": "oaIig18au7xw"
      },
      "cell_type": "markdown",
      "source": [
        "You should see the output like this:\n",
        "\n",
        "![](https://github.com/wshuyi/github_pub_img/raw/master/assets/2019-03-25-21-22-52-059518.png)"
      ]
    },
    {
      "metadata": {
        "id": "4jAiC2TSvXXT",
        "colab_type": "text"
      },
      "cell_type": "markdown",
      "source": [
        "**Question 3: (10 points)**\n",
        "\n",
        "Sample **1000** rows from original test set. 500 positive, 500 negative. To keep all your result identical, please use **`random_state=1`** while sampling. Reset the index of generated data frame, and save it to **`test`**. (Hint: you can refer to[ this document](https://pandas.pydata.org/pandas-docs/stable/reference/api/pandas.DataFrame.sample.html).)\n",
        "\n",
        "\n",
        "\n",
        "\n",
        "\n",
        "\n"
      ]
    },
    {
      "metadata": {
        "colab_type": "code",
        "id": "oP6mMOnvzS6L",
        "colab": {}
      },
      "cell_type": "code",
      "source": [
        "test_sample1 = test[test['sentiment'] == 1].sample(n=500,random_state=1)\n",
        "test_sample2 = test[test['sentiment'] < 1].sample(n=500, random_state=1)\n",
        "test_sample = test_sample1.append(test_sample2, ignore_index=True)"
      ],
      "execution_count": 0,
      "outputs": []
    },
    {
      "metadata": {
        "id": "yVulvkv7sR0i",
        "colab_type": "code",
        "outputId": "6665d4d9-8378-4c23-835e-ac67f9bf112b",
        "colab": {
          "base_uri": "https://localhost:8080/",
          "height": 203
        }
      },
      "cell_type": "code",
      "source": [
        "test = test_sample\n",
        "test.head()"
      ],
      "execution_count": 0,
      "outputs": [
        {
          "output_type": "execute_result",
          "data": {
            "text/html": [
              "<div>\n",
              "<style scoped>\n",
              "    .dataframe tbody tr th:only-of-type {\n",
              "        vertical-align: middle;\n",
              "    }\n",
              "\n",
              "    .dataframe tbody tr th {\n",
              "        vertical-align: top;\n",
              "    }\n",
              "\n",
              "    .dataframe thead th {\n",
              "        text-align: right;\n",
              "    }\n",
              "</style>\n",
              "<table border=\"1\" class=\"dataframe\">\n",
              "  <thead>\n",
              "    <tr style=\"text-align: right;\">\n",
              "      <th></th>\n",
              "      <th>text</th>\n",
              "      <th>sentiment</th>\n",
              "    </tr>\n",
              "  </thead>\n",
              "  <tbody>\n",
              "    <tr>\n",
              "      <th>0</th>\n",
              "      <td>Bug Juice changed my life. I Know it sounds st...</td>\n",
              "      <td>1</td>\n",
              "    </tr>\n",
              "    <tr>\n",
              "      <th>1</th>\n",
              "      <td>As many of today's movies are guilty of, the p...</td>\n",
              "      <td>1</td>\n",
              "    </tr>\n",
              "    <tr>\n",
              "      <th>2</th>\n",
              "      <td>This is one of the best movies I have ever see...</td>\n",
              "      <td>1</td>\n",
              "    </tr>\n",
              "    <tr>\n",
              "      <th>3</th>\n",
              "      <td>This movie took me by surprise. The opening cr...</td>\n",
              "      <td>1</td>\n",
              "    </tr>\n",
              "    <tr>\n",
              "      <th>4</th>\n",
              "      <td>I am salivating for the sequels. I needed some...</td>\n",
              "      <td>1</td>\n",
              "    </tr>\n",
              "  </tbody>\n",
              "</table>\n",
              "</div>"
            ],
            "text/plain": [
              "                                                text  sentiment\n",
              "0  Bug Juice changed my life. I Know it sounds st...          1\n",
              "1  As many of today's movies are guilty of, the p...          1\n",
              "2  This is one of the best movies I have ever see...          1\n",
              "3  This movie took me by surprise. The opening cr...          1\n",
              "4  I am salivating for the sequels. I needed some...          1"
            ]
          },
          "metadata": {
            "tags": []
          },
          "execution_count": 80
        }
      ]
    },
    {
      "metadata": {
        "id": "yrkbLE0-O2X7",
        "colab_type": "code",
        "colab": {}
      },
      "cell_type": "code",
      "source": [
        ""
      ],
      "execution_count": 0,
      "outputs": []
    },
    {
      "metadata": {
        "id": "cn1H5FXNOQtl",
        "colab_type": "code",
        "outputId": "eef41766-bdc0-4666-c3d7-8df6869c99a3",
        "colab": {
          "base_uri": "https://localhost:8080/",
          "height": 2251
        }
      },
      "cell_type": "code",
      "source": [
        "a = (train, test)\n",
        "a"
      ],
      "execution_count": 0,
      "outputs": [
        {
          "output_type": "execute_result",
          "data": {
            "text/plain": [
              "(                                                   text  sentiment\n",
              " 0     I have watched this episode more often than an...          1\n",
              " 1     As many reviewers here have noted, the film ve...          1\n",
              " 2     At first,this movie seems so bad that i almost...          1\n",
              " 3     Was this based on a comic-book? A video-game? ...          1\n",
              " 4     Melissa Joan Hart shines! This show is amazing...          1\n",
              " 5     So this made for TV film scores only a 7.6 on ...          1\n",
              " 6     me and my sister use to rent this every time w...          1\n",
              " 7     \"THINGS TO COME\" Movie Review by kWRice<br /><...          1\n",
              " 8     When the British Film Institute asked Martin S...          1\n",
              " 9     Okay. Yes, this was a very-tight-budget movie ...          1\n",
              " 10    One of the most nihilistic and brutal films I'...          1\n",
              " 11    I find myself comparing all stand-up acts to t...          1\n",
              " 12    no movie with dennis hopper, gary busey, erika...          1\n",
              " 13    Amazing acting, music. A simple and clear plot...          1\n",
              " 14    Bruce Almighty is the best Jim Carrey work sin...          1\n",
              " 15    For those that were interested in knowing how ...          1\n",
              " 16    What happens when someone has so much social a...          1\n",
              " 17    I watched this movie once and might watch it a...          1\n",
              " 18    Slaughter High is about a boy named Marty. He ...          1\n",
              " 19    Mean-spirited, ugly, nasty retro-action thrill...          1\n",
              " 20    Went to see this finnish film and I've got to ...          1\n",
              " 21    THis was a hilarious movie and I would see it ...          1\n",
              " 22    I really enjoyed The 60's. Not being of that g...          1\n",
              " 23    This is the French and Belgians doing what the...          1\n",
              " 24    OK where do i begin?... This movie changed my ...          1\n",
              " 25    Back in the forties, when movies touched on ma...          1\n",
              " 26    Girlfight is like your grandmother's cooking: ...          1\n",
              " 27    Those who love Elivra as I did in her late nig...          1\n",
              " 28    If you want to be cynical and pedantic you cou...          1\n",
              " 29    Well, if you are looking for a great mind cont...          1\n",
              " ...                                                 ...        ...\n",
              " 1970  When a man who doesn't have Alzheimer's can't ...          0\n",
              " 1971  This was longer than the Ten Commandments, All...          0\n",
              " 1972  *Spoiler warning*<br /><br />First of all I ra...          0\n",
              " 1973  A great concept gone wrong. Poor acting, even ...          0\n",
              " 1974  This film is really unbelievable. I've seen so...          0\n",
              " 1975  1st watched 12/6/2009 - 4 out of 10 (Dir-Walte...          0\n",
              " 1976  This review is based on the dubbed Shock-o-Ram...          0\n",
              " 1977  The saddest part of this is the fact that thes...          0\n",
              " 1978  There is absolutely NO reason to waste your ti...          0\n",
              " 1979  What begins as a fairly clever farce about a s...          0\n",
              " 1980  When the folks at Kino Video assembled their f...          0\n",
              " 1981  If you see this turkey listed in your TV guide...          0\n",
              " 1982  ... Bad at being intentionally bad...<br /><br...          0\n",
              " 1983  Here we go with other slasher movie, Good look...          0\n",
              " 1984  This movie masquerades as a social commentary,...          0\n",
              " 1985  It must have been excruciating to attend the d...          0\n",
              " 1986  Woody Allen made \"September\", proving that eve...          0\n",
              " 1987  <br /><br />I watched this movie just a little...          0\n",
              " 1988  \"Unhinged\" is one strange little film, a forgo...          0\n",
              " 1989  I thought that this movies was a letdown I exp...          0\n",
              " 1990  What's that there in the skies? Is it a plane?...          0\n",
              " 1991  Even Steve Martin and Dan Aykroyd couldn't sav...          0\n",
              " 1992  Whatever happened to British TV drama? From Jo...          0\n",
              " 1993  Sure it takes place in the west, but the title...          0\n",
              " 1994  A few years back the same persons who created ...          0\n",
              " 1995  Is rich, ailing Elizabeth Taylor courting the ...          0\n",
              " 1996  The movie itself is not too bad; many comments...          0\n",
              " 1997  I feel much less generous with this film than ...          0\n",
              " 1998  It SURPRISINGLY had a plot! ;) I've seen movie...          0\n",
              " 1999  This movie could have been 15 minutes long if ...          0\n",
              " \n",
              " [2000 rows x 2 columns],\n",
              "                                                   text  sentiment\n",
              " 0    Bug Juice changed my life. I Know it sounds st...          1\n",
              " 1    As many of today's movies are guilty of, the p...          1\n",
              " 2    This is one of the best movies I have ever see...          1\n",
              " 3    This movie took me by surprise. The opening cr...          1\n",
              " 4    I am salivating for the sequels. I needed some...          1\n",
              " 5    Garlin is unquestionably a comedian's comedian...          1\n",
              " 6    The greatest effort plus the finest cast ever ...          1\n",
              " 7    This really is a movie that you need to see tw...          1\n",
              " 8    I really liked this one. (SPOILERS??) It had a...          1\n",
              " 9    This is a VERY good movie. I give it a 10.<br ...          1\n",
              " 10   This is a well done action movie. There are pl...          1\n",
              " 11   There are too many people on this board who ha...          1\n",
              " 12   This sequel proves that Tim Burton was for all...          1\n",
              " 13   Right, here we go, you have probably read in p...          1\n",
              " 14   In many ways, the filmic career of independent...          1\n",
              " 15   I watch this movie every time it plays on TV. ...          1\n",
              " 16   Highlighting the acting of Sidney Poitier and ...          1\n",
              " 17   Uzak (2002), a Turkish film shown in the U.S. ...          1\n",
              " 18   I watch a lot of Vampire movies. I KNOW vampir...          1\n",
              " 19   I saw this on TCM recently and, through the IM...          1\n",
              " 20   The film is excellent. One of the most notewor...          1\n",
              " 21   The first feature length Muppet Movie, and exc...          1\n",
              " 22   This is one of the Stooges best shorts. It was...          1\n",
              " 23   i am an avid ff7 fan, for instance i have the ...          1\n",
              " 24   My teacher did this movie. It's a new beginnin...          1\n",
              " 25   Bwana Devil is reputedly the first major studi...          1\n",
              " 26   I first viewed \"They Died With There Boots On\"...          1\n",
              " 27   i can't believe people are giving bad reviews ...          1\n",
              " 28   Superb silent version of the story of Francois...          1\n",
              " 29   This film is undoubtedly one of the greatest l...          1\n",
              " ..                                                 ...        ...\n",
              " 970  Roger Corman has enjoyed his shares of cinemat...          0\n",
              " 971  This movie should have been billed as three mo...          0\n",
              " 972  Stay away from this movie. Far away. Phil Fond...          0\n",
              " 973  Wasted is just that, a waste of time. MTV is c...          0\n",
              " 974  One of the commentators on the subject of Lil'...          0\n",
              " 975  I wish I could have given this a Zero. Sure I'...          0\n",
              " 976  This movie is not worth a descend review, it j...          0\n",
              " 977  From watching the trailer, the movie looked pr...          0\n",
              " 978  I caught a screening of this at the True/False...          0\n",
              " 979  L'Auberge Espagnole is less funny and less int...          0\n",
              " 980  pretty disappointing. i was expecting more of ...          0\n",
              " 981  I have done some research on Ed Gien, and I ha...          0\n",
              " 982  I really liked this movie. Number 5, the star ...          0\n",
              " 983  I had enjoyed the Masters of Horror Series unt...          0\n",
              " 984  'Book II' isn't a film, it's a sermon. This na...          0\n",
              " 985  Wow. I thought, Eskimo Limon was the most awfu...          0\n",
              " 986  If you're an average guy like me and enjoy goo...          0\n",
              " 987  I couldn't help but look at the time every 5 t...          0\n",
              " 988  This is a rip-off of already crappy hollywood ...          0\n",
              " 989  Only in the Hollywood audiovisual fiction worl...          0\n",
              " 990  When Pam Grier made COFFY in 1973, it was an e...          0\n",
              " 991  <br /><br />I understand that people have diff...          0\n",
              " 992  I am a German student so sorry for eventually ...          0\n",
              " 993  What can I say after I say the one line summar...          0\n",
              " 994  Nightkill stars Robert Mitchum as a world-wear...          0\n",
              " 995  This is my opinion of this movie, expressed in...          0\n",
              " 996  Why can't a movie be rated a zero? Or even a n...          0\n",
              " 997  The Gun is probably the worst film I've ever s...          0\n",
              " 998  If you are thinking of going to see this film ...          0\n",
              " 999  This movie was like a gathering of people that...          0\n",
              " \n",
              " [1000 rows x 2 columns])"
            ]
          },
          "metadata": {
            "tags": []
          },
          "execution_count": 114
        }
      ]
    },
    {
      "metadata": {
        "colab_type": "text",
        "id": "XMsPEhKNv9My"
      },
      "cell_type": "markdown",
      "source": [
        "You should see the output like this:\n",
        "\n",
        "![](https://github.com/wshuyi/github_pub_img/raw/master/assets/2019-03-25-21-23-06-418103.png)"
      ]
    },
    {
      "metadata": {
        "id": "TVOUQNtIsR0o",
        "colab_type": "code",
        "outputId": "b8015619-6590-4f7e-95d7-9fa9d180a358",
        "colab": {
          "base_uri": "https://localhost:8080/",
          "height": 203
        }
      },
      "cell_type": "code",
      "source": [
        "test.tail()"
      ],
      "execution_count": 0,
      "outputs": [
        {
          "output_type": "execute_result",
          "data": {
            "text/html": [
              "<div>\n",
              "<style scoped>\n",
              "    .dataframe tbody tr th:only-of-type {\n",
              "        vertical-align: middle;\n",
              "    }\n",
              "\n",
              "    .dataframe tbody tr th {\n",
              "        vertical-align: top;\n",
              "    }\n",
              "\n",
              "    .dataframe thead th {\n",
              "        text-align: right;\n",
              "    }\n",
              "</style>\n",
              "<table border=\"1\" class=\"dataframe\">\n",
              "  <thead>\n",
              "    <tr style=\"text-align: right;\">\n",
              "      <th></th>\n",
              "      <th>text</th>\n",
              "      <th>sentiment</th>\n",
              "    </tr>\n",
              "  </thead>\n",
              "  <tbody>\n",
              "    <tr>\n",
              "      <th>995</th>\n",
              "      <td>This is my opinion of this movie, expressed in...</td>\n",
              "      <td>0</td>\n",
              "    </tr>\n",
              "    <tr>\n",
              "      <th>996</th>\n",
              "      <td>Why can't a movie be rated a zero? Or even a n...</td>\n",
              "      <td>0</td>\n",
              "    </tr>\n",
              "    <tr>\n",
              "      <th>997</th>\n",
              "      <td>The Gun is probably the worst film I've ever s...</td>\n",
              "      <td>0</td>\n",
              "    </tr>\n",
              "    <tr>\n",
              "      <th>998</th>\n",
              "      <td>If you are thinking of going to see this film ...</td>\n",
              "      <td>0</td>\n",
              "    </tr>\n",
              "    <tr>\n",
              "      <th>999</th>\n",
              "      <td>This movie was like a gathering of people that...</td>\n",
              "      <td>0</td>\n",
              "    </tr>\n",
              "  </tbody>\n",
              "</table>\n",
              "</div>"
            ],
            "text/plain": [
              "                                                  text  sentiment\n",
              "995  This is my opinion of this movie, expressed in...          0\n",
              "996  Why can't a movie be rated a zero? Or even a n...          0\n",
              "997  The Gun is probably the worst film I've ever s...          0\n",
              "998  If you are thinking of going to see this film ...          0\n",
              "999  This movie was like a gathering of people that...          0"
            ]
          },
          "metadata": {
            "tags": []
          },
          "execution_count": 81
        }
      ]
    },
    {
      "metadata": {
        "colab_type": "text",
        "id": "4Zf1RhB3wFMs"
      },
      "cell_type": "markdown",
      "source": [
        "You should see the output like this:\n",
        "\n",
        "![](https://github.com/wshuyi/github_pub_img/raw/master/assets/2019-03-25-21-23-16-486933.png)"
      ]
    },
    {
      "metadata": {
        "id": "R7FJoBdhsR0z",
        "colab_type": "text"
      },
      "cell_type": "markdown",
      "source": [
        "## Classification with TextBlob"
      ]
    },
    {
      "metadata": {
        "id": "qASzg7UgwLZU",
        "colab_type": "text"
      },
      "cell_type": "markdown",
      "source": [
        "**Question 4: (30 points)**\n",
        "\n",
        "Use [textblob](https://textblob.readthedocs.io/en/dev/quickstart.html#sentiment-analysis) to do sentiment analysis on **test** data, and make a **`classification_report`** using the prediction result and real sentiment labels. (Hint: you can refer to [this link](https://scikit-learn.org/stable/modules/generated/sklearn.metrics.classification_report.html) for documentation.)\n",
        "\n",
        "\n",
        "\n",
        "\n",
        "\n",
        "\n"
      ]
    },
    {
      "metadata": {
        "id": "tUOvoJQg0aQN",
        "colab_type": "code",
        "colab": {}
      },
      "cell_type": "code",
      "source": [
        "from textblob import TextBlob\n",
        "test_str = test.iloc[0].text\n",
        "blob = TextBlob(test_str); \n",
        "pred=[]\n",
        "df = test\n",
        "for i in range(len(df)):\n",
        "  test_str = df.iloc[i].text\n",
        "  blob = TextBlob(test_str); blob\n",
        "  a=blob.sentiment.polarity\n",
        "  if a <= 0:\n",
        "    pred.append(0)\n",
        "  else:\n",
        "    pred.append(1)\n"
      ],
      "execution_count": 0,
      "outputs": []
    },
    {
      "metadata": {
        "id": "hWT9ZhHRtr-A",
        "colab_type": "code",
        "outputId": "176dbf38-09ef-4aca-90fb-b9c9f073de37",
        "colab": {
          "base_uri": "https://localhost:8080/",
          "height": 174
        }
      },
      "cell_type": "code",
      "source": [
        "from sklearn.metrics import classification_report\n",
        "test_x=test['sentiment']\n",
        "target_names=['0','1']\n",
        "print(classification_report(test_x,pred, target_names=target_names))"
      ],
      "execution_count": 0,
      "outputs": [
        {
          "output_type": "stream",
          "text": [
            "              precision    recall  f1-score   support\n",
            "\n",
            "           0       0.91      0.43      0.59       500\n",
            "           1       0.63      0.96      0.76       500\n",
            "\n",
            "   micro avg       0.69      0.69      0.69      1000\n",
            "   macro avg       0.77      0.69      0.67      1000\n",
            "weighted avg       0.77      0.69      0.67      1000\n",
            "\n"
          ],
          "name": "stdout"
        }
      ]
    },
    {
      "metadata": {
        "colab_type": "text",
        "id": "dL7EXDcqw5VZ"
      },
      "cell_type": "markdown",
      "source": [
        "You should see the output like this:\n",
        "\n",
        "![](https://github.com/wshuyi/github_pub_img/raw/master/assets/2019-03-25-21-23-27-649327.png)"
      ]
    },
    {
      "metadata": {
        "id": "ZGgNaxOssR1I",
        "colab_type": "text"
      },
      "cell_type": "markdown",
      "source": [
        "## Classification with Scikit-learn"
      ]
    },
    {
      "metadata": {
        "id": "UVeSXOs3xbiJ",
        "colab_type": "text"
      },
      "cell_type": "markdown",
      "source": [
        "**Question 5: (40 points)**\n",
        "\n",
        "Train a [MultinomialNB Model](https://scikit-learn.org/stable/modules/generated/sklearn.naive_bayes.MultinomialNB.html) from Scikit-learn with the **train** data. Make sure you convert the text data into high dimensional (2000) vectors with [CountVectorizer](https://scikit-learn.org/stable/modules/generated/sklearn.feature_extraction.text.CountVectorizer.html), and using proper parameters to filter the tokens. Then do sentiment analysis on **test** data, and make a **`classification_report`** using the prediction result and real sentiment labels. (Hint: you can refer to [this link](https://scikit-learn.org/stable/modules/generated/sklearn.metrics.classification_report.html) for documentation.)\n",
        "\n",
        "\n",
        "\n",
        "\n",
        "\n",
        "\n"
      ]
    },
    {
      "metadata": {
        "colab_type": "code",
        "id": "U4SKVnQt5kHv",
        "outputId": "ee3a1a59-34a0-414a-e653-a7de8701be11",
        "colab": {
          "base_uri": "https://localhost:8080/",
          "height": 174
        }
      },
      "cell_type": "code",
      "source": [
        "from sklearn.naive_bayes import MultinomialNB\n",
        "from sklearn.feature_extraction.text import CountVectorizer\n",
        "from sklearn.metrics import classification_report\n",
        "vect = CountVectorizer()\n",
        "vect.fit_transform(train.text)\n",
        "vect = CountVectorizer(stop_words='english', token_pattern =u'(?u)\\\\b[^\\\\d\\\\W]\\\\w+\\\\b', max_df=0.8, min_df=2, max_features=2000)\n",
        "vect.fit_transform(train.text)\n",
        "matrix = vect.fit_transform(train.text).toarray()\n",
        "headers = vect.get_feature_names()\n",
        "import pandas as pd\n",
        "term_matrix = pd.DataFrame(matrix, columns=headers)\n",
        "X_train = vect.fit_transform(train.text)\n",
        "y_train = train.sentiment\n",
        "nb = MultinomialNB()\n",
        "nb.fit(X_train, y_train)\n",
        "X_test = vect.transform(test.text)\n",
        "y_test = test.sentiment\n",
        "y_pred = nb.predict(X_test)\n",
        "from sklearn import metrics\n",
        "print(metrics.classification_report(y_test, y_pred))"
      ],
      "execution_count": 0,
      "outputs": [
        {
          "output_type": "stream",
          "text": [
            "              precision    recall  f1-score   support\n",
            "\n",
            "           0       0.79      0.85      0.82       500\n",
            "           1       0.84      0.78      0.81       500\n",
            "\n",
            "   micro avg       0.81      0.81      0.81      1000\n",
            "   macro avg       0.82      0.81      0.81      1000\n",
            "weighted avg       0.82      0.81      0.81      1000\n",
            "\n"
          ],
          "name": "stdout"
        }
      ]
    },
    {
      "metadata": {
        "colab_type": "text",
        "id": "kvTUJjs7yqr-"
      },
      "cell_type": "markdown",
      "source": [
        "You should see the output like this:\n",
        "\n",
        "![](https://github.com/wshuyi/github_pub_img/raw/master/assets/2019-03-25-21-23-45-528500.png)"
      ]
    },
    {
      "metadata": {
        "id": "VezgLVrfqFyW",
        "colab_type": "code",
        "colab": {}
      },
      "cell_type": "code",
      "source": [
        ""
      ],
      "execution_count": 0,
      "outputs": []
    }
  ]
}