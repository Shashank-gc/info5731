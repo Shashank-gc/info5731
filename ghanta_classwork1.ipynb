{
  "nbformat": 4,
  "nbformat_minor": 0,
  "metadata": {
    "colab": {
      "name": "class-work1-info-5731.ipynb",
      "version": "0.3.2",
      "provenance": [],
      "collapsed_sections": [],
      "include_colab_link": true
    },
    "kernelspec": {
      "name": "python3",
      "display_name": "Python 3"
    }
  },
  "cells": [
    {
      "cell_type": "markdown",
      "metadata": {
        "id": "view-in-github",
        "colab_type": "text"
      },
      "source": [
        "<a href=\"https://colab.research.google.com/github/Shashank-gc/info5731/blob/master/class_work1_info_5731.ipynb\" target=\"_parent\"><img src=\"https://colab.research.google.com/assets/colab-badge.svg\" alt=\"Open In Colab\"/></a>"
      ]
    },
    {
      "metadata": {
        "id": "w-DtanqUSpje",
        "colab_type": "text"
      },
      "cell_type": "markdown",
      "source": [
        "# Class Work 1\n",
        "\n",
        "In this class work, you will use Python to extract web links from a real HTML file. The link of the HTML file is [here](https://goo.gl/SqFnUK).\n",
        "\n",
        "The content shown as:\n",
        "\n",
        "![](https://wphoto-1255363720.cosbj.myqcloud.com/2019-01-28-19-01-43-555219.png)\n",
        "\n",
        "In Google Chrome Browser, if you right click the webpage and choose \"View Page Source\",\n",
        "\n",
        "![](https://wphoto-1255363720.cosbj.myqcloud.com/2019-01-28-19-02-29-501273.png)\n",
        "\n",
        "You will see the source HTML content of the file.\n",
        "\n",
        "![](https://wphoto-1255363720.cosbj.myqcloud.com/2019-01-28-19-03-15-544916.png)\n",
        "\n",
        "For those of you who are not familiar with HTML syntax, the web links are double quoted strings following `href=`. Like the ones shown below.\n",
        "\n",
        "![](https://wphoto-1255363720.cosbj.myqcloud.com/2019-01-28-19-06-15-575704.png)\n",
        "\n",
        "\n"
      ]
    },
    {
      "metadata": {
        "id": "UyUEzahz3L7b",
        "colab_type": "text"
      },
      "cell_type": "markdown",
      "source": [
        "To make things easier, in this class work, when we say \"web link\", we **only** refer to those starting with **\"http://\"** or **\"https://\"**."
      ]
    },
    {
      "metadata": {
        "id": "hFUW0ZMkTgVB",
        "colab_type": "text"
      },
      "cell_type": "markdown",
      "source": [
        "There are 5 questions in this classwork. Note the total score of them will be 90. Another 10 points will be given based on the ordering of your submission.\n"
      ]
    },
    {
      "metadata": {
        "id": "xA11rqfQSyuc",
        "colab_type": "text"
      },
      "cell_type": "markdown",
      "source": [
        "Question 1 (15 points): Get the source HTML content, save it to a variable called \"source\", calculate the length of it, and print it out. You can manually copy the content from the web browser. (Though in real cases, you will never do it in this way.)\n",
        "\n",
        "The output should be like this:\n",
        "\n",
        "![](https://wphoto-1255363720.cosbj.myqcloud.com/2019-01-28-19-43-32-891032.png)\n",
        "\n"
      ]
    },
    {
      "metadata": {
        "id": "MhbOAuwOSqCv",
        "colab_type": "code",
        "colab": {}
      },
      "cell_type": "code",
      "source": [
        "# To do: your code here"
      ],
      "execution_count": 0,
      "outputs": []
    },
    {
      "metadata": {
        "id": "AAo2NEkXS4Bi",
        "colab_type": "text"
      },
      "cell_type": "markdown",
      "source": [
        "Question 2 (15 points): Find the **first** web link in this web page, and print it out.\n",
        "\n",
        "The output should be like this:\n",
        "\n",
        "![](https://wphoto-1255363720.cosbj.myqcloud.com/2019-01-28-19-43-53-662577.png)\n",
        "\n"
      ]
    },
    {
      "metadata": {
        "id": "OA2Z3AS1S6Bd",
        "colab_type": "code",
        "colab": {}
      },
      "cell_type": "code",
      "source": [
        "# To do: your code here"
      ],
      "execution_count": 0,
      "outputs": []
    },
    {
      "metadata": {
        "id": "5745sw9aS6nS",
        "colab_type": "text"
      },
      "cell_type": "markdown",
      "source": [
        "Question 3 (20 points): Find the **second** web link in this web page, and print it out.\n",
        "\n",
        "The output should be like this:\n",
        "\n",
        "![](https://wphoto-1255363720.cosbj.myqcloud.com/2019-01-28-19-44-04-926099.png)\n",
        "\n"
      ]
    },
    {
      "metadata": {
        "id": "w8ebA5dDS78A",
        "colab_type": "code",
        "colab": {}
      },
      "cell_type": "code",
      "source": [
        "# To do: your code here"
      ],
      "execution_count": 0,
      "outputs": []
    },
    {
      "metadata": {
        "id": "hyXibSb_S8cL",
        "colab_type": "text"
      },
      "cell_type": "markdown",
      "source": [
        "Question 4 (20 points): Get all the web links from the HTML page, and save them into a list variable `web_links`, and print it out.\n",
        "\n",
        "The output should be like this:\n",
        "\n",
        "![](https://wphoto-1255363720.cosbj.myqcloud.com/2019-01-28-19-44-24-877223.png)\n",
        "\n"
      ]
    },
    {
      "metadata": {
        "id": "NVqQJBUuS9aP",
        "colab_type": "code",
        "colab": {}
      },
      "cell_type": "code",
      "source": [
        "# To do: your code here"
      ],
      "execution_count": 0,
      "outputs": []
    },
    {
      "metadata": {
        "id": "DJHGvPD_S9--",
        "colab_type": "text"
      },
      "cell_type": "markdown",
      "source": [
        "Question 5 (20 points): Count the occurrences of each link, save them into a dictionary variable `link_count`, and print it out.\n",
        "\n",
        "The output should be like this:\n",
        "\n",
        "![](https://wphoto-1255363720.cosbj.myqcloud.com/2019-01-28-19-44-45-966373.png)"
      ]
    },
    {
      "metadata": {
        "id": "zxlVR-YuS-ib",
        "colab_type": "code",
        "colab": {}
      },
      "cell_type": "code",
      "source": [
        "# To do: your code here"
      ],
      "execution_count": 0,
      "outputs": []
    }
  ]
}
