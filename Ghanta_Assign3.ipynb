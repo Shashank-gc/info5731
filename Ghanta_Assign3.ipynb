{
 "cells": [
  {
   "cell_type": "markdown",
   "metadata": {
    "colab_type": "text",
    "id": "9GLEkynozH-d"
   },
   "source": [
    "# Assignment 3\n",
    "\n",
    "In this assignment, you will try to gather information from open data via API and visualize them.\n",
    "\n",
    "We will use the API from wikipedia as an example.\n",
    "\n",
    "Please go to [this web page](https://wikitech.wikimedia.org/wiki/Analytics/AQS/Pageviews), to learn how to get Pageviews of a certain wikipedia page.\n",
    "\n",
    "![](https://github.com/wshuyi/github_pub_img/raw/master/assets/2019-02-13-10-57-35-202134.png)\n",
    "\n",
    "As you can see here, to get a pageview count timeseries of en.wikipedia's article \"[Albert Enstein](https://en.wikipedia.org/wiki/Albert_Einstein)\" for the month of October 2015, you can use the following url with a \"GET\" method.\n",
    "\n",
    "[https://wikimedia.org/api/rest\\_v1/metrics/pageviews/per-article/en.wikipedia/all-access/all-agents/Albert\\_Einstein/daily/2015100100/2015103100](https://wikimedia.org/api/rest_v1/metrics/pageviews/per-article/en.wikipedia/all-access/all-agents/Albert_Einstein/daily/2015100100/2015103100)\n",
    "\n",
    "Your task, is to get Pageviews count timeseries of en.wikipedia's article \"[University of North Texas](https://en.wikipedia.org/wiki/University_of_North_Texas)\" for the month of January 2019.\n",
    "\n",
    "\n",
    "![](https://github.com/wshuyi/github_pub_img/raw/master/assets/2019-02-13-10-57-35-210502.png)\n",
    "\n",
    "Please answer the following questions by putting your code in the corresponding chunks. You can create new code or text chunks if necessary.\n",
    "\n"
   ]
  },
  {
   "cell_type": "markdown",
   "metadata": {
    "colab_type": "text",
    "id": "ySIA8u72zPIc"
   },
   "source": [
    "**Question 1. (20 points)** Make the corresponding url to gather the required data, and save it into a variable called 'url'.\n",
    "\n"
   ]
  },
  {
   "cell_type": "code",
   "execution_count": 2,
   "metadata": {
    "colab": {},
    "colab_type": "code",
    "id": "NDBkVHDlzRtp"
   },
   "outputs": [],
   "source": [
    "url='https://wikimedia.org/api/rest_v1/metrics/pageviews/per-article/en.wikipedia.org/all-access/all-agents/University_of_North_Texas/daily/2019010100/2019013100'"
   ]
  },
  {
   "cell_type": "markdown",
   "metadata": {
    "colab_type": "text",
    "id": "9dQcHDnvzR_m"
   },
   "source": [
    "**Question 2. (20 points)** Call the API by using the url you created in Question 1, and print out the JSON data. (If you are not familiar with JSON format, please follow [this link](https://en.wikipedia.org/wiki/JSON). Also, you can visit [this link](https://www.w3schools.com/python/python_json.asp) to know how to operate on JSON data with Python. )\n",
    "\n",
    "![](https://github.com/wshuyi/github_pub_img/raw/master/assets/2019-02-13-10-57-35-196474.png)\n",
    "\n"
   ]
  },
  {
   "cell_type": "code",
   "execution_count": 7,
   "metadata": {
    "colab": {
     "base_uri": "https://localhost:8080/",
     "height": 55
    },
    "colab_type": "code",
    "id": "UwObkLeozTxU",
    "outputId": "3d433f61-548c-48f3-858a-ec47a9627fe8"
   },
   "outputs": [
    {
     "name": "stdout",
     "output_type": "stream",
     "text": [
      "{'items': [{'project': 'en.wikipedia', 'article': 'University_of_North_Texas', 'granularity': 'daily', 'timestamp': '2019010100', 'access': 'all-access', 'agent': 'all-agents', 'views': 732}, {'project': 'en.wikipedia', 'article': 'University_of_North_Texas', 'granularity': 'daily', 'timestamp': '2019010200', 'access': 'all-access', 'agent': 'all-agents', 'views': 834}, {'project': 'en.wikipedia', 'article': 'University_of_North_Texas', 'granularity': 'daily', 'timestamp': '2019010300', 'access': 'all-access', 'agent': 'all-agents', 'views': 821}, {'project': 'en.wikipedia', 'article': 'University_of_North_Texas', 'granularity': 'daily', 'timestamp': '2019010400', 'access': 'all-access', 'agent': 'all-agents', 'views': 719}, {'project': 'en.wikipedia', 'article': 'University_of_North_Texas', 'granularity': 'daily', 'timestamp': '2019010500', 'access': 'all-access', 'agent': 'all-agents', 'views': 672}, {'project': 'en.wikipedia', 'article': 'University_of_North_Texas', 'granularity': 'daily', 'timestamp': '2019010600', 'access': 'all-access', 'agent': 'all-agents', 'views': 676}, {'project': 'en.wikipedia', 'article': 'University_of_North_Texas', 'granularity': 'daily', 'timestamp': '2019010700', 'access': 'all-access', 'agent': 'all-agents', 'views': 632}, {'project': 'en.wikipedia', 'article': 'University_of_North_Texas', 'granularity': 'daily', 'timestamp': '2019010800', 'access': 'all-access', 'agent': 'all-agents', 'views': 788}, {'project': 'en.wikipedia', 'article': 'University_of_North_Texas', 'granularity': 'daily', 'timestamp': '2019010900', 'access': 'all-access', 'agent': 'all-agents', 'views': 712}, {'project': 'en.wikipedia', 'article': 'University_of_North_Texas', 'granularity': 'daily', 'timestamp': '2019011000', 'access': 'all-access', 'agent': 'all-agents', 'views': 673}, {'project': 'en.wikipedia', 'article': 'University_of_North_Texas', 'granularity': 'daily', 'timestamp': '2019011100', 'access': 'all-access', 'agent': 'all-agents', 'views': 784}, {'project': 'en.wikipedia', 'article': 'University_of_North_Texas', 'granularity': 'daily', 'timestamp': '2019011200', 'access': 'all-access', 'agent': 'all-agents', 'views': 663}, {'project': 'en.wikipedia', 'article': 'University_of_North_Texas', 'granularity': 'daily', 'timestamp': '2019011300', 'access': 'all-access', 'agent': 'all-agents', 'views': 685}, {'project': 'en.wikipedia', 'article': 'University_of_North_Texas', 'granularity': 'daily', 'timestamp': '2019011400', 'access': 'all-access', 'agent': 'all-agents', 'views': 752}, {'project': 'en.wikipedia', 'article': 'University_of_North_Texas', 'granularity': 'daily', 'timestamp': '2019011500', 'access': 'all-access', 'agent': 'all-agents', 'views': 731}, {'project': 'en.wikipedia', 'article': 'University_of_North_Texas', 'granularity': 'daily', 'timestamp': '2019011600', 'access': 'all-access', 'agent': 'all-agents', 'views': 779}, {'project': 'en.wikipedia', 'article': 'University_of_North_Texas', 'granularity': 'daily', 'timestamp': '2019011700', 'access': 'all-access', 'agent': 'all-agents', 'views': 779}, {'project': 'en.wikipedia', 'article': 'University_of_North_Texas', 'granularity': 'daily', 'timestamp': '2019011800', 'access': 'all-access', 'agent': 'all-agents', 'views': 616}, {'project': 'en.wikipedia', 'article': 'University_of_North_Texas', 'granularity': 'daily', 'timestamp': '2019011900', 'access': 'all-access', 'agent': 'all-agents', 'views': 502}, {'project': 'en.wikipedia', 'article': 'University_of_North_Texas', 'granularity': 'daily', 'timestamp': '2019012000', 'access': 'all-access', 'agent': 'all-agents', 'views': 487}, {'project': 'en.wikipedia', 'article': 'University_of_North_Texas', 'granularity': 'daily', 'timestamp': '2019012100', 'access': 'all-access', 'agent': 'all-agents', 'views': 505}, {'project': 'en.wikipedia', 'article': 'University_of_North_Texas', 'granularity': 'daily', 'timestamp': '2019012200', 'access': 'all-access', 'agent': 'all-agents', 'views': 567}, {'project': 'en.wikipedia', 'article': 'University_of_North_Texas', 'granularity': 'daily', 'timestamp': '2019012300', 'access': 'all-access', 'agent': 'all-agents', 'views': 537}, {'project': 'en.wikipedia', 'article': 'University_of_North_Texas', 'granularity': 'daily', 'timestamp': '2019012400', 'access': 'all-access', 'agent': 'all-agents', 'views': 504}, {'project': 'en.wikipedia', 'article': 'University_of_North_Texas', 'granularity': 'daily', 'timestamp': '2019012500', 'access': 'all-access', 'agent': 'all-agents', 'views': 574}, {'project': 'en.wikipedia', 'article': 'University_of_North_Texas', 'granularity': 'daily', 'timestamp': '2019012600', 'access': 'all-access', 'agent': 'all-agents', 'views': 430}, {'project': 'en.wikipedia', 'article': 'University_of_North_Texas', 'granularity': 'daily', 'timestamp': '2019012700', 'access': 'all-access', 'agent': 'all-agents', 'views': 412}, {'project': 'en.wikipedia', 'article': 'University_of_North_Texas', 'granularity': 'daily', 'timestamp': '2019012800', 'access': 'all-access', 'agent': 'all-agents', 'views': 486}, {'project': 'en.wikipedia', 'article': 'University_of_North_Texas', 'granularity': 'daily', 'timestamp': '2019012900', 'access': 'all-access', 'agent': 'all-agents', 'views': 605}, {'project': 'en.wikipedia', 'article': 'University_of_North_Texas', 'granularity': 'daily', 'timestamp': '2019013000', 'access': 'all-access', 'agent': 'all-agents', 'views': 515}, {'project': 'en.wikipedia', 'article': 'University_of_North_Texas', 'granularity': 'daily', 'timestamp': '2019013100', 'access': 'all-access', 'agent': 'all-agents', 'views': 489}]}\n"
     ]
    }
   ],
   "source": [
    "import json\n",
    "import requests\n",
    "a = requests.get(url)\n",
    "b = a.json()\n",
    "print(b)"
   ]
  },
  {
   "cell_type": "markdown",
   "metadata": {
    "colab_type": "text",
    "id": "TNrhAwQLzVII"
   },
   "source": [
    "**Question 3. (20 points)** Load the JSON data into Pandas Dataframe, and show the first five rows.\n",
    "\n",
    "![](https://github.com/wshuyi/github_pub_img/raw/master/assets/2019-02-13-10-57-35-214261.png)\n",
    "\n"
   ]
  },
  {
   "cell_type": "code",
   "execution_count": 8,
   "metadata": {
    "colab": {
     "base_uri": "https://localhost:8080/",
     "height": 203
    },
    "colab_type": "code",
    "id": "ndFJH614zFog",
    "outputId": "6930a0b3-d400-435b-9e7e-ac151d755969"
   },
   "outputs": [
    {
     "data": {
      "text/html": [
       "<div>\n",
       "<style scoped>\n",
       "    .dataframe tbody tr th:only-of-type {\n",
       "        vertical-align: middle;\n",
       "    }\n",
       "\n",
       "    .dataframe tbody tr th {\n",
       "        vertical-align: top;\n",
       "    }\n",
       "\n",
       "    .dataframe thead th {\n",
       "        text-align: right;\n",
       "    }\n",
       "</style>\n",
       "<table border=\"1\" class=\"dataframe\">\n",
       "  <thead>\n",
       "    <tr style=\"text-align: right;\">\n",
       "      <th></th>\n",
       "      <th>access</th>\n",
       "      <th>agent</th>\n",
       "      <th>article</th>\n",
       "      <th>granularity</th>\n",
       "      <th>project</th>\n",
       "      <th>timestamp</th>\n",
       "      <th>views</th>\n",
       "    </tr>\n",
       "  </thead>\n",
       "  <tbody>\n",
       "    <tr>\n",
       "      <th>0</th>\n",
       "      <td>all-access</td>\n",
       "      <td>all-agents</td>\n",
       "      <td>University_of_North_Texas</td>\n",
       "      <td>daily</td>\n",
       "      <td>en.wikipedia</td>\n",
       "      <td>2019010100</td>\n",
       "      <td>732</td>\n",
       "    </tr>\n",
       "    <tr>\n",
       "      <th>1</th>\n",
       "      <td>all-access</td>\n",
       "      <td>all-agents</td>\n",
       "      <td>University_of_North_Texas</td>\n",
       "      <td>daily</td>\n",
       "      <td>en.wikipedia</td>\n",
       "      <td>2019010200</td>\n",
       "      <td>834</td>\n",
       "    </tr>\n",
       "    <tr>\n",
       "      <th>2</th>\n",
       "      <td>all-access</td>\n",
       "      <td>all-agents</td>\n",
       "      <td>University_of_North_Texas</td>\n",
       "      <td>daily</td>\n",
       "      <td>en.wikipedia</td>\n",
       "      <td>2019010300</td>\n",
       "      <td>821</td>\n",
       "    </tr>\n",
       "    <tr>\n",
       "      <th>3</th>\n",
       "      <td>all-access</td>\n",
       "      <td>all-agents</td>\n",
       "      <td>University_of_North_Texas</td>\n",
       "      <td>daily</td>\n",
       "      <td>en.wikipedia</td>\n",
       "      <td>2019010400</td>\n",
       "      <td>719</td>\n",
       "    </tr>\n",
       "    <tr>\n",
       "      <th>4</th>\n",
       "      <td>all-access</td>\n",
       "      <td>all-agents</td>\n",
       "      <td>University_of_North_Texas</td>\n",
       "      <td>daily</td>\n",
       "      <td>en.wikipedia</td>\n",
       "      <td>2019010500</td>\n",
       "      <td>672</td>\n",
       "    </tr>\n",
       "  </tbody>\n",
       "</table>\n",
       "</div>"
      ],
      "text/plain": [
       "       access       agent                    article granularity  \\\n",
       "0  all-access  all-agents  University_of_North_Texas       daily   \n",
       "1  all-access  all-agents  University_of_North_Texas       daily   \n",
       "2  all-access  all-agents  University_of_North_Texas       daily   \n",
       "3  all-access  all-agents  University_of_North_Texas       daily   \n",
       "4  all-access  all-agents  University_of_North_Texas       daily   \n",
       "\n",
       "        project   timestamp  views  \n",
       "0  en.wikipedia  2019010100    732  \n",
       "1  en.wikipedia  2019010200    834  \n",
       "2  en.wikipedia  2019010300    821  \n",
       "3  en.wikipedia  2019010400    719  \n",
       "4  en.wikipedia  2019010500    672  "
      ]
     },
     "execution_count": 8,
     "metadata": {},
     "output_type": "execute_result"
    }
   ],
   "source": [
    "import pandas as pd\n",
    "\n",
    "i = list(b.values())\n",
    "view = pd.DataFrame(i[0])\n",
    "view.head() #head() by default gives the output of first 5 rows we can also mention view.head(5) to get the output."
   ]
  },
  {
   "cell_type": "markdown",
   "metadata": {
    "colab_type": "text",
    "id": "qT1mjIAFzWs5"
   },
   "source": [
    "**Question 4. (20 points)** Figure out the max and min views and corresponding date.\n",
    "\n",
    "![](https://github.com/wshuyi/github_pub_img/raw/master/assets/2019-02-13-10-57-35-195410.png)\n",
    "\n",
    "![](https://github.com/wshuyi/github_pub_img/raw/master/assets/2019-02-13-10-57-35-197160.png)\n",
    "\n"
   ]
  },
  {
   "cell_type": "code",
   "execution_count": 10,
   "metadata": {
    "colab": {
     "base_uri": "https://localhost:8080/",
     "height": 123
    },
    "colab_type": "code",
    "id": "92z6TdkxzX3p",
    "outputId": "242a1904-c7d0-42dc-8fa2-079f2d98b74d"
   },
   "outputs": [
    {
     "name": "stdout",
     "output_type": "stream",
     "text": [
      "timestamp    2019010200\n",
      "views               834\n",
      "Name: 1, dtype: object\n",
      "timestamp    2019012700\n",
      "views               412\n",
      "Name: 26, dtype: object\n"
     ]
    }
   ],
   "source": [
    "df=view[['timestamp', 'views']]\n",
    "max=view['views'].idxmax()\n",
    "min=view['views'].idxmin()\n",
    "print (df.loc[max])\n",
    "print (df.loc[min])"
   ]
  },
  {
   "cell_type": "markdown",
   "metadata": {
    "colab_type": "text",
    "id": "5YNmlvXkzYXC"
   },
   "source": [
    "**Question 5. (20 points)** Plot line chart of Pageviews for the whole month.\n",
    "\n",
    "![](https://github.com/wshuyi/github_pub_img/raw/master/assets/2019-02-13-10-57-35-197005.png)\n"
   ]
  },
  {
   "cell_type": "code",
   "execution_count": 11,
   "metadata": {
    "colab": {
     "base_uri": "https://localhost:8080/",
     "height": 283
    },
    "colab_type": "code",
    "id": "w_SMnicQzY1Q",
    "outputId": "93e90f69-48a0-41a8-be35-e68f2768b8c0"
   },
   "outputs": [
    {
     "data": {
      "text/plain": [
       "<matplotlib.axes._subplots.AxesSubplot at 0x201d9e97828>"
      ]
     },
     "execution_count": 11,
     "metadata": {},
     "output_type": "execute_result"
    },
    {
     "data": {
      "image/png": "[encoded data removed]",
      "text/plain": [
       "<Figure size 432x288 with 1 Axes>"
      ]
     },
     "metadata": {
      "needs_background": "light"
     },
     "output_type": "display_data"
    }
   ],
   "source": [
    "%matplotlib inline\n",
    "view.views.plot()"
   ]
  },
  {
   "cell_type": "code",
   "execution_count": 12,
   "metadata": {
    "colab": {
     "base_uri": "https://localhost:8080/",
     "height": 311
    },
    "colab_type": "code",
    "id": "T6LHf_TQwO9l",
    "outputId": "afbc8dc5-0e86-45ba-cfc5-840191dcc1ba"
   },
   "outputs": [
    {
     "data": {
      "image/png": "[encoded data removed]",
      "text/plain": [
       "<Figure size 432x288 with 1 Axes>"
      ]
     },
     "metadata": {
      "needs_background": "light"
     },
     "output_type": "display_data"
    }
   ],
   "source": [
    "import matplotlib.pyplot as plt\n",
    "view.views.plot()\n",
    "plt.ylabel('views')\n",
    "plt.title('feb', loc='right', y=-0.2)\n",
    "plt.title('Jan 2019', loc='left', y=-0.2)\n",
    "plt.title('date', y=-0.3)\n",
    "plt.xticks([31,7,14,21,28])\n",
    "plt.show()"
   ]
  },
  {
   "cell_type": "code",
   "execution_count": 0,
   "metadata": {
    "colab": {},
    "colab_type": "code",
    "id": "-6_6dLHRuNrO"
   },
   "outputs": [],
   "source": []
  }
 ],
 "metadata": {
  "colab": {
   "collapsed_sections": [],
   "name": "Copy of Assignment 3.ipynb",
   "provenance": [],
   "version": "0.3.2"
  },
  "kernelspec": {
   "display_name": "Python 3",
   "language": "python",
   "name": "python3"
  },
  "language_info": {
   "codemirror_mode": {
    "name": "ipython",
    "version": 3
   },
   "file_extension": ".py",
   "mimetype": "text/x-python",
   "name": "python",
   "nbconvert_exporter": "python",
   "pygments_lexer": "ipython3",
   "version": "3.7.1"
  }
 },
 "nbformat": 4,
 "nbformat_minor": 1
}
